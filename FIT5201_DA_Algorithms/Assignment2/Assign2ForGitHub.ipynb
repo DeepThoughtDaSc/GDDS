{
 "cells": [
  {
   "cell_type": "markdown",
   "metadata": {},
   "source": [
    "# FIT5201: Assessment 2\n",
    "## Linear Models for Regression and Classification\n",
    "\n",
    "## Objectives\n",
    "This assignment assesses your understanding of linear models for regression and classification, covered in Modules 2 and 3. The total marks of this assessment is __100__, and has 30% contribution to your final score.\n",
    "\n",
    "## Important Note\n",
    "* You can complete your assignment using the codes shared in the unit (ie Alexandria and Moodle) and this template as the bases. However, <font color='red'>**you should make sure the codes you are using are correct and relevant to the question**</font>.\n",
    "\n",
    "* Please follow the structure of this template as much as you can.\n",
    "\n",
    "* You can use the prepopulated codes cells or change them if you prefer. However, please do not change the name of the key variables, functions, and parameters eg `rmse`, `lambda`, `train.data`. It helps us to read and understand your submissiont more efficiently."
   ]
  },
  {
   "cell_type": "markdown",
   "metadata": {},
   "source": [
    "## Part A. Ridge Regression\n",
    "In this part, you develop Ridge Regression by adding the $L_2$ norm regularization to the linear regression (covered in Activity __1__ of Module __2__). This part assesses your mathematical (calculating derivatives) and programming skills.\n",
    "\n",
    "### Question 1 [Ridge Regression, 35 Marks]\n",
    "__Q1-1__) Given the gradient descent algorithms for linear regression (discussed in Chapter 2 of Module 2), derive weight update steps of stochastic gradient descent (SGD) as well as batch gradient descent (BGD) for linear regression with $L_2$ regularisation norm. Show your work with enough explanation. Please provide the steps of SGD and BGD, separately.\n",
    "\n",
    "__Hint__: Recall that for linear regression we defined the error function $E$ and set its derivation to zero. For this assignment, you only need to add an $L_2$ regularization term to the error function and set the derivative of both terms (error term plus the regularization term) to zero. This question is similar to Activity __1__ of Module __2__.\n",
    "\n"
   ]
  },
  {
   "cell_type": "markdown",
   "metadata": {},
   "source": [
    "### Background"
   ]
  },
  {
   "cell_type": "markdown",
   "metadata": {},
   "source": [
    "The 'total error function' for ridge regression is composed of the 'error function' and the 'regularization term'.\n",
    "\\begin{aligned}\n",
    "    E(\\mathbf{w}) &= \\frac{1}{2}\\sum_{i=1}^N(t_i - \\hat{t}_i)^2+\\frac{\\lambda}{2}\\sum_{j=1}^M w_j^2 \\\\\n",
    "    &= \\frac{1}{2}\\sum_{i=1}^N (t_i - y(\\mathbf{x}_i,\\mathbf{w}))^2+\\frac{\\lambda}{2}\\sum_{j=1}^M w_j^2 \n",
    "\\end{aligned}\n",
    "\n",
    "We wish to minimize $E(\\mathbf{w})$ by setting $\\nabla E(\\mathbf{w}) = 0$ and solving for $\\mathbf{w}$ but we use the gradient descent algorithm to achieve this.\n",
    "\n",
    "We have\n",
    "\n",
    "\\begin{aligned}\n",
    "    \\frac{\\partial E}{\\partial w_k} &= -\\sum_{i=1}^N (t_i - y(\\mathbf{x}_i,\\mathbf{w}))\\phi_k(\\mathbf{x}_i) + \\lambda w_k \\\\\n",
    "\\end{aligned}\n",
    "\n",
    "Where $y(\\mathbf{x},\\mathbf{w}) = w \\cdot \\phi(\\mathbf{x})$\n",
    "\n",
    "\n",
    "The weight update step with a step-size $\\eta$ for the $k$th dimension in BGD ridge regression is\n",
    "\n",
    "\\begin{aligned}\n",
    "    w^{\\tau +1}_k &= w^{\\tau}_k - \\eta \\frac{\\partial E(\\mathbf{w^{\\tau}})}{\\partial w_k}  \\\\\n",
    "    &= w^{\\tau}_k - \\eta (-\\sum_{i=1}^N (t_i - y(\\mathbf{x}_i,\\mathbf{w}))\\phi_k(\\mathbf{x}_i) + \\lambda w_k ) \\\\\n",
    "    &= (1-\\eta \\lambda ) w^{\\tau}_k + \\eta \\sum_{i=1}^N(t_i - y(\\mathbf{x}_i,\\mathbf{w}))\\phi_k(\\mathbf{x}_i)\n",
    "\\end{aligned}\n",
    "\n",
    " in SGD ridge regression is\n",
    "$$\n",
    "    w^{\\tau +1}_k = (1-\\eta \\lambda ) w^{\\tau}_k + \\eta (t_i - y(\\mathbf{x}_i,\\mathbf{w}))\\phi_k(\\mathbf{x}_i)\n",
    "$$"
   ]
  },
  {
   "cell_type": "markdown",
   "metadata": {},
   "source": [
    "__Q1-2__) Using R (with no use of special libraries), implement SGD and BGD algorithms that you derived in Q1-1. The implementation is straightforward as you are allowed to use the code examples from Activity __1__ in Module __2__.\n"
   ]
  },
  {
   "cell_type": "code",
   "execution_count": 1,
   "metadata": {},
   "outputs": [
    {
     "name": "stderr",
     "output_type": "stream",
     "text": [
      "Warning message:\n",
      "\"package 'ggplot2' was built under R version 3.4.4\"Warning message:\n",
      "\"package 'reshape2' was built under R version 3.4.4\"Warning message:\n",
      "\"package 'gridExtra' was built under R version 3.4.4\""
     ]
    }
   ],
   "source": [
    "library(ggplot2)  # for plotting functions.\n",
    "library(reshape2) # for melt and cast functions\n",
    "library(mvtnorm)  # generates multivariate Gaussian sampels and calculate the densities\n",
    "library(gridExtra) # for grid.arrange()"
   ]
  },
  {
   "cell_type": "code",
   "execution_count": 2,
   "metadata": {
    "collapsed": true
   },
   "outputs": [],
   "source": [
    "# auxiliary function to calculate labels based on the estimated coefficients\n",
    "predict_func <- function(Phi, w){\n",
    "    return(Phi%*%w)\n",
    "} "
   ]
  },
  {
   "cell_type": "code",
   "execution_count": 3,
   "metadata": {
    "collapsed": true
   },
   "outputs": [],
   "source": [
    "#' Calculates the root-mean-squared error\n",
    "#'\n",
    "#' @param a a collection of continuous values\n",
    "#' @param b a collection of continuous values\n",
    "#' @return the root-mean-squared error\n",
    "rmse <- function(a, b) {\n",
    "    errors <- (a-b)\n",
    "    return (sqrt(mean(errors^2)))    \n",
    "}"
   ]
  },
  {
   "cell_type": "code",
   "execution_count": 4,
   "metadata": {
    "collapsed": true
   },
   "outputs": [],
   "source": [
    "# auxiliary function to calculate a cost function\n",
    "error_func <- function (Phi, w, label){\n",
    "    return(rmse(predict_func(Phi, w), label))\n",
    "}"
   ]
  },
  {
   "cell_type": "markdown",
   "metadata": {},
   "source": [
    "Create the Stochastic Gradient Descent function"
   ]
  },
  {
   "cell_type": "code",
   "execution_count": 5,
   "metadata": {
    "collapsed": true
   },
   "outputs": [],
   "source": [
    "#' Trains a Stochastic Gradient Descent (SGD) model\n",
    "#'\n",
    "#' @param train.data the predictors for the training set\n",
    "#' @param train.label the labels for the training set\n",
    "#' @param eta the learning rate\n",
    "#' @param ta.max maximum iterations\n",
    "#' @param lambda regularisation parameter\n",
    "#' @return a list containing:\n",
    "#'   tau - iteration count\n",
    "#'   coeff - optimal coefficients\n",
    "#'   predict - a function that accepts training data and predicts labels using coeff\n",
    "SGD <- function(train.data, train.label, eta = 0.05, tau.max = 20, lambda = 1){\n",
    "    Phi <- as.matrix(cbind('x0'=1, train.data))\n",
    "    W <- matrix(,nrow=tau.max, ncol=ncol(Phi)) # be used to store the estimated coefficients\n",
    "    W[1,] <- 0 # Set the initial weights to 0\n",
    "    T <- train.label  # Makes the code a bit easier to read\n",
    "\n",
    "    train.len <- nrow(train.data)\n",
    "\n",
    "    error <- data.frame('tau'=1:tau.max)  # to be used to trace the test and training errors in each iteration    \n",
    "\n",
    "    tau <- 1    \n",
    "    while (tau < tau.max) {\n",
    "        \n",
    "        # shuffle data:\n",
    "        train.index <- sample(1:train.len, train.len, replace = FALSE)\n",
    "\n",
    "        Phi <- Phi[train.index,]\n",
    "        T <- T[train.index]\n",
    "\n",
    "        for (i in 1:train.len) {\n",
    "            if (tau >= tau.max) {\n",
    "                break;\n",
    "            }\n",
    "            t_pred = predict_func(Phi[i,], W[tau,])\n",
    "            for (j in 1: ncol(W)) {\n",
    "                W[(tau+1),j] <- (1-eta*lambda)*W[tau,j] + eta * (T[i]-t_pred) * Phi[i,j]\n",
    "            }\n",
    "            error[tau, 'RMSE'] <- error_func(Phi, W[tau,], T)\n",
    "\n",
    "            tau <- tau + 1\n",
    "        }        \n",
    "    }\n",
    "    \n",
    "    return(list(\"tau\"=tau, \"coeff\"=W[tau,], \"error\"=error))\n",
    "}"
   ]
  },
  {
   "cell_type": "markdown",
   "metadata": {},
   "source": [
    "Create the Batch Gradient Descent function"
   ]
  },
  {
   "cell_type": "code",
   "execution_count": null,
   "metadata": {
    "collapsed": true
   },
   "outputs": [],
   "source": []
  },
  {
   "cell_type": "code",
   "execution_count": 6,
   "metadata": {
    "collapsed": true
   },
   "outputs": [],
   "source": [
    "#' Trains a Batch Gradient Descent (SGD) model\n",
    "#'\n",
    "#' @param train.data the predictors for the training set\n",
    "#' @param train.label the labels for the training set\n",
    "#' @param eta the learning rate\n",
    "#' @param ta.max maximum iterations\n",
    "#' @param lambda regularisation parameter\n",
    "#' @return a list containing:\n",
    "#'   tau - iteration count\n",
    "#'   coeff - optimal coefficients\n",
    "#'   predict - a function that accepts training data and predicts labels using coeff\n",
    "BGD <- function(train.data, train.label, eta = 0.05, tau.max = 20, lambda = 1) {\n",
    "    Phi <- as.matrix(cbind('x0'=1, train.data))\n",
    "    W <- matrix(,nrow=tau.max+1, ncol=ncol(Phi)) # be used to store the estimated oefficients\n",
    "    W[1,] <- 0 # Set the initial weights to 0\n",
    "    T <- train.label  # Makes the code a bit easier to read\n",
    "\n",
    "    train.len <- nrow(train)\n",
    "\n",
    "    error <- data.frame('tau'=1:tau.max)  # to be used to trace the test and training errors in each iteration    \n",
    "\n",
    "\n",
    "    \n",
    "    for (tau in 1:tau.max) {\n",
    "        \n",
    "        t_pred <- predict_func(Phi, W[tau,])\n",
    "        \n",
    "        for (j in 1: ncol(W)) {\n",
    "            W[(tau+1),j] <- (1-eta*lambda)*W[tau,j] + eta* sum((T-t_pred) * Phi[, j])\n",
    "        }\n",
    "        error[tau, 'RMSE'] <- error_func(Phi, W[tau,], train.label)\n",
    "        \n",
    "    }\n",
    "    return(list(\"tau\"=tau, \"coeff\"=W[tau,], \"error\"=error, \"W\"=W))\n",
    "}"
   ]
  },
  {
   "cell_type": "markdown",
   "metadata": {},
   "source": [
    "__Q1-3__) Now let’s compare SGD and BGD implementations of Ridge regression from Q1-2:\n"
   ]
  },
  {
   "cell_type": "markdown",
   "metadata": {},
   "source": [
    "__Q1-3A__. Load __Task2A_train.csv__ and __Task2A_test.csv__ datasets,\n"
   ]
  },
  {
   "cell_type": "code",
   "execution_count": 7,
   "metadata": {
    "collapsed": true
   },
   "outputs": [],
   "source": [
    "set.seed(1234)\n",
    "\n",
    "# Load training and test data\n",
    "train <- scale(read.csv('../Task2A_train.csv'))\n",
    "test <- scale(read.csv('../Task2A_test.csv'))\n",
    "\n",
    "# Shuffle the training data \n",
    "## (You may need to comment set.seed(1234) if you want to see different results)\n",
    "train <- train[sample(nrow(train)), ]\n",
    "\n",
    "train.data <- subset(train, select = -c(y))\n",
    "train.label <- train[, 'y']\n",
    "test.data <- subset(test, select = -c(y) )\n",
    "test.label <- test[, 'y']"
   ]
  },
  {
   "cell_type": "markdown",
   "metadata": {},
   "source": [
    "__Q1-3B__. Set the termination criterion as maximum of 20 weight updates for BGD, which is equivalent to $20 \\times N$ weight updates for SGD (where $N$ is the number of training data),"
   ]
  },
  {
   "cell_type": "code",
   "execution_count": 8,
   "metadata": {},
   "outputs": [
    {
     "data": {
      "text/html": [
       "930"
      ],
      "text/latex": [
       "930"
      ],
      "text/markdown": [
       "930"
      ],
      "text/plain": [
       "[1] 930"
      ]
     },
     "metadata": {},
     "output_type": "display_data"
    }
   ],
   "source": [
    "N <- nrow(train)\n",
    "N "
   ]
  },
  {
   "cell_type": "code",
   "execution_count": 9,
   "metadata": {},
   "outputs": [
    {
     "data": {
      "text/html": [
       "18600"
      ],
      "text/latex": [
       "18600"
      ],
      "text/markdown": [
       "18600"
      ],
      "text/plain": [
       "[1] 18600"
      ]
     },
     "metadata": {},
     "output_type": "display_data"
    }
   ],
   "source": [
    "bgd.tau.max <- 20\n",
    "sgd.tau.max <- 20 * N\n",
    "sgd.tau.max"
   ]
  },
  {
   "cell_type": "code",
   "execution_count": 10,
   "metadata": {
    "collapsed": true
   },
   "outputs": [],
   "source": [
    "eta <- 0.0005\n",
    "lambda <- 1"
   ]
  },
  {
   "cell_type": "code",
   "execution_count": null,
   "metadata": {
    "collapsed": true
   },
   "outputs": [],
   "source": []
  },
  {
   "cell_type": "markdown",
   "metadata": {},
   "source": [
    "__Q1-3C__. Run your implementations of SGD and BGD while all parameter settings (initial values, learning rate etc.) are exactly the same for both algorithms. During run, record training error rate every time the weights get updated. Create a plot of error rates (use different colors for SGD and BGD), where the x-axis is the number of visited data points and y-axis is the error rate. Note that for every $N$ errors for SGD in the plot, you will only have one error for BGD; the total length of the x-axis will be $20 \\times N$.\n"
   ]
  },
  {
   "cell_type": "markdown",
   "metadata": {},
   "source": [
    "Run the SGD"
   ]
  },
  {
   "cell_type": "code",
   "execution_count": 11,
   "metadata": {
    "collapsed": true
   },
   "outputs": [],
   "source": [
    "results.sgd <- SGD(train.data, train.label, tau.max=sgd.tau.max, eta, lambda)"
   ]
  },
  {
   "cell_type": "markdown",
   "metadata": {},
   "source": [
    "Run the BSD"
   ]
  },
  {
   "cell_type": "code",
   "execution_count": 12,
   "metadata": {
    "collapsed": true
   },
   "outputs": [],
   "source": [
    "results.bgd <- BGD(train.data, train.label, tau.max=bgd.tau.max, eta, lambda)"
   ]
  },
  {
   "cell_type": "markdown",
   "metadata": {},
   "source": [
    "Reshape if neccessary, then plot them."
   ]
  },
  {
   "cell_type": "code",
   "execution_count": 13,
   "metadata": {
    "collapsed": true
   },
   "outputs": [],
   "source": [
    "# Reshape data.frames"
   ]
  },
  {
   "cell_type": "code",
   "execution_count": 14,
   "metadata": {},
   "outputs": [
    {
     "data": {
      "text/html": [
       "18600"
      ],
      "text/latex": [
       "18600"
      ],
      "text/markdown": [
       "18600"
      ],
      "text/plain": [
       "[1] 18600"
      ]
     },
     "metadata": {},
     "output_type": "display_data"
    }
   ],
   "source": [
    "# how many tau values in sgd?\n",
    "nrow(results.sgd$error)"
   ]
  },
  {
   "cell_type": "code",
   "execution_count": 15,
   "metadata": {},
   "outputs": [
    {
     "data": {
      "text/html": [
       "<ol class=list-inline>\n",
       "\t<li>20</li>\n",
       "\t<li>2</li>\n",
       "</ol>\n"
      ],
      "text/latex": [
       "\\begin{enumerate*}\n",
       "\\item 20\n",
       "\\item 2\n",
       "\\end{enumerate*}\n"
      ],
      "text/markdown": [
       "1. 20\n",
       "2. 2\n",
       "\n",
       "\n"
      ],
      "text/plain": [
       "[1] 20  2"
      ]
     },
     "metadata": {},
     "output_type": "display_data"
    }
   ],
   "source": [
    "# how many tau values in bgd?\n",
    "dim(results.bgd$error)"
   ]
  },
  {
   "cell_type": "markdown",
   "metadata": {},
   "source": [
    "Since they are not equal, we will 'scale' each bgd tau value to represent one cycle through all the N training points in SGD:"
   ]
  },
  {
   "cell_type": "code",
   "execution_count": 16,
   "metadata": {
    "collapsed": true
   },
   "outputs": [],
   "source": [
    "bgd.modified.RMSEs <- results.bgd$error\n",
    "bgd.modified.RMSEs[,1] <- bgd.modified.RMSEs[,1]*N"
   ]
  },
  {
   "cell_type": "code",
   "execution_count": 17,
   "metadata": {},
   "outputs": [
    {
     "data": {
      "text/html": [
       "<table>\n",
       "<thead><tr><th></th><th scope=col>tau</th><th scope=col>RMSE</th></tr></thead>\n",
       "<tbody>\n",
       "\t<tr><th scope=row>18</th><td>18       </td><td>0.1261278</td></tr>\n",
       "\t<tr><th scope=row>19</th><td>19       </td><td>0.1259840</td></tr>\n",
       "\t<tr><th scope=row>20</th><td>20       </td><td>0.1258384</td></tr>\n",
       "</tbody>\n",
       "</table>\n"
      ],
      "text/latex": [
       "\\begin{tabular}{r|ll}\n",
       "  & tau & RMSE\\\\\n",
       "\\hline\n",
       "\t18 & 18        & 0.1261278\\\\\n",
       "\t19 & 19        & 0.1259840\\\\\n",
       "\t20 & 20        & 0.1258384\\\\\n",
       "\\end{tabular}\n"
      ],
      "text/markdown": [
       "\n",
       "| <!--/--> | tau | RMSE | \n",
       "|---|---|---|\n",
       "| 18 | 18        | 0.1261278 | \n",
       "| 19 | 19        | 0.1259840 | \n",
       "| 20 | 20        | 0.1258384 | \n",
       "\n",
       "\n"
      ],
      "text/plain": [
       "   tau RMSE     \n",
       "18 18  0.1261278\n",
       "19 19  0.1259840\n",
       "20 20  0.1258384"
      ]
     },
     "metadata": {},
     "output_type": "display_data"
    }
   ],
   "source": [
    "tail(results.bgd$error,3)"
   ]
  },
  {
   "cell_type": "code",
   "execution_count": 18,
   "metadata": {
    "collapsed": true
   },
   "outputs": [],
   "source": [
    "# combine both dataframes together, with a new column to distinguish SGD from BGD values\n",
    "results.combined <-rbind(cbind(results.sgd$error, type = 'SGD'),cbind(bgd.modified.RMSEs, type = 'BGD'))"
   ]
  },
  {
   "cell_type": "markdown",
   "metadata": {},
   "source": [
    "We plot two graphs, first on the SGD $\\tau$ scale (1-18600)  and second on the BGD $\\tau$ scale (1-20), where each integer corresponds to an entire cycle through all training points in SGD."
   ]
  },
  {
   "cell_type": "code",
   "execution_count": 19,
   "metadata": {},
   "outputs": [
    {
     "name": "stderr",
     "output_type": "stream",
     "text": [
      "Warning message:\n",
      "\"Removed 1 rows containing missing values (geom_path).\""
     ]
    },
    {
     "data": {},
     "metadata": {},
     "output_type": "display_data"
    },
    {
     "data": {
      "image/png": "[encoded data removed]",
      "text/plain": [
       "plot without title"
      ]
     },
     "metadata": {},
     "output_type": "display_data"
    }
   ],
   "source": [
    "# Plot the errors on a shared frame\n",
    "options(repr.plot.width=5, repr.plot.height=3.5)\n",
    "ggplot(data=(results.combined), aes(x=(tau), y=(RMSE), colour = type)) +\n",
    "    geom_line() +xlab('tau (SGD)') +\n",
    "    ggtitle('Ridge Regression - BGD versus SGD', subtitle=paste('lambda = ', lambda, \" eta = \", eta)) +\n",
    "    scale_color_discrete(guide = guide_legend(title = 'Method')) + theme_minimal()"
   ]
  },
  {
   "cell_type": "code",
   "execution_count": 20,
   "metadata": {},
   "outputs": [
    {
     "name": "stderr",
     "output_type": "stream",
     "text": [
      "Warning message:\n",
      "\"Removed 1 rows containing missing values (geom_path).\""
     ]
    },
    {
     "data": {},
     "metadata": {},
     "output_type": "display_data"
    },
    {
     "data": {
      "image/png": "[encoded data removed]",
      "text/plain": [
       "plot without title"
      ]
     },
     "metadata": {},
     "output_type": "display_data"
    }
   ],
   "source": [
    "# Plot the errors on a shared frame\n",
    "options(repr.plot.width=5, repr.plot.height=3.5)\n",
    "ggplot(data=(results.combined), aes(x=(tau)/N, y=(RMSE), colour = type)) +\n",
    "    geom_line() + xlab('tau (BGD)')+\n",
    "    ggtitle('Ridge Regression - BGD versus SGD', subtitle=paste('lambda = ', lambda, \" eta = \", eta)) +\n",
    "    scale_color_discrete(guide = guide_legend(title = 'Method')) + theme_minimal()"
   ]
  },
  {
   "cell_type": "markdown",
   "metadata": {},
   "source": [
    "__Q1-3D__. Explain your observation based on the errors plot you generated in Part C. Particularly, discuss the convergence speed and the fluctuations you see in the error trends."
   ]
  },
  {
   "cell_type": "markdown",
   "metadata": {},
   "source": [
    "For this discussion it seems more meaningful/intuitive to compare the models based on the BGD tau scale (1-20).\n",
    "\n",
    "Hence each BGD tau incriment will be called a 'cycle'.\n",
    "\n",
    "__ Observations__\n",
    "\n",
    "The SGD model  converges to a minimum RMSE of approx 0.25 around $\\tau \\approx 3$ (ie 3 full cycles).\n",
    "\n",
    "The BGD model converges to a minimum RMSE of approx 0.125 around $\\tau \\approx 12$ (ie 12 full cycles).\n",
    "\n",
    "__ Convergence Speed__\n",
    "\n",
    "Hence, for processing the same number of data points, the SGD appears to converge much faster in two senses. \n",
    "\n",
    "- Firstly SGD converges to the value of 0.25 about twice as quickly as BGD (approx 3 cycles for SGD vs approx 6 cycles for BGD). This value was the minimum RMSE for SGD\n",
    "- Secondly SGD converges to its minimum RMSE (approx 0.25) much quicker (approx 4 times) than BGD converges to its minimum RMSE (approx 0.125)\n",
    "\n",
    "\n",
    "__ Convergence Depth __\n",
    "\n",
    "The minimum RMSE for BGD was approx half the minimum RMSE for SGD (approx 0.125 for BGD vs approx 0.25 for SGD). This suggests that there was some irretrievable useful information lost when computing the $\\nabla E$ in SGD with a single data point at a time, as opposed to using all available data, where data fluctuations will combine and partially cancel out within the gradient summation. Perhaps this level of detail could be recovered by using a smaller learning rate $\\eta$ for SGD, but then it would lose its advantage over BGD and may take longer overall.\n",
    "\n",
    "__ Fluctuations__\n",
    "\n",
    "It is visually quite clear that the BGD is very close to smooth, ie few if any fluctuations, whereas the SGD curve has a noticeable ammount of fluctuation once it has converged to the approximate local minimum. Given that the BGD curve verifies the actual minimum to be much lower, this suggests that the learning rate used in SGD was too high and so the algorithm got stuck when it was relatively close to the minimum (approx 0.25) ie each update to the weights changed their magnitude too much to properly converge any closer to the true value. \n",
    "\n",
    "__ Conclusion__\n",
    "\n",
    "The long standing comparison between BGD and SGD was validated here, namely that SGD converges to a minimum quicker than BGD so is useful for a rough ('quick and dirty') first approximation, however there are more fluctuations in error, particularly once it has reached the minimum, whereas the gradient computed in BGD is able to mostly combine and remove the fluctuations and can converge to a lower minimum error for a higher step size."
   ]
  },
  {
   "cell_type": "markdown",
   "metadata": {},
   "source": [
    "## Part B. Bias-Variance Analysis\n",
    "In this part, you conduct a bias-variance study on the Ridge regression that you have developed in Part A. This task assesses your analytical skills, and is based on Chapter 6 of Module 2. You basically recreate Figure 2.6.3 of Module 2 using your implementation of Ridge regression (with SGD) from Part A.\n",
    "\n",
    "### Question 2 [Bias-Variance for Ridge Regression, 30 Marks]\n",
    "__2A__. Load __Task2B_train.csv__ and __Task2B_test.csv__ sets,\n",
    "\n"
   ]
  },
  {
   "cell_type": "code",
   "execution_count": 21,
   "metadata": {
    "collapsed": true
   },
   "outputs": [],
   "source": [
    "set.seed(1234)\n",
    "\n",
    "# Load training and test data\n",
    "train <- scale(read.csv('../Task2B_train.csv'))\n",
    "test <- scale(read.csv('../Task2B_test.csv'))\n",
    "\n",
    "train.data <- subset(train, select = -c(y))\n",
    "train.label <- train[, 'y', drop=FALSE]\n",
    "\n",
    "test.data <- subset(test, select = -c(y))\n",
    "test.label <- test[, 'y', drop=FALSE]\n",
    "\n",
    "train.len <- nrow(train)\n",
    "test.len <- nrow(test)"
   ]
  },
  {
   "cell_type": "code",
   "execution_count": 22,
   "metadata": {},
   "outputs": [
    {
     "data": {
      "text/html": [
       "930"
      ],
      "text/latex": [
       "930"
      ],
      "text/markdown": [
       "930"
      ],
      "text/plain": [
       "[1] 930"
      ]
     },
     "metadata": {},
     "output_type": "display_data"
    },
    {
     "data": {
      "text/html": [
       "930"
      ],
      "text/latex": [
       "930"
      ],
      "text/markdown": [
       "930"
      ],
      "text/plain": [
       "[1] 930"
      ]
     },
     "metadata": {},
     "output_type": "display_data"
    }
   ],
   "source": [
    "train.len\n",
    "test.len"
   ]
  },
  {
   "cell_type": "markdown",
   "metadata": {
    "collapsed": true
   },
   "source": [
    "__2B__. Sample 50 sets from the provided training set, each of which having 100 randomly selected data points (with replacement).\n",
    "\n"
   ]
  },
  {
   "cell_type": "code",
   "execution_count": 23,
   "metadata": {
    "collapsed": true
   },
   "outputs": [],
   "source": [
    "L <- 50 # Number of sets\n",
    "sample.size <- 100\n",
    "samples <- t(replicate(L, sample(1:train.len, sample.size, replace=TRUE), simplify=\"matrix\"))"
   ]
  },
  {
   "cell_type": "code",
   "execution_count": 24,
   "metadata": {},
   "outputs": [
    {
     "data": {
      "text/html": [
       "<table>\n",
       "<tbody>\n",
       "\t<tr><td>106</td><td>579</td><td>567</td><td>580</td><td>801</td><td>596</td><td>  9</td><td>217</td><td>620</td><td>479</td><td>...</td><td>155</td><td>838</td><td>125</td><td>123</td><td> 98</td><td>476</td><td>280</td><td> 25</td><td>288</td><td>691</td></tr>\n",
       "\t<tr><td> 33</td><td>526</td><td>261</td><td>190</td><td>125</td><td>303</td><td>145</td><td>121</td><td>406</td><td> 36</td><td>...</td><td>595</td><td>924</td><td>120</td><td>822</td><td>754</td><td>765</td><td>777</td><td>682</td><td>915</td><td>595</td></tr>\n",
       "\t<tr><td>615</td><td>492</td><td>296</td><td>715</td><td>490</td><td>682</td><td>287</td><td>376</td><td>191</td><td>917</td><td>...</td><td>610</td><td>385</td><td>886</td><td>227</td><td>567</td><td>705</td><td>646</td><td>108</td><td>592</td><td>288</td></tr>\n",
       "</tbody>\n",
       "</table>\n"
      ],
      "text/latex": [
       "\\begin{tabular}{llllllllllllllllllllllllllllllllllllllllllllllllllllllllllllllllllllllllllllllllllllllllllllllllllll}\n",
       "\t 106 & 579 & 567 & 580 & 801 & 596 &   9 & 217 & 620 & 479 & ... & 155 & 838 & 125 & 123 &  98 & 476 & 280 &  25 & 288 & 691\\\\\n",
       "\t  33 & 526 & 261 & 190 & 125 & 303 & 145 & 121 & 406 &  36 & ... & 595 & 924 & 120 & 822 & 754 & 765 & 777 & 682 & 915 & 595\\\\\n",
       "\t 615 & 492 & 296 & 715 & 490 & 682 & 287 & 376 & 191 & 917 & ... & 610 & 385 & 886 & 227 & 567 & 705 & 646 & 108 & 592 & 288\\\\\n",
       "\\end{tabular}\n"
      ],
      "text/markdown": [
       "\n",
       "| 106 | 579 | 567 | 580 | 801 | 596 |   9 | 217 | 620 | 479 | ... | 155 | 838 | 125 | 123 |  98 | 476 | 280 |  25 | 288 | 691 | \n",
       "|  33 | 526 | 261 | 190 | 125 | 303 | 145 | 121 | 406 |  36 | ... | 595 | 924 | 120 | 822 | 754 | 765 | 777 | 682 | 915 | 595 | \n",
       "| 615 | 492 | 296 | 715 | 490 | 682 | 287 | 376 | 191 | 917 | ... | 610 | 385 | 886 | 227 | 567 | 705 | 646 | 108 | 592 | 288 | \n",
       "\n",
       "\n"
      ],
      "text/plain": [
       "     [,1] [,2] [,3] [,4] [,5] [,6] [,7] [,8] [,9] [,10] [,11] [,12] [,13] [,14]\n",
       "[1,] 106  579  567  580  801  596    9  217  620  479   ...   155   838   125  \n",
       "[2,]  33  526  261  190  125  303  145  121  406   36   ...   595   924   120  \n",
       "[3,] 615  492  296  715  490  682  287  376  191  917   ...   610   385   886  \n",
       "     [,15] [,16] [,17] [,18] [,19] [,20] [,21]\n",
       "[1,] 123    98   476   280    25   288   691  \n",
       "[2,] 822   754   765   777   682   915   595  \n",
       "[3,] 227   567   705   646   108   592   288  "
      ]
     },
     "metadata": {},
     "output_type": "display_data"
    }
   ],
   "source": [
    "samples[1:3,]"
   ]
  },
  {
   "cell_type": "code",
   "execution_count": 25,
   "metadata": {
    "collapsed": true
   },
   "outputs": [],
   "source": [
    "lambda.values <- seq(0, 5, by=0.2)\n",
    "M <- length(lambda.values) # Number of models of complexity"
   ]
  },
  {
   "cell_type": "markdown",
   "metadata": {},
   "source": [
    "__2C__. For each $\\lambda$ in $\\{0, 0.2, 0.4, 0.6, \\ldots, 5\\}$ do:\n",
    "\n",
    "1. Build 50 regression models using the sampled sets\n",
    "\n",
    "2. Based on the predictions of these models on the testset, calculate the (average) test error, variance, $(\\text{bias})^2$, and  $\\text{variance } +(\\text{ bias})^2$.\n",
    "\n",
    "Plot the (average) test error, variance, $(\\text{bias})^2$, and $\\text{variance } +(\\text{ bias})^2$ versus $\\log (\\lambda)$.\n"
   ]
  },
  {
   "cell_type": "code",
   "execution_count": 26,
   "metadata": {
    "collapsed": true
   },
   "outputs": [],
   "source": [
    "# Build the models\n",
    "y <- data.frame(matrix(0,nrow=L*M, ncol=test.len+2))\n",
    "names(y) <- c('m', 'l',  paste('y',1:(test.len), sep=''))\n",
    "y$m <- rep(lambda.values, 1, each = L)\n",
    "y$l <- rep(1:L, M, each = 1)"
   ]
  },
  {
   "cell_type": "code",
   "execution_count": 27,
   "metadata": {},
   "outputs": [
    {
     "data": {
      "text/html": [
       "<table>\n",
       "<thead><tr><th></th><th scope=col>m</th><th scope=col>l</th><th scope=col>y1</th><th scope=col>y2</th><th scope=col>y3</th><th scope=col>y4</th><th scope=col>y5</th><th scope=col>y6</th><th scope=col>y7</th><th scope=col>y8</th><th scope=col>...</th><th scope=col>y921</th><th scope=col>y922</th><th scope=col>y923</th><th scope=col>y924</th><th scope=col>y925</th><th scope=col>y926</th><th scope=col>y927</th><th scope=col>y928</th><th scope=col>y929</th><th scope=col>y930</th></tr></thead>\n",
       "<tbody>\n",
       "\t<tr><th scope=row>1298</th><td>5  </td><td>48 </td><td>0  </td><td>0  </td><td>0  </td><td>0  </td><td>0  </td><td>0  </td><td>0  </td><td>0  </td><td>...</td><td>0  </td><td>0  </td><td>0  </td><td>0  </td><td>0  </td><td>0  </td><td>0  </td><td>0  </td><td>0  </td><td>0  </td></tr>\n",
       "\t<tr><th scope=row>1299</th><td>5  </td><td>49 </td><td>0  </td><td>0  </td><td>0  </td><td>0  </td><td>0  </td><td>0  </td><td>0  </td><td>0  </td><td>...</td><td>0  </td><td>0  </td><td>0  </td><td>0  </td><td>0  </td><td>0  </td><td>0  </td><td>0  </td><td>0  </td><td>0  </td></tr>\n",
       "\t<tr><th scope=row>1300</th><td>5  </td><td>50 </td><td>0  </td><td>0  </td><td>0  </td><td>0  </td><td>0  </td><td>0  </td><td>0  </td><td>0  </td><td>...</td><td>0  </td><td>0  </td><td>0  </td><td>0  </td><td>0  </td><td>0  </td><td>0  </td><td>0  </td><td>0  </td><td>0  </td></tr>\n",
       "</tbody>\n",
       "</table>\n"
      ],
      "text/latex": [
       "\\begin{tabular}{r|llllllllllllllllllllllllllllllllllllllllllllllllllllllllllllllllllllllllllllllllllllllllllllllllllllllllllllllllllllllllllllllllllllllllllllllllllllllllllllllllllllllllllllllllllllllllllllllllllllllllllllllllllllllllllllllllllllllllllllllllllllllllllllllllllllllllllllllllllllllllllllllllllllllllllllllllllllllllllllllllllllllllllllllllllllllllllllllllllllllllllllllllllllllllllllllllllllllllllllllllllllllllllllllllllllllllllllllllllllllllllllllllllllllllllllllllllllllllllllllllllllllllllllllllllllllllllllllllllllllllllllllllllllllllllllllllllllllllllllllllllllllllllllllllllllllllllllllllllllllllllllllllllllllllllllllllllllllllllllllllllllllllllllllllllllllllllllllllllllllllllllllllllllllllllllllllllllllllllllllllllllllllllllllllllllllllllllllllllllllllllllllllllllllllllllllllllllllllllllllllllllllllllllllllllllllllllllllllllllllllllllllllllllllllllllllllllllllllllllllllllllllllllllllllllllllllllllllllllllllllllllllllllll}\n",
       "  & m & l & y1 & y2 & y3 & y4 & y5 & y6 & y7 & y8 & ... & y921 & y922 & y923 & y924 & y925 & y926 & y927 & y928 & y929 & y930\\\\\n",
       "\\hline\n",
       "\t1298 & 5   & 48  & 0   & 0   & 0   & 0   & 0   & 0   & 0   & 0   & ... & 0   & 0   & 0   & 0   & 0   & 0   & 0   & 0   & 0   & 0  \\\\\n",
       "\t1299 & 5   & 49  & 0   & 0   & 0   & 0   & 0   & 0   & 0   & 0   & ... & 0   & 0   & 0   & 0   & 0   & 0   & 0   & 0   & 0   & 0  \\\\\n",
       "\t1300 & 5   & 50  & 0   & 0   & 0   & 0   & 0   & 0   & 0   & 0   & ... & 0   & 0   & 0   & 0   & 0   & 0   & 0   & 0   & 0   & 0  \\\\\n",
       "\\end{tabular}\n"
      ],
      "text/markdown": [
       "\n",
       "| <!--/--> | m | l | y1 | y2 | y3 | y4 | y5 | y6 | y7 | y8 | ... | y921 | y922 | y923 | y924 | y925 | y926 | y927 | y928 | y929 | y930 | \n",
       "|---|---|---|\n",
       "| 1298 | 5   | 48  | 0   | 0   | 0   | 0   | 0   | 0   | 0   | 0   | ... | 0   | 0   | 0   | 0   | 0   | 0   | 0   | 0   | 0   | 0   | \n",
       "| 1299 | 5   | 49  | 0   | 0   | 0   | 0   | 0   | 0   | 0   | 0   | ... | 0   | 0   | 0   | 0   | 0   | 0   | 0   | 0   | 0   | 0   | \n",
       "| 1300 | 5   | 50  | 0   | 0   | 0   | 0   | 0   | 0   | 0   | 0   | ... | 0   | 0   | 0   | 0   | 0   | 0   | 0   | 0   | 0   | 0   | \n",
       "\n",
       "\n"
      ],
      "text/plain": [
       "     m l  y1 y2 y3 y4 y5 y6 y7 y8 ... y921 y922 y923 y924 y925 y926 y927 y928\n",
       "1298 5 48 0  0  0  0  0  0  0  0  ... 0    0    0    0    0    0    0    0   \n",
       "1299 5 49 0  0  0  0  0  0  0  0  ... 0    0    0    0    0    0    0    0   \n",
       "1300 5 50 0  0  0  0  0  0  0  0  ... 0    0    0    0    0    0    0    0   \n",
       "     y929 y930\n",
       "1298 0    0   \n",
       "1299 0    0   \n",
       "1300 0    0   "
      ]
     },
     "metadata": {},
     "output_type": "display_data"
    }
   ],
   "source": [
    "tail(y,3)"
   ]
  },
  {
   "cell_type": "markdown",
   "metadata": {},
   "source": [
    "Before we run it on the whole set of boostrap samples l = 1...50, try it on four to tweak the SGD parameters:"
   ]
  },
  {
   "cell_type": "code",
   "execution_count": 28,
   "metadata": {},
   "outputs": [
    {
     "name": "stdout",
     "output_type": "stream",
     "text": [
      "[1] 1\n",
      "[1] 2\n",
      "[1] 3\n",
      "[1] 4\n"
     ]
    }
   ],
   "source": [
    "list.of.temp.plots <- list()\n",
    "temp.plot.counter <-1\n",
    "\n",
    "for (l in 1:4){ # for each dataset - we're testing it L times (i.e. 100 times)\n",
    "    indx <- samples[l,]\n",
    "    print(l)\n",
    "    flush.console()\n",
    "    for (m in lambda.values){ # for each degree of polynomial (model complexity)...\n",
    "        #print(m)\n",
    "        #print(train.data[indx,])\n",
    "        \n",
    "        results.sgd.boostrap <- SGD(train.data[indx,], train.label[indx], tau.max=5*length(indx), eta = 0.01, lambda = m)\n",
    "        \n",
    "        \n",
    "        list.of.temp.plots[[temp.plot.counter]] <- ggplot(data=(results.sgd.boostrap$error), \n",
    "                                                          aes(x=(tau), y=(RMSE), colour = 'red')) +\n",
    "            geom_line() +xlab('tau (SGD)') +\n",
    "            ggtitle('Ridge Regression - BGD versus SGD') +\n",
    "            scale_color_discrete(guide = guide_legend(title = 'Method')) + theme_minimal()\n",
    "        \n",
    "        temp.plot.counter <- temp.plot.counter+1\n",
    "    }   \n",
    "}"
   ]
  },
  {
   "cell_type": "code",
   "execution_count": 29,
   "metadata": {},
   "outputs": [
    {
     "name": "stderr",
     "output_type": "stream",
     "text": [
      "Warning message:\n",
      "\"Removed 1 rows containing missing values (geom_path).\"Warning message:\n",
      "\"Removed 1 rows containing missing values (geom_path).\"Warning message:\n",
      "\"Removed 1 rows containing missing values (geom_path).\"Warning message:\n",
      "\"Removed 1 rows containing missing values (geom_path).\""
     ]
    },
    {
     "data": {
      "image/png": "[encoded data removed]",
      "text/plain": [
       "plot without title"
      ]
     },
     "metadata": {},
     "output_type": "display_data"
    }
   ],
   "source": [
    "options(repr.plot.width=10, repr.plot.height=5)\n",
    "grid.arrange(list.of.temp.plots[[1]],\n",
    "             list.of.temp.plots[[2]],\n",
    "             list.of.temp.plots[[3]],\n",
    "             list.of.temp.plots[[4]],\n",
    "             ncol=2\n",
    "            )"
   ]
  },
  {
   "cell_type": "markdown",
   "metadata": {},
   "source": [
    "The following graphs, with good convergent SGD curves, were obtained by experimenting with the learning rate $\\eta$ and tau.max.\n",
    "\n",
    "Initially tau.max was set very high, eg 10 x length(indx) or 20 x length(indx) where length(index) = 100 (size of boostrap sample)\n",
    "\n",
    "Then eta = 0.01 was decided via experimentation. If eta = 0.1 the curve fluctuates too much and doesn' converge. For eta = 0.01, it converges very (too)  slowly.\n",
    "\n",
    "Then it was observed that for eta = 0.1, the curves converged around tau = 500 , so we set tau.max=5*length(indx)"
   ]
  },
  {
   "cell_type": "code",
   "execution_count": null,
   "metadata": {
    "collapsed": true
   },
   "outputs": [],
   "source": []
  },
  {
   "cell_type": "code",
   "execution_count": 30,
   "metadata": {},
   "outputs": [
    {
     "name": "stdout",
     "output_type": "stream",
     "text": [
      "[1] 1\n",
      "[1] 2\n",
      "[1] 3\n",
      "[1] 4\n",
      "[1] 5\n",
      "[1] 6\n",
      "[1] 7\n",
      "[1] 8\n",
      "[1] 9\n",
      "[1] 10\n",
      "[1] 11\n",
      "[1] 12\n",
      "[1] 13\n",
      "[1] 14\n",
      "[1] 15\n",
      "[1] 16\n",
      "[1] 17\n",
      "[1] 18\n",
      "[1] 19\n",
      "[1] 20\n",
      "[1] 21\n",
      "[1] 22\n",
      "[1] 23\n",
      "[1] 24\n",
      "[1] 25\n",
      "[1] 26\n",
      "[1] 27\n",
      "[1] 28\n",
      "[1] 29\n",
      "[1] 30\n",
      "[1] 31\n",
      "[1] 32\n",
      "[1] 33\n",
      "[1] 34\n",
      "[1] 35\n",
      "[1] 36\n",
      "[1] 37\n",
      "[1] 38\n",
      "[1] 39\n",
      "[1] 40\n",
      "[1] 41\n",
      "[1] 42\n",
      "[1] 43\n",
      "[1] 44\n",
      "[1] 45\n",
      "[1] 46\n",
      "[1] 47\n",
      "[1] 48\n",
      "[1] 49\n",
      "[1] 50\n"
     ]
    }
   ],
   "source": [
    "for (l in 1:L){ # for each dataset - we're testing it L times (i.e. 100 times)\n",
    "    indx <- samples[l,]\n",
    "    print(l)\n",
    "    flush.console()\n",
    "    for (m in lambda.values){ # for each degree of polynomial (model complexity)...\n",
    "        #print(m)\n",
    "        #print(train.data[indx,])\n",
    "        \n",
    "        results.sgd.boostrap <- SGD(train.data[indx,], train.label[indx], tau.max=5*length(indx), eta = 0.01, lambda = m)\n",
    "        coeff <- results.sgd.boostrap$coeff\n",
    "        \n",
    "        y[y$m==m & y$l==l, -c(1,2)] <- predict_func(Phi=as.matrix(cbind('x0'=1, test.data)),w=coeff) \n",
    "        \n",
    "        #print(round(coeff),2)\n",
    "    }   \n",
    "}"
   ]
  },
  {
   "cell_type": "code",
   "execution_count": 31,
   "metadata": {},
   "outputs": [
    {
     "data": {
      "text/html": [
       "<table>\n",
       "<thead><tr><th scope=col>m</th><th scope=col>l</th><th scope=col>y1</th><th scope=col>y2</th><th scope=col>y3</th><th scope=col>y4</th><th scope=col>y5</th><th scope=col>y6</th><th scope=col>y7</th><th scope=col>y8</th><th scope=col>...</th><th scope=col>y921</th><th scope=col>y922</th><th scope=col>y923</th><th scope=col>y924</th><th scope=col>y925</th><th scope=col>y926</th><th scope=col>y927</th><th scope=col>y928</th><th scope=col>y929</th><th scope=col>y930</th></tr></thead>\n",
       "<tbody>\n",
       "\t<tr><td>0        </td><td>1        </td><td>-1.197500</td><td>-1.209331</td><td>-1.210692</td><td>-1.183136</td><td>-1.179525</td><td>-1.177290</td><td>-1.178884</td><td>-1.175452</td><td>...      </td><td>2.896165 </td><td>2.805489 </td><td>2.691999 </td><td>2.704979 </td><td>2.749512 </td><td>2.663592 </td><td>2.539442 </td><td>2.494092 </td><td>2.460900 </td><td>2.509931 </td></tr>\n",
       "\t<tr><td>0        </td><td>2        </td><td>-1.174181</td><td>-1.184005</td><td>-1.185424</td><td>-1.160469</td><td>-1.156785</td><td>-1.154485</td><td>-1.155876</td><td>-1.152736</td><td>...      </td><td>2.747148 </td><td>2.663408 </td><td>2.558251 </td><td>2.571395 </td><td>2.613229 </td><td>2.536061 </td><td>2.419694 </td><td>2.377212 </td><td>2.345228 </td><td>2.390364 </td></tr>\n",
       "\t<tr><td>0        </td><td>3        </td><td>-1.200295</td><td>-1.212088</td><td>-1.213363</td><td>-1.185932</td><td>-1.182350</td><td>-1.180139</td><td>-1.181704</td><td>-1.178229</td><td>...      </td><td>2.887626 </td><td>2.797827 </td><td>2.685448 </td><td>2.698053 </td><td>2.742033 </td><td>2.656530 </td><td>2.533872 </td><td>2.489110 </td><td>2.456466 </td><td>2.505177 </td></tr>\n",
       "</tbody>\n",
       "</table>\n"
      ],
      "text/latex": [
       "\\begin{tabular}{r|llllllllllllllllllllllllllllllllllllllllllllllllllllllllllllllllllllllllllllllllllllllllllllllllllllllllllllllllllllllllllllllllllllllllllllllllllllllllllllllllllllllllllllllllllllllllllllllllllllllllllllllllllllllllllllllllllllllllllllllllllllllllllllllllllllllllllllllllllllllllllllllllllllllllllllllllllllllllllllllllllllllllllllllllllllllllllllllllllllllllllllllllllllllllllllllllllllllllllllllllllllllllllllllllllllllllllllllllllllllllllllllllllllllllllllllllllllllllllllllllllllllllllllllllllllllllllllllllllllllllllllllllllllllllllllllllllllllllllllllllllllllllllllllllllllllllllllllllllllllllllllllllllllllllllllllllllllllllllllllllllllllllllllllllllllllllllllllllllllllllllllllllllllllllllllllllllllllllllllllllllllllllllllllllllllllllllllllllllllllllllllllllllllllllllllllllllllllllllllllllllllllllllllllllllllllllllllllllllllllllllllllllllllllllllllllllllllllllllllllllllllllllllllllllllllllllllllllllllllllllllllllllllll}\n",
       " m & l & y1 & y2 & y3 & y4 & y5 & y6 & y7 & y8 & ... & y921 & y922 & y923 & y924 & y925 & y926 & y927 & y928 & y929 & y930\\\\\n",
       "\\hline\n",
       "\t 0         & 1         & -1.197500 & -1.209331 & -1.210692 & -1.183136 & -1.179525 & -1.177290 & -1.178884 & -1.175452 & ...       & 2.896165  & 2.805489  & 2.691999  & 2.704979  & 2.749512  & 2.663592  & 2.539442  & 2.494092  & 2.460900  & 2.509931 \\\\\n",
       "\t 0         & 2         & -1.174181 & -1.184005 & -1.185424 & -1.160469 & -1.156785 & -1.154485 & -1.155876 & -1.152736 & ...       & 2.747148  & 2.663408  & 2.558251  & 2.571395  & 2.613229  & 2.536061  & 2.419694  & 2.377212  & 2.345228  & 2.390364 \\\\\n",
       "\t 0         & 3         & -1.200295 & -1.212088 & -1.213363 & -1.185932 & -1.182350 & -1.180139 & -1.181704 & -1.178229 & ...       & 2.887626  & 2.797827  & 2.685448  & 2.698053  & 2.742033  & 2.656530  & 2.533872  & 2.489110  & 2.456466  & 2.505177 \\\\\n",
       "\\end{tabular}\n"
      ],
      "text/markdown": [
       "\n",
       "m | l | y1 | y2 | y3 | y4 | y5 | y6 | y7 | y8 | ... | y921 | y922 | y923 | y924 | y925 | y926 | y927 | y928 | y929 | y930 | \n",
       "|---|---|---|\n",
       "| 0         | 1         | -1.197500 | -1.209331 | -1.210692 | -1.183136 | -1.179525 | -1.177290 | -1.178884 | -1.175452 | ...       | 2.896165  | 2.805489  | 2.691999  | 2.704979  | 2.749512  | 2.663592  | 2.539442  | 2.494092  | 2.460900  | 2.509931  | \n",
       "| 0         | 2         | -1.174181 | -1.184005 | -1.185424 | -1.160469 | -1.156785 | -1.154485 | -1.155876 | -1.152736 | ...       | 2.747148  | 2.663408  | 2.558251  | 2.571395  | 2.613229  | 2.536061  | 2.419694  | 2.377212  | 2.345228  | 2.390364  | \n",
       "| 0         | 3         | -1.200295 | -1.212088 | -1.213363 | -1.185932 | -1.182350 | -1.180139 | -1.181704 | -1.178229 | ...       | 2.887626  | 2.797827  | 2.685448  | 2.698053  | 2.742033  | 2.656530  | 2.533872  | 2.489110  | 2.456466  | 2.505177  | \n",
       "\n",
       "\n"
      ],
      "text/plain": [
       "  m l y1        y2        y3        y4        y5        y6        y7       \n",
       "1 0 1 -1.197500 -1.209331 -1.210692 -1.183136 -1.179525 -1.177290 -1.178884\n",
       "2 0 2 -1.174181 -1.184005 -1.185424 -1.160469 -1.156785 -1.154485 -1.155876\n",
       "3 0 3 -1.200295 -1.212088 -1.213363 -1.185932 -1.182350 -1.180139 -1.181704\n",
       "  y8        ... y921     y922     y923     y924     y925     y926     y927    \n",
       "1 -1.175452 ... 2.896165 2.805489 2.691999 2.704979 2.749512 2.663592 2.539442\n",
       "2 -1.152736 ... 2.747148 2.663408 2.558251 2.571395 2.613229 2.536061 2.419694\n",
       "3 -1.178229 ... 2.887626 2.797827 2.685448 2.698053 2.742033 2.656530 2.533872\n",
       "  y928     y929     y930    \n",
       "1 2.494092 2.460900 2.509931\n",
       "2 2.377212 2.345228 2.390364\n",
       "3 2.489110 2.456466 2.505177"
      ]
     },
     "metadata": {},
     "output_type": "display_data"
    }
   ],
   "source": [
    "head(y,3)"
   ]
  },
  {
   "cell_type": "code",
   "execution_count": 32,
   "metadata": {},
   "outputs": [
    {
     "data": {
      "text/html": [
       "<table>\n",
       "<thead><tr><th></th><th scope=col>m</th><th scope=col>l</th><th scope=col>y1</th><th scope=col>y2</th><th scope=col>y3</th><th scope=col>y4</th><th scope=col>y5</th><th scope=col>y6</th><th scope=col>y7</th><th scope=col>y8</th><th scope=col>...</th><th scope=col>y921</th><th scope=col>y922</th><th scope=col>y923</th><th scope=col>y924</th><th scope=col>y925</th><th scope=col>y926</th><th scope=col>y927</th><th scope=col>y928</th><th scope=col>y929</th><th scope=col>y930</th></tr></thead>\n",
       "<tbody>\n",
       "\t<tr><th scope=row>1298</th><td>5         </td><td>48        </td><td>-0.5079134</td><td>-0.5149687</td><td>-0.5153706</td><td>-0.5014766</td><td>-0.5001355</td><td>-0.4992884</td><td>-0.5000824</td><td>-0.4983678</td><td>...       </td><td>1.320465  </td><td>1.276968  </td><td>1.222983  </td><td>1.227957  </td><td>1.248600  </td><td>1.204760  </td><td>1.147279  </td><td>1.126268  </td><td>1.1120444 </td><td>1.135761  </td></tr>\n",
       "\t<tr><th scope=row>1299</th><td>5         </td><td>49        </td><td>-0.4948979</td><td>-0.5014865</td><td>-0.5019300</td><td>-0.4886200</td><td>-0.4872686</td><td>-0.4864313</td><td>-0.4872151</td><td>-0.4855745</td><td>...       </td><td>1.286151  </td><td>1.244080  </td><td>1.191781  </td><td>1.196740  </td><td>1.216776  </td><td>1.174779  </td><td>1.118858  </td><td>1.098416  </td><td>1.0843644 </td><td>1.107271  </td></tr>\n",
       "\t<tr><th scope=row>1300</th><td>5         </td><td>50        </td><td>-0.5253634</td><td>-0.5313409</td><td>-0.5317142</td><td>-0.5193687</td><td>-0.5180422</td><td>-0.5171991</td><td>-0.5178691</td><td>-0.5163028</td><td>...       </td><td>1.180091  </td><td>1.141161  </td><td>1.092729  </td><td>1.097463  </td><td>1.116133  </td><td>1.077433  </td><td>1.025543  </td><td>1.006607  </td><td>0.9935412 </td><td>1.014801  </td></tr>\n",
       "</tbody>\n",
       "</table>\n"
      ],
      "text/latex": [
       "\\begin{tabular}{r|llllllllllllllllllllllllllllllllllllllllllllllllllllllllllllllllllllllllllllllllllllllllllllllllllllllllllllllllllllllllllllllllllllllllllllllllllllllllllllllllllllllllllllllllllllllllllllllllllllllllllllllllllllllllllllllllllllllllllllllllllllllllllllllllllllllllllllllllllllllllllllllllllllllllllllllllllllllllllllllllllllllllllllllllllllllllllllllllllllllllllllllllllllllllllllllllllllllllllllllllllllllllllllllllllllllllllllllllllllllllllllllllllllllllllllllllllllllllllllllllllllllllllllllllllllllllllllllllllllllllllllllllllllllllllllllllllllllllllllllllllllllllllllllllllllllllllllllllllllllllllllllllllllllllllllllllllllllllllllllllllllllllllllllllllllllllllllllllllllllllllllllllllllllllllllllllllllllllllllllllllllllllllllllllllllllllllllllllllllllllllllllllllllllllllllllllllllllllllllllllllllllllllllllllllllllllllllllllllllllllllllllllllllllllllllllllllllllllllllllllllllllllllllllllllllllllllllllllllllllllllllllllllll}\n",
       "  & m & l & y1 & y2 & y3 & y4 & y5 & y6 & y7 & y8 & ... & y921 & y922 & y923 & y924 & y925 & y926 & y927 & y928 & y929 & y930\\\\\n",
       "\\hline\n",
       "\t1298 & 5          & 48         & -0.5079134 & -0.5149687 & -0.5153706 & -0.5014766 & -0.5001355 & -0.4992884 & -0.5000824 & -0.4983678 & ...        & 1.320465   & 1.276968   & 1.222983   & 1.227957   & 1.248600   & 1.204760   & 1.147279   & 1.126268   & 1.1120444  & 1.135761  \\\\\n",
       "\t1299 & 5          & 49         & -0.4948979 & -0.5014865 & -0.5019300 & -0.4886200 & -0.4872686 & -0.4864313 & -0.4872151 & -0.4855745 & ...        & 1.286151   & 1.244080   & 1.191781   & 1.196740   & 1.216776   & 1.174779   & 1.118858   & 1.098416   & 1.0843644  & 1.107271  \\\\\n",
       "\t1300 & 5          & 50         & -0.5253634 & -0.5313409 & -0.5317142 & -0.5193687 & -0.5180422 & -0.5171991 & -0.5178691 & -0.5163028 & ...        & 1.180091   & 1.141161   & 1.092729   & 1.097463   & 1.116133   & 1.077433   & 1.025543   & 1.006607   & 0.9935412  & 1.014801  \\\\\n",
       "\\end{tabular}\n"
      ],
      "text/markdown": [
       "\n",
       "| <!--/--> | m | l | y1 | y2 | y3 | y4 | y5 | y6 | y7 | y8 | ... | y921 | y922 | y923 | y924 | y925 | y926 | y927 | y928 | y929 | y930 | \n",
       "|---|---|---|\n",
       "| 1298 | 5          | 48         | -0.5079134 | -0.5149687 | -0.5153706 | -0.5014766 | -0.5001355 | -0.4992884 | -0.5000824 | -0.4983678 | ...        | 1.320465   | 1.276968   | 1.222983   | 1.227957   | 1.248600   | 1.204760   | 1.147279   | 1.126268   | 1.1120444  | 1.135761   | \n",
       "| 1299 | 5          | 49         | -0.4948979 | -0.5014865 | -0.5019300 | -0.4886200 | -0.4872686 | -0.4864313 | -0.4872151 | -0.4855745 | ...        | 1.286151   | 1.244080   | 1.191781   | 1.196740   | 1.216776   | 1.174779   | 1.118858   | 1.098416   | 1.0843644  | 1.107271   | \n",
       "| 1300 | 5          | 50         | -0.5253634 | -0.5313409 | -0.5317142 | -0.5193687 | -0.5180422 | -0.5171991 | -0.5178691 | -0.5163028 | ...        | 1.180091   | 1.141161   | 1.092729   | 1.097463   | 1.116133   | 1.077433   | 1.025543   | 1.006607   | 0.9935412  | 1.014801   | \n",
       "\n",
       "\n"
      ],
      "text/plain": [
       "     m l  y1         y2         y3         y4         y5         y6        \n",
       "1298 5 48 -0.5079134 -0.5149687 -0.5153706 -0.5014766 -0.5001355 -0.4992884\n",
       "1299 5 49 -0.4948979 -0.5014865 -0.5019300 -0.4886200 -0.4872686 -0.4864313\n",
       "1300 5 50 -0.5253634 -0.5313409 -0.5317142 -0.5193687 -0.5180422 -0.5171991\n",
       "     y7         y8         ... y921     y922     y923     y924     y925    \n",
       "1298 -0.5000824 -0.4983678 ... 1.320465 1.276968 1.222983 1.227957 1.248600\n",
       "1299 -0.4872151 -0.4855745 ... 1.286151 1.244080 1.191781 1.196740 1.216776\n",
       "1300 -0.5178691 -0.5163028 ... 1.180091 1.141161 1.092729 1.097463 1.116133\n",
       "     y926     y927     y928     y929      y930    \n",
       "1298 1.204760 1.147279 1.126268 1.1120444 1.135761\n",
       "1299 1.174779 1.118858 1.098416 1.0843644 1.107271\n",
       "1300 1.077433 1.025543 1.006607 0.9935412 1.014801"
      ]
     },
     "metadata": {},
     "output_type": "display_data"
    }
   ],
   "source": [
    "tail(y,3)"
   ]
  },
  {
   "cell_type": "code",
   "execution_count": 33,
   "metadata": {
    "collapsed": true
   },
   "outputs": [],
   "source": [
    "# calculate the model  average across all boostrap samples (for each complexity m)\n",
    "y.bar <- aggregate(y, list(y$m),mean)\n",
    "y.bar <- as.matrix(y.bar[,-c(1:3)])"
   ]
  },
  {
   "cell_type": "code",
   "execution_count": 34,
   "metadata": {},
   "outputs": [
    {
     "data": {
      "text/html": [
       "<table>\n",
       "<thead><tr><th scope=col>y1</th><th scope=col>y2</th><th scope=col>y3</th><th scope=col>y4</th><th scope=col>y5</th><th scope=col>y6</th><th scope=col>y7</th><th scope=col>y8</th><th scope=col>y9</th><th scope=col>y10</th><th scope=col>...</th><th scope=col>y921</th><th scope=col>y922</th><th scope=col>y923</th><th scope=col>y924</th><th scope=col>y925</th><th scope=col>y926</th><th scope=col>y927</th><th scope=col>y928</th><th scope=col>y929</th><th scope=col>y930</th></tr></thead>\n",
       "<tbody>\n",
       "\t<tr><td>-1.195078</td><td>-1.206845</td><td>-1.208174</td><td>-1.180777</td><td>-1.177135</td><td>-1.174799</td><td>-1.176274</td><td>-1.172881</td><td>-1.169082</td><td>-1.175658</td><td>...      </td><td>2.904588 </td><td>2.814428 </td><td>2.701629 </td><td>2.715062 </td><td>2.759718 </td><td>2.674739 </td><td>2.550989 </td><td>2.505771 </td><td>2.472692 </td><td>2.521325 </td></tr>\n",
       "\t<tr><td>-1.115234</td><td>-1.127716</td><td>-1.128864</td><td>-1.101551</td><td>-1.098278</td><td>-1.096200</td><td>-1.097721</td><td>-1.094346</td><td>-1.090353</td><td>-1.097067</td><td>...      </td><td>2.792221 </td><td>2.703833 </td><td>2.593543 </td><td>2.605611 </td><td>2.648718 </td><td>2.563411 </td><td>2.443651 </td><td>2.399883 </td><td>2.368646 </td><td>2.416502 </td></tr>\n",
       "\t<tr><td>-1.046661</td><td>-1.059079</td><td>-1.060114</td><td>-1.033665</td><td>-1.030653</td><td>-1.028752</td><td>-1.030249</td><td>-1.026984</td><td>-1.023027</td><td>-1.029598</td><td>...      </td><td>2.657745 </td><td>2.572812 </td><td>2.466964 </td><td>2.478060 </td><td>2.519178 </td><td>2.436305 </td><td>2.321928 </td><td>2.280124 </td><td>2.250642 </td><td>2.296708 </td></tr>\n",
       "</tbody>\n",
       "</table>\n"
      ],
      "text/latex": [
       "\\begin{tabular}{llllllllllllllllllllllllllllllllllllllllllllllllllllllllllllllllllllllllllllllllllllllllllllllllllllllllllllllllllllllllllllllllllllllllllllllllllllllllllllllllllllllllllllllllllllllllllllllllllllllllllllllllllllllllllllllllllllllllllllllllllllllllllllllllllllllllllllllllllllllllllllllllllllllllllllllllllllllllllllllllllllllllllllllllllllllllllllllllllllllllllllllllllllllllllllllllllllllllllllllllllllllllllllllllllllllllllllllllllllllllllllllllllllllllllllllllllllllllllllllllllllllllllllllllllllllllllllllllllllllllllllllllllllllllllllllllllllllllllllllllllllllllllllllllllllllllllllllllllllllllllllllllllllllllllllllllllllllllllllllllllllllllllllllllllllllllllllllllllllllllllllllllllllllllllllllllllllllllllllllllllllllllllllllllllllllllllllllllllllllllllllllllllllllllllllllllllllllllllllllllllllllllllllllllllllllllllllllllllllllllllllllllllllllllllllllllllllllllllllllllllllllllllllllllllllllllllllllllllllllllllllllllll}\n",
       " y1 & y2 & y3 & y4 & y5 & y6 & y7 & y8 & y9 & y10 & ... & y921 & y922 & y923 & y924 & y925 & y926 & y927 & y928 & y929 & y930\\\\\n",
       "\\hline\n",
       "\t -1.195078 & -1.206845 & -1.208174 & -1.180777 & -1.177135 & -1.174799 & -1.176274 & -1.172881 & -1.169082 & -1.175658 & ...       & 2.904588  & 2.814428  & 2.701629  & 2.715062  & 2.759718  & 2.674739  & 2.550989  & 2.505771  & 2.472692  & 2.521325 \\\\\n",
       "\t -1.115234 & -1.127716 & -1.128864 & -1.101551 & -1.098278 & -1.096200 & -1.097721 & -1.094346 & -1.090353 & -1.097067 & ...       & 2.792221  & 2.703833  & 2.593543  & 2.605611  & 2.648718  & 2.563411  & 2.443651  & 2.399883  & 2.368646  & 2.416502 \\\\\n",
       "\t -1.046661 & -1.059079 & -1.060114 & -1.033665 & -1.030653 & -1.028752 & -1.030249 & -1.026984 & -1.023027 & -1.029598 & ...       & 2.657745  & 2.572812  & 2.466964  & 2.478060  & 2.519178  & 2.436305  & 2.321928  & 2.280124  & 2.250642  & 2.296708 \\\\\n",
       "\\end{tabular}\n"
      ],
      "text/markdown": [
       "\n",
       "y1 | y2 | y3 | y4 | y5 | y6 | y7 | y8 | y9 | y10 | ... | y921 | y922 | y923 | y924 | y925 | y926 | y927 | y928 | y929 | y930 | \n",
       "|---|---|---|\n",
       "| -1.195078 | -1.206845 | -1.208174 | -1.180777 | -1.177135 | -1.174799 | -1.176274 | -1.172881 | -1.169082 | -1.175658 | ...       | 2.904588  | 2.814428  | 2.701629  | 2.715062  | 2.759718  | 2.674739  | 2.550989  | 2.505771  | 2.472692  | 2.521325  | \n",
       "| -1.115234 | -1.127716 | -1.128864 | -1.101551 | -1.098278 | -1.096200 | -1.097721 | -1.094346 | -1.090353 | -1.097067 | ...       | 2.792221  | 2.703833  | 2.593543  | 2.605611  | 2.648718  | 2.563411  | 2.443651  | 2.399883  | 2.368646  | 2.416502  | \n",
       "| -1.046661 | -1.059079 | -1.060114 | -1.033665 | -1.030653 | -1.028752 | -1.030249 | -1.026984 | -1.023027 | -1.029598 | ...       | 2.657745  | 2.572812  | 2.466964  | 2.478060  | 2.519178  | 2.436305  | 2.321928  | 2.280124  | 2.250642  | 2.296708  | \n",
       "\n",
       "\n"
      ],
      "text/plain": [
       "     y1        y2        y3        y4        y5        y6        y7       \n",
       "[1,] -1.195078 -1.206845 -1.208174 -1.180777 -1.177135 -1.174799 -1.176274\n",
       "[2,] -1.115234 -1.127716 -1.128864 -1.101551 -1.098278 -1.096200 -1.097721\n",
       "[3,] -1.046661 -1.059079 -1.060114 -1.033665 -1.030653 -1.028752 -1.030249\n",
       "     y8        y9        y10       ... y921     y922     y923     y924    \n",
       "[1,] -1.172881 -1.169082 -1.175658 ... 2.904588 2.814428 2.701629 2.715062\n",
       "[2,] -1.094346 -1.090353 -1.097067 ... 2.792221 2.703833 2.593543 2.605611\n",
       "[3,] -1.026984 -1.023027 -1.029598 ... 2.657745 2.572812 2.466964 2.478060\n",
       "     y925     y926     y927     y928     y929     y930    \n",
       "[1,] 2.759718 2.674739 2.550989 2.505771 2.472692 2.521325\n",
       "[2,] 2.648718 2.563411 2.443651 2.399883 2.368646 2.416502\n",
       "[3,] 2.519178 2.436305 2.321928 2.280124 2.250642 2.296708"
      ]
     },
     "metadata": {},
     "output_type": "display_data"
    }
   ],
   "source": [
    "head(y.bar,3)"
   ]
  },
  {
   "cell_type": "code",
   "execution_count": null,
   "metadata": {
    "collapsed": true
   },
   "outputs": [],
   "source": []
  },
  {
   "cell_type": "code",
   "execution_count": 35,
   "metadata": {
    "collapsed": true
   },
   "outputs": [],
   "source": [
    "# Calculate the bias^2, variance, and test error"
   ]
  },
  {
   "cell_type": "code",
   "execution_count": 36,
   "metadata": {
    "collapsed": true
   },
   "outputs": [],
   "source": [
    "error <- matrix(0,nrow=M)\n",
    "bias2 <- matrix(0,nrow=M)\n",
    "variance <- matrix(0,nrow=M)"
   ]
  },
  {
   "cell_type": "code",
   "execution_count": 37,
   "metadata": {
    "collapsed": true
   },
   "outputs": [],
   "source": [
    "for (m in c(1:M)){\n",
    "    bias2[m] <- mean((y.bar[m,] - test.label)^2)\n",
    "    variance[m] <- mean((y[y$m==lambda.values[m],-c(1,2)]-y.bar[m,])^2)\n",
    "    error[m] <- mean((y[y$m==lambda.values[m],-c(1,2)]-test.label)^2)\n",
    "} "
   ]
  },
  {
   "cell_type": "code",
   "execution_count": 38,
   "metadata": {
    "collapsed": true
   },
   "outputs": [],
   "source": [
    "# Reshape the results if needed\n",
    "Q2.results <- as.data.frame(cbind(lambda.values, bias2, variance, error, bias2+variance))\n",
    "names(Q2.results) <- c('lambda', 'bias2', 'variance', 'error', 'bias2variance')"
   ]
  },
  {
   "cell_type": "code",
   "execution_count": 39,
   "metadata": {},
   "outputs": [
    {
     "data": {
      "text/html": [
       "<table>\n",
       "<thead><tr><th scope=col>lambda</th><th scope=col>bias2</th><th scope=col>variance</th><th scope=col>error</th><th scope=col>bias2variance</th></tr></thead>\n",
       "<tbody>\n",
       "\t<tr><td>0.0       </td><td>0.01665446</td><td>1.941338  </td><td>1.953830  </td><td>1.957992  </td></tr>\n",
       "\t<tr><td>0.2       </td><td>0.01989565</td><td>1.747388  </td><td>1.856681  </td><td>1.767284  </td></tr>\n",
       "\t<tr><td>0.4       </td><td>0.02796267</td><td>1.563869  </td><td>1.765050  </td><td>1.591832  </td></tr>\n",
       "</tbody>\n",
       "</table>\n"
      ],
      "text/latex": [
       "\\begin{tabular}{r|lllll}\n",
       " lambda & bias2 & variance & error & bias2variance\\\\\n",
       "\\hline\n",
       "\t 0.0        & 0.01665446 & 1.941338   & 1.953830   & 1.957992  \\\\\n",
       "\t 0.2        & 0.01989565 & 1.747388   & 1.856681   & 1.767284  \\\\\n",
       "\t 0.4        & 0.02796267 & 1.563869   & 1.765050   & 1.591832  \\\\\n",
       "\\end{tabular}\n"
      ],
      "text/markdown": [
       "\n",
       "lambda | bias2 | variance | error | bias2variance | \n",
       "|---|---|---|\n",
       "| 0.0        | 0.01665446 | 1.941338   | 1.953830   | 1.957992   | \n",
       "| 0.2        | 0.01989565 | 1.747388   | 1.856681   | 1.767284   | \n",
       "| 0.4        | 0.02796267 | 1.563869   | 1.765050   | 1.591832   | \n",
       "\n",
       "\n"
      ],
      "text/plain": [
       "  lambda bias2      variance error    bias2variance\n",
       "1 0.0    0.01665446 1.941338 1.953830 1.957992     \n",
       "2 0.2    0.01989565 1.747388 1.856681 1.767284     \n",
       "3 0.4    0.02796267 1.563869 1.765050 1.591832     "
      ]
     },
     "metadata": {},
     "output_type": "display_data"
    }
   ],
   "source": [
    "head(Q2.results,3)"
   ]
  },
  {
   "cell_type": "code",
   "execution_count": 40,
   "metadata": {
    "collapsed": true
   },
   "outputs": [],
   "source": [
    "Q2.results.m <- melt(Q2.results, id='lambda')\n",
    "names(Q2.results.m) <- c('lambda', 'variable','value')"
   ]
  },
  {
   "cell_type": "code",
   "execution_count": 41,
   "metadata": {},
   "outputs": [
    {
     "data": {
      "text/html": [
       "<table>\n",
       "<thead><tr><th scope=col>lambda</th><th scope=col>variable</th><th scope=col>value</th></tr></thead>\n",
       "<tbody>\n",
       "\t<tr><td>0.0       </td><td>bias2     </td><td>0.01665446</td></tr>\n",
       "\t<tr><td>0.2       </td><td>bias2     </td><td>0.01989565</td></tr>\n",
       "\t<tr><td>0.4       </td><td>bias2     </td><td>0.02796267</td></tr>\n",
       "</tbody>\n",
       "</table>\n"
      ],
      "text/latex": [
       "\\begin{tabular}{r|lll}\n",
       " lambda & variable & value\\\\\n",
       "\\hline\n",
       "\t 0.0        & bias2      & 0.01665446\\\\\n",
       "\t 0.2        & bias2      & 0.01989565\\\\\n",
       "\t 0.4        & bias2      & 0.02796267\\\\\n",
       "\\end{tabular}\n"
      ],
      "text/markdown": [
       "\n",
       "lambda | variable | value | \n",
       "|---|---|---|\n",
       "| 0.0        | bias2      | 0.01665446 | \n",
       "| 0.2        | bias2      | 0.01989565 | \n",
       "| 0.4        | bias2      | 0.02796267 | \n",
       "\n",
       "\n"
      ],
      "text/plain": [
       "  lambda variable value     \n",
       "1 0.0    bias2    0.01665446\n",
       "2 0.2    bias2    0.01989565\n",
       "3 0.4    bias2    0.02796267"
      ]
     },
     "metadata": {},
     "output_type": "display_data"
    }
   ],
   "source": [
    "head(Q2.results.m,3)"
   ]
  },
  {
   "cell_type": "code",
   "execution_count": 42,
   "metadata": {},
   "outputs": [
    {
     "data": {
      "image/png": "[encoded data removed]",
      "text/plain": [
       "plot without title"
      ]
     },
     "metadata": {},
     "output_type": "display_data"
    }
   ],
   "source": [
    "Q2.plot.log.lambda <- ggplot(data=Q2.results.m, aes(x=log(lambda), y=value, color=variable)) + geom_line() + \n",
    "        labs(title='Bias-Variance Decomposition') +  theme_minimal()\n",
    "\n",
    "Q2.plot.normal.lambda <- ggplot(data=Q2.results.m, aes(x=(lambda), y=value, color=variable)) + geom_line() + \n",
    "        labs(title='Bias-Variance Decomposition') +  theme_minimal()\n",
    "\n",
    "options(repr.plot.width=10, repr.plot.height=3.5)\n",
    "grid.arrange(Q2.plot.log.lambda,\n",
    "             Q2.plot.normal.lambda,\n",
    "             ncol = 2\n",
    "            )"
   ]
  },
  {
   "cell_type": "code",
   "execution_count": null,
   "metadata": {
    "collapsed": true
   },
   "outputs": [],
   "source": []
  },
  {
   "cell_type": "markdown",
   "metadata": {},
   "source": [
    "__2D__. Based on your plot in the previous step (C), what’s the best value for $\\lambda$? Explain your answer in terms of the bias, variance, and test error.\n",
    "\n",
    " As the plot shows, the best value for $\\lambda$ was our upper bound, namely $\\lambda$ = 5 ie log($\\lambda$) $\\approx$ 1.6\n",
    " \n",
    " Reasoning...\n",
    " \n",
    " We are trying to minimise the error (ie test error) which has the same general curve as bias2+variance but is larger. Clearly as $\\lambda$ (or log($\\lambda$)) increases, both the blue (test) error curve and the purple bias2variance curve decrease. Therefore our upper bound of $\\lambda$ = 5 is the best value for $\\lambda$.\n",
    " \n",
    " The bias2 and variance curves give a good explanation though for why lambda = 5 is the best choice. \n",
    " \n",
    "Initially, for $\\lambda$ $\\approx$ 0 on the LHS of the curve, variance is very high, indicating overfitting. Recall that $\\lambda$ is the coefficient for the regularisation function which penalises/minimises complexity, so a higher value of $\\lambda$ (RHS of graph) reduces model complexity while a low value of $\\lambda$ (LHS of graph) has higher model complexity. If the model is too complex for the given data, it will tend to model noise and overfit the training set, so will not generalise well to the test set, hence the variance, bias2variance and error curves are all very high on the LHS of the graph. The bias is low however because even with overfitting the average model tends to approximate the correct answer.\n",
    "\n",
    "As $\\lambda$ increases from left to right, the model complexity decreases and hence so does the potential for overfitting, so the variance decreases. Correspondingly, the bias does slowly increase, but much not as much as the variance decreases, so that their combined curve bias2variance and corresponding error curve continue to decrease as $\\lambda$ increases from 0 to 5.\n",
    "\n",
    "However when $\\lambda$ = 5, the bias and variance curves have approximately the same value, but the gradient clearly shows that if $\\lambda$ increases much past 5, the bias will continue to increase while the variance decreases towards 0. Hence we suspect for some value close to but larger than 5, the (test) error will start increasing again as the model will start underfitting ie the average model will not be able to always make the right predictions. \n",
    "\n",
    "Hence not only is $\\lambda \\approx 5$ the best value of $\\lambda$ tested so far, but we predict that if $\\lambda$ is increased much beyond 5, the error will increase anyway."
   ]
  },
  {
   "cell_type": "markdown",
   "metadata": {},
   "source": [
    "## Part C. Logistic Regression vs. Bayesian Classifier\n",
    "This task assesses your analytical skills. You need to study the performance of two well-known generative and discriminative models, i.e. Bayesian classifier and logistic regression, as the size of the training set increases. Then, you show your understanding of the behaviour of learning curves of typical generative and discriminative models.\n",
    "\n",
    "### Question 3 [Discriminative vs Generative Models, 35 Marks]\n",
    "\n",
    "\n",
    "__3A__. Load __Task2C_train.csv__ and __Task2C_test.csv__ as well as the Bayesian classifier (BC) and logistic regression (LR) codes from Activities 2 and 3 in Module 3.\n"
   ]
  },
  {
   "cell_type": "code",
   "execution_count": 43,
   "metadata": {
    "collapsed": true
   },
   "outputs": [],
   "source": [
    "set.seed(1234)\n",
    "\n",
    "# Load training and test data\n",
    "train <- read.csv('../Task2C_train.csv')\n",
    "test <- read.csv('../Task2C_test.csv')\n",
    "\n",
    "train.len <- nrow(train)\n",
    "test.len <- nrow(test)\n",
    "\n",
    "train.data <- subset(train, select = -c(y))\n",
    "train.label <- train[, 'y', drop=FALSE]\n",
    "\n",
    "test.data <- subset(test, select = -c(y))\n",
    "test.label <- test[, 'y', drop=FALSE]\n"
   ]
  },
  {
   "cell_type": "code",
   "execution_count": null,
   "metadata": {
    "collapsed": true
   },
   "outputs": [],
   "source": []
  },
  {
   "cell_type": "code",
   "execution_count": null,
   "metadata": {
    "collapsed": true
   },
   "outputs": [],
   "source": []
  },
  {
   "cell_type": "code",
   "execution_count": 44,
   "metadata": {
    "collapsed": true
   },
   "outputs": [],
   "source": [
    "#' Trains a Bayesian Classifier model for labels with two classes\n",
    "#'\n",
    "#' @param train.data the predictors for the training set\n",
    "#' @param train.label the labels for the training set\n",
    "#' @param c0 first class label\n",
    "#' @param c1 second class label\n",
    "#' @return a function to be used for making predictions with the trained model\n",
    "bayesian_classifier <- function(train.data, train.label, c0 = 1, c1 = -1) {\n",
    "    # Class probabilities:\n",
    "    p0.hat <- sum(train.label==c0)/nrow(train.data) # total number of samples in class 0 divided by the total number of training data\n",
    "    p1.hat <- sum(train.label==c1)/nrow(train.data) # or simply 1 - p1.hat\n",
    "    \n",
    "    mu0.hat <- colMeans(train.data[train.label==c0,])\n",
    "    mu1.hat <- colMeans(train.data[train.label==c1,])\n",
    "    \n",
    "    sigma0.hat <- var(train.data[train.label==c0,])\n",
    "    sigma1.hat <- var(train.data[train.label==c1,])\n",
    "\n",
    "    # shared covariance matrix:\n",
    "    sigma.hat <- p0.hat * sigma0.hat + p1.hat * sigma1.hat \n",
    "\n",
    "    # calculate posteriors:\n",
    "    posterior0 <- p0.hat*dmvnorm(x=train.data, mean=mu0.hat, sigma=sigma.hat)\n",
    "    posterior1 <- p1.hat*dmvnorm(x=train.data, mean=mu1.hat, sigma=sigma.hat)\n",
    "    \n",
    "    # calculate predictions:\n",
    "    \n",
    "    predict <- function(T) {\n",
    "        return (ifelse(p0.hat*dmvnorm(x=T, mean=mu0.hat, sigma=sigma.hat) > p1.hat*dmvnorm(x=T, mean=mu1.hat, sigma=sigma.hat),\n",
    "                           c0, c1))    \n",
    "    }\n",
    "    \n",
    "    return (list(\"predict\"=predict))\n",
    "}    "
   ]
  },
  {
   "cell_type": "code",
   "execution_count": 45,
   "metadata": {
    "collapsed": true
   },
   "outputs": [],
   "source": [
    "#' Trains a Logistic Regression classifier model for labels with two classes\n",
    "#'\n",
    "#' @param train.data the predictors for the training set\n",
    "#' @param train.label the labels for the training set\n",
    "#' @param c0 first class label\n",
    "#' @param c1 second class label\n",
    "#' @return a function to be used for making predictions with the trained model\n",
    "logistic_reg <- function(train.data, train.label, c0 = 1, c1 = -1) {\n",
    "    train.len <- nrow(train.data)\n",
    "    \n",
    "    # Sigmoid function (=p(C1|X))\n",
    "    sigmoid <- function(w, x){\n",
    "        return(1.0/(1.0+exp(-w%*%t(cbind(1,x)))))    \n",
    "    }\n",
    "    \n",
    "    # auxiliary function that predicts class labels\n",
    "    predict <- function(w, X) {\n",
    "        sig <- sigmoid(w, X)\n",
    "        return(ifelse(sig>0.5, c1,c0))\n",
    "    }\n",
    "\n",
    "    # auxiliary function that calculate a cost function\n",
    "    cost <- function (w, X, T, c0){\n",
    "        sig <- sigmoid(w, X)\n",
    "        return(sum(ifelse(T==c0, 1-sig, sig)))\n",
    "    }    \n",
    "    \n",
    "    # Step 1 - Initialise\n",
    "    tau.max <- 1000 # maximum number of iterations\n",
    "    eta <- 0.01 # learning rate\n",
    "    epsilon <- 0.01 # a threshold on the cost (to terminate the process)\n",
    "    tau <- 1 # iteration counter\n",
    "    terminate <- FALSE\n",
    "\n",
    "    ## Just a few name/type conversion to make the rest of the code easy to follow\n",
    "    X <- as.matrix(train.data) # rename just for conviniance\n",
    "    T <- ifelse(train.label==c0,0,1) # rename just for conviniance\n",
    "\n",
    "    W <- matrix(,nrow=tau.max, ncol=(ncol(X)+1)) # to be used to store the estimated coefficients\n",
    "    W[1,] <- runif(ncol(W)) # initial weight (any better idea?)\n",
    "\n",
    "    # project data using the sigmoid function (just for convenient)\n",
    "    Y <- sigmoid(W[1,],X)\n",
    "\n",
    "    costs <- data.frame('tau'=1:tau.max)  # to be used to trace the cost in each iteration\n",
    "    costs[1, 'cost'] <- cost(W[1,],X,T, c0)\n",
    "    \n",
    "    while(!terminate){\n",
    "        # check termination criteria:\n",
    "        terminate <- tau >= tau.max | cost(W[tau,],X,T, c0)<=epsilon\n",
    "\n",
    "        # shuffle data:\n",
    "        train.index <- sample(1:train.len, train.len, replace = FALSE)\n",
    "        X <- X[train.index,]\n",
    "        T <- T[train.index]\n",
    "\n",
    "        # for each datapoint:\n",
    "        for (i in 1:train.len){\n",
    "            # check termination criteria:\n",
    "            if (tau >= tau.max | cost(W[tau,],X,T, c0) <=epsilon) {terminate<-TRUE;break}\n",
    "\n",
    "            Y <- sigmoid(W[tau,],X)\n",
    "\n",
    "            # Update the weights\n",
    "            W[(tau+1),] <- W[tau,] - eta * (Y[i]-T[i]) * cbind(1, t(X[i,]))\n",
    "\n",
    "            # record the cost:\n",
    "            costs[(tau+1), 'cost'] <- cost(W[tau,],X,T, c0)\n",
    "\n",
    "            # update the counter:\n",
    "            tau <- tau + 1\n",
    "\n",
    "            # decrease learning rate:\n",
    "            eta = eta * 0.999\n",
    "        }\n",
    "    }\n",
    "    # Done!\n",
    "    costs <- costs[1:tau, ] # remove the NaN tail of the vector (in case of early stopping)\n",
    "\n",
    "    # the  final result is:\n",
    "    w <- W[tau,] \n",
    "    \n",
    "    return (list(\"w\"=w, \"predict\"=function(T) predict(w, T)))\n",
    "}"
   ]
  },
  {
   "cell_type": "markdown",
   "metadata": {},
   "source": [
    "__3B__. Using the first 5 data points from the training set, train a BC and a LR model, and compute their test errors. In a “for loop”, increase the size of training set (5 data points at a time), retrain the models and calculate their test errors until all training data points are used. In one figure, plot the test errors for each model (with different colors) versus the size of the training set; name the plot “Learning Curve” and add it to your report.\n",
    "\n"
   ]
  },
  {
   "cell_type": "code",
   "execution_count": 46,
   "metadata": {
    "collapsed": true
   },
   "outputs": [],
   "source": [
    "classification_error_func <- function(T_hat, T) {\n",
    "    return (sum(T_hat!=T)/nrow(T_hat) * 100)\n",
    "}"
   ]
  },
  {
   "cell_type": "code",
   "execution_count": 47,
   "metadata": {},
   "outputs": [
    {
     "data": {
      "text/html": [
       "500"
      ],
      "text/latex": [
       "500"
      ],
      "text/markdown": [
       "500"
      ],
      "text/plain": [
       "[1] 500"
      ]
     },
     "metadata": {},
     "output_type": "display_data"
    }
   ],
   "source": [
    "train.len"
   ]
  },
  {
   "cell_type": "code",
   "execution_count": 48,
   "metadata": {
    "collapsed": true
   },
   "outputs": [],
   "source": [
    "models <- seq(5, train.len, by=5)"
   ]
  },
  {
   "cell_type": "code",
   "execution_count": 49,
   "metadata": {},
   "outputs": [
    {
     "data": {
      "text/html": [
       "<ol class=list-inline>\n",
       "\t<li>5</li>\n",
       "\t<li>10</li>\n",
       "\t<li>15</li>\n",
       "\t<li>20</li>\n",
       "\t<li>25</li>\n",
       "\t<li>30</li>\n",
       "\t<li>35</li>\n",
       "\t<li>40</li>\n",
       "\t<li>45</li>\n",
       "\t<li>50</li>\n",
       "</ol>\n"
      ],
      "text/latex": [
       "\\begin{enumerate*}\n",
       "\\item 5\n",
       "\\item 10\n",
       "\\item 15\n",
       "\\item 20\n",
       "\\item 25\n",
       "\\item 30\n",
       "\\item 35\n",
       "\\item 40\n",
       "\\item 45\n",
       "\\item 50\n",
       "\\end{enumerate*}\n"
      ],
      "text/markdown": [
       "1. 5\n",
       "2. 10\n",
       "3. 15\n",
       "4. 20\n",
       "5. 25\n",
       "6. 30\n",
       "7. 35\n",
       "8. 40\n",
       "9. 45\n",
       "10. 50\n",
       "\n",
       "\n"
      ],
      "text/plain": [
       " [1]  5 10 15 20 25 30 35 40 45 50"
      ]
     },
     "metadata": {},
     "output_type": "display_data"
    }
   ],
   "source": [
    "models[1:10]"
   ]
  },
  {
   "cell_type": "code",
   "execution_count": 50,
   "metadata": {
    "collapsed": true
   },
   "outputs": [],
   "source": [
    "model.errors <- as.data.frame(x = models)\n",
    "model.errors$bayes <- 0\n",
    "model.errors$logistic <- 0"
   ]
  },
  {
   "cell_type": "code",
   "execution_count": 51,
   "metadata": {},
   "outputs": [
    {
     "data": {
      "text/html": [
       "<table>\n",
       "<thead><tr><th scope=col>models</th><th scope=col>bayes</th><th scope=col>logistic</th></tr></thead>\n",
       "<tbody>\n",
       "\t<tr><td> 5</td><td>0 </td><td>0 </td></tr>\n",
       "\t<tr><td>10</td><td>0 </td><td>0 </td></tr>\n",
       "\t<tr><td>15</td><td>0 </td><td>0 </td></tr>\n",
       "</tbody>\n",
       "</table>\n"
      ],
      "text/latex": [
       "\\begin{tabular}{r|lll}\n",
       " models & bayes & logistic\\\\\n",
       "\\hline\n",
       "\t  5 & 0  & 0 \\\\\n",
       "\t 10 & 0  & 0 \\\\\n",
       "\t 15 & 0  & 0 \\\\\n",
       "\\end{tabular}\n"
      ],
      "text/markdown": [
       "\n",
       "models | bayes | logistic | \n",
       "|---|---|---|\n",
       "|  5 | 0  | 0  | \n",
       "| 10 | 0  | 0  | \n",
       "| 15 | 0  | 0  | \n",
       "\n",
       "\n"
      ],
      "text/plain": [
       "  models bayes logistic\n",
       "1  5     0     0       \n",
       "2 10     0     0       \n",
       "3 15     0     0       "
      ]
     },
     "metadata": {},
     "output_type": "display_data"
    }
   ],
   "source": [
    "head(model.errors,3)"
   ]
  },
  {
   "cell_type": "code",
   "execution_count": 52,
   "metadata": {
    "collapsed": true
   },
   "outputs": [],
   "source": [
    "# create models for different sizes of training data\n",
    "for(model.size in models){\n",
    "    \n",
    "    # bayes classifier\n",
    "    bayes.predictor <- bayesian_classifier(train.data[1:model.size,], train.label[1:model.size,], c0 = 1, c1 = -1)$predict\n",
    "    bayes.predictions <- as.matrix(bayes.predictor(test.data))\n",
    "    model.errors[model.errors$model==model.size,'bayes'] <- classification_error_func(bayes.predictions, test.label)\n",
    "    \n",
    "    #logistic_reg\n",
    "    \n",
    "    logistic.predictor <- logistic_reg(train.data[1:model.size,], train.label[1:model.size,], c0 = 1, c1 = -1)$predict\n",
    "    logistic.predictions <- t(logistic.predictor(test.data))\n",
    "    model.errors[model.errors$model==model.size,'logistic'] <- classification_error_func(logistic.predictions, test.label)\n",
    "    \n",
    "}#end for"
   ]
  },
  {
   "cell_type": "code",
   "execution_count": 53,
   "metadata": {},
   "outputs": [
    {
     "data": {
      "text/html": [
       "<table>\n",
       "<thead><tr><th scope=col>models</th><th scope=col>bayes</th><th scope=col>logistic</th></tr></thead>\n",
       "<tbody>\n",
       "\t<tr><td> 5  </td><td>68.4</td><td>10.6</td></tr>\n",
       "\t<tr><td>10  </td><td> 1.4</td><td> 2.0</td></tr>\n",
       "\t<tr><td>15  </td><td> 1.8</td><td> 1.4</td></tr>\n",
       "</tbody>\n",
       "</table>\n"
      ],
      "text/latex": [
       "\\begin{tabular}{r|lll}\n",
       " models & bayes & logistic\\\\\n",
       "\\hline\n",
       "\t  5   & 68.4 & 10.6\\\\\n",
       "\t 10   &  1.4 &  2.0\\\\\n",
       "\t 15   &  1.8 &  1.4\\\\\n",
       "\\end{tabular}\n"
      ],
      "text/markdown": [
       "\n",
       "models | bayes | logistic | \n",
       "|---|---|---|\n",
       "|  5   | 68.4 | 10.6 | \n",
       "| 10   |  1.4 |  2.0 | \n",
       "| 15   |  1.8 |  1.4 | \n",
       "\n",
       "\n"
      ],
      "text/plain": [
       "  models bayes logistic\n",
       "1  5     68.4  10.6    \n",
       "2 10      1.4   2.0    \n",
       "3 15      1.8   1.4    "
      ]
     },
     "metadata": {},
     "output_type": "display_data"
    }
   ],
   "source": [
    "head(model.errors,3)"
   ]
  },
  {
   "cell_type": "code",
   "execution_count": 54,
   "metadata": {},
   "outputs": [
    {
     "data": {
      "text/html": [
       "<table>\n",
       "<thead><tr><th></th><th scope=col>models</th><th scope=col>bayes</th><th scope=col>logistic</th></tr></thead>\n",
       "<tbody>\n",
       "\t<tr><th scope=row>98</th><td>490</td><td>2  </td><td>1.4</td></tr>\n",
       "\t<tr><th scope=row>99</th><td>495</td><td>2  </td><td>1.4</td></tr>\n",
       "\t<tr><th scope=row>100</th><td>500</td><td>2  </td><td>1.4</td></tr>\n",
       "</tbody>\n",
       "</table>\n"
      ],
      "text/latex": [
       "\\begin{tabular}{r|lll}\n",
       "  & models & bayes & logistic\\\\\n",
       "\\hline\n",
       "\t98 & 490 & 2   & 1.4\\\\\n",
       "\t99 & 495 & 2   & 1.4\\\\\n",
       "\t100 & 500 & 2   & 1.4\\\\\n",
       "\\end{tabular}\n"
      ],
      "text/markdown": [
       "\n",
       "| <!--/--> | models | bayes | logistic | \n",
       "|---|---|---|\n",
       "| 98 | 490 | 2   | 1.4 | \n",
       "| 99 | 495 | 2   | 1.4 | \n",
       "| 100 | 500 | 2   | 1.4 | \n",
       "\n",
       "\n"
      ],
      "text/plain": [
       "    models bayes logistic\n",
       "98  490    2     1.4     \n",
       "99  495    2     1.4     \n",
       "100 500    2     1.4     "
      ]
     },
     "metadata": {},
     "output_type": "display_data"
    }
   ],
   "source": [
    "tail(model.errors,3)"
   ]
  },
  {
   "cell_type": "code",
   "execution_count": 55,
   "metadata": {
    "collapsed": true
   },
   "outputs": [],
   "source": [
    "# Reshape the results if needed\n",
    "model.errors.m <- melt(model.errors, id='models')\n",
    "names(model.errors.m) <- c('models', 'variable','error')"
   ]
  },
  {
   "cell_type": "code",
   "execution_count": 56,
   "metadata": {},
   "outputs": [
    {
     "data": {
      "text/html": [
       "<table>\n",
       "<thead><tr><th scope=col>models</th><th scope=col>variable</th><th scope=col>error</th></tr></thead>\n",
       "<tbody>\n",
       "\t<tr><td> 5   </td><td>bayes</td><td>68.4 </td></tr>\n",
       "\t<tr><td>10   </td><td>bayes</td><td> 1.4 </td></tr>\n",
       "\t<tr><td>15   </td><td>bayes</td><td> 1.8 </td></tr>\n",
       "</tbody>\n",
       "</table>\n"
      ],
      "text/latex": [
       "\\begin{tabular}{r|lll}\n",
       " models & variable & error\\\\\n",
       "\\hline\n",
       "\t  5    & bayes & 68.4 \\\\\n",
       "\t 10    & bayes &  1.4 \\\\\n",
       "\t 15    & bayes &  1.8 \\\\\n",
       "\\end{tabular}\n"
      ],
      "text/markdown": [
       "\n",
       "models | variable | error | \n",
       "|---|---|---|\n",
       "|  5    | bayes | 68.4  | \n",
       "| 10    | bayes |  1.4  | \n",
       "| 15    | bayes |  1.8  | \n",
       "\n",
       "\n"
      ],
      "text/plain": [
       "  models variable error\n",
       "1  5     bayes    68.4 \n",
       "2 10     bayes     1.4 \n",
       "3 15     bayes     1.8 "
      ]
     },
     "metadata": {},
     "output_type": "display_data"
    }
   ],
   "source": [
    "head(model.errors.m,3)"
   ]
  },
  {
   "cell_type": "markdown",
   "metadata": {},
   "source": [
    "__Plot Learning Curve (Bayes vs Logistic)__\n",
    "\n",
    "We plot three graphs:\n",
    "\n",
    "The first two both have the y axis (misclassify %) log-scaled because there is a drastic jump from approx 100 to approx 0 as size increases. The first has the x axis (training set size) normal, the second has it log scaled.\n",
    "\n",
    "The third graph has no log scaling on any axes."
   ]
  },
  {
   "cell_type": "code",
   "execution_count": 57,
   "metadata": {},
   "outputs": [
    {
     "data": {
      "image/png": "[encoded data removed]",
      "text/plain": [
       "plot without title"
      ]
     },
     "metadata": {},
     "output_type": "display_data"
    }
   ],
   "source": [
    "Q3.plot.log.y <- ggplot(data=(model.errors.m), aes(x=(models), y=log(error), colour = variable)) +\n",
    "    geom_line() +#xlab('tau (SGD)') +\n",
    "    ggtitle('Bayes vs Logistic') +\n",
    "    labs(title='Learning Curve (log scale y)', x='Training set size', y='Misclassification %', color=\"Classifier\") + theme_minimal()\n",
    "\n",
    "Q3.plot.log.x.log.y <- ggplot(data=(model.errors.m), aes(x=log(models), y=log(error), colour = variable)) +\n",
    "    geom_line() +#xlab('tau (SGD)') +\n",
    "    ggtitle('Bayes vs Logistic') +\n",
    "    labs(title='Learning Curve (log scale x,y)', x='Training set size', y='Misclassification %', color=\"Classifier\") + theme_minimal()\n",
    "\n",
    "Q3.plot.no.log <- ggplot(data=(model.errors.m), aes(x=(models), y=(error), colour = variable)) +\n",
    "    geom_line() +#xlab('tau (SGD)') +\n",
    "    ggtitle('Bayes vs Logistic') +\n",
    "    labs(title='Learning Curve (no log scale)', x='Training set size', y='Misclassification %', color=\"Classifier\") + theme_minimal()\n",
    "\n",
    "options(repr.plot.width=10, repr.plot.height=5.5)\n",
    "grid.arrange(Q3.plot.log.y,\n",
    "             Q3.plot.log.x.log.y,\n",
    "             Q3.plot.no.log,\n",
    "             ncol = 2\n",
    "            )"
   ]
  },
  {
   "cell_type": "code",
   "execution_count": null,
   "metadata": {
    "collapsed": true
   },
   "outputs": [],
   "source": []
  },
  {
   "cell_type": "markdown",
   "metadata": {},
   "source": [
    "__3C__. Explain your observations in your report:\n",
    "1. What does happen for each classifier when the number of training datapoints is increased?\n",
    "\n",
    "    >__Bayesian Classifier__      \n",
    "    > Initially, when training datapoints are very low (close to 5) the misclassification error is very high (68.4%)\n",
    "    > This quickly drops to approx 2% for training set size $\\geq 10$\n",
    "    > Even with some fluctuations, the misclassification error stays around 2% for most of the remaining training set sizes\n",
    "    > This suggests that a Bayesian classifier is terrible for a very small dataset but is relatively good and stable once \n",
    "    > it has enough data points.\n",
    "    >\n",
    "    >__Logistic Regression__  \n",
    "    > Initially, when training datapoints are very low (close to 5) the misclassification error is around 10% (9.6%) \n",
    "    > This quickly drops to approx 2% for training set size $\\geq 10$\n",
    "    > Even with some fluctuations, the misclassification error stays around 2% for most of the remaining training set sizes\n",
    "    > This suggests that a Logistic Regression classifier is okay for a very small dataset and also relatively good once it has \n",
    "    > more data points, though more prone to fluctuations than the Bayes classifier.\n",
    "    >\n",
    "    >\n",
    "    \n",
    "2. Which classifier is best suited when the training set is small, and which is best suited when the training set is big?\n",
    "    > The logistic regression classifier is best suited when the training set is small (approx 5) because its error\n",
    "    > was about 5 times smaller (9.6% vs 68.4%).\n",
    "    > \n",
    "    > For almost all training set sizes, included when the training set is big, logistic regression performed slightly better\n",
    "    > than the bayes classifer, though they both had errors approx 2% which is very impressive.\n",
    "    >\n",
    "    > Hence for both small and large datasets, the discriminative logistic regression classifier was better than the generative bayesian classifier.\n",
    "    \n",
    "3. Justify your observations in  C.1 and C.2 by providing some speculations and possible reasons.\n",
    "\n",
    "    - Hint: Think about model complexity and the fundamental concepts of machine learning covered in Module 1.\n",
    "\n",
    "   > __Why is Logistic Regression better than Bayes Classifiers on small & large datasets?__\n",
    "   >\n",
    "   > It is a widely held belief in statistics that discriminative classifiers (eg logistic regression) outperform their \n",
    "   > generative counterparts (like bayesian classifiers). This is easy to see when the dataset is too small, eg only 5 datapoints, because the generative (bayesian) classifiers have more parameters that need to be fitted because they are not\n",
    "   > just determining the posterior but the prior and likelihood as well. Indeed, from Module 3 Part 6 we read that for \n",
    "   > input variables $x$ with dimension $D$, the generative model (bayesian classifier) needed to fit $\\frac{D(D+5)}{2}+1$ \n",
    "   > parameters which is quadratic in $D$ whereas the discriminative classifier (logistic regression) only needed to fit \n",
    "   > $D+1$ which is linear in $D$. A model with more parameters needs more data to properly fit, and is more prone to \n",
    "   > overfitting on a small ammount of data.\n",
    "   >\n",
    "   > It is slightly harder to exlain why the discriminative classifier also outperformed the generative classifier when the \n",
    "   > dataset was larger. One reason is that generative models make more assumptions about the distributions of the data, \n",
    "   > and so is more prone to errors if these assumptions are not valid. In particular, the bayesian classifier assumes the \n",
    "   > prior for each class is given by the fraction of that class and also assumes that the likelihood of the input data in each \n",
    "   > class follows a certain multivariate normal distribution. That's a big assumption which often isn't completely met, due to \n",
    "   > skewness etc. In contrast, the discriminative classifier (logistic regression) doesn't assume the distribution of the data\n",
    "   > but just tries to find the optimal linear decision boundary if the data is linearly separable. \n",
    "   > \n",
    "   > From the curves it appears that the Bayesian classifer is more smooth while the Logistic regression has more\n",
    "   > fluctuations. This is probably because the estimates for the likelihood and priors used in Bayesian classifiers are relatively robust to outliers or points near the 'decision boundary' because we are primarily generating the distribution for \n",
    "   > each class and then comparing them rather than focusing on the decision boundary directly. Thus we expect little change\n",
    "   > as our sample size increases once each sample is representative of the whole, which gets more and more likely with more \n",
    "   > data. To some extent, the opposite is true for \n",
    "   > logistic regression, where new points close to the decision boundary can easily alter it and/or be misclassified.\n",
    "   > For a relatively linearly separable dataset, the effect is not too great, so that the logistic regression still has a lower\n",
    "   > error than the bayesian classifier, but this explains why bayesian classifiers are more smooth/stable while logistic regression has more fluctuations."
   ]
  },
  {
   "cell_type": "code",
   "execution_count": null,
   "metadata": {
    "collapsed": true
   },
   "outputs": [],
   "source": []
  }
 ],
 "metadata": {
  "kernelspec": {
   "display_name": "R",
   "language": "R",
   "name": "ir"
  },
  "language_info": {
   "codemirror_mode": "r",
   "file_extension": ".r",
   "mimetype": "text/x-r-source",
   "name": "R",
   "pygments_lexer": "r",
   "version": "3.4.3"
  }
 },
 "nbformat": 4,
 "nbformat_minor": 1
}
