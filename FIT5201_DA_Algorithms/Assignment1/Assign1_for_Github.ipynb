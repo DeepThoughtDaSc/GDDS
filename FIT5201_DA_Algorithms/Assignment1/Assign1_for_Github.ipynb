{
 "cells": [
  {
   "cell_type": "markdown",
   "metadata": {},
   "source": [
    "# FIT5201: Assessment 1\n",
    "## The Elements of Machine Learning\n",
    "\n",
    "### Objectives\n",
    "This assignment consists of three parts (A,B,C) that assess your understanding of model complexity, model selection, uncertainty in prediction with bootstrapping, and probabilistic machine learning. The total marks of this assessment is 100, and will contribute to the 20% of your final score. "
   ]
  },
  {
   "cell_type": "markdown",
   "metadata": {},
   "source": [
    "## Important Note\n",
    "* You can complete your assignment using the codes shared in the unit as a base. However, <font color='red'>**you should make sure the codes you are borrowing are correct and relevant to the question**</font>.\n",
    "\n",
    "* Please follow the structure of this template as much as you can.\n",
    "\n",
    "* You can use the prepopulated codes cells or change them if you prefere. However, please do not change the name of the key variables, functions, and parameters eg `knn`, `num.fold`, `train.data`. It helps us to read and understand your submissiont more efficiently."
   ]
  },
  {
   "cell_type": "markdown",
   "metadata": {},
   "source": [
    "### Part A.  Model Complexity and Model Selection\n",
    "In this part, you study the effect of model complexity on the training and testing errors.  You also demonstrate your programming skills by developing a regression algorithm and a cross-validation technique that will be used to select the models with the most effective complexity.\n",
    "\n",
    "__Background__. A KNN regressor is similar to a KNN classifier (covered in Activity 1.1) in the sence that it finds the K nearest neighbors and estimates the label of the given test point based on the labels of its nearest neighbours. The main difference between KNN regression and KNN classification is that KNN classifier returns the label that has the majority vote in the neighborhood, whilst KNN regressor returns the average of the neighbors’ labels. \n",
    "\n",
    "#### Question 1 [KNN Regressor] \n",
    "Q1-1) Implement the KNN regressor function:\n",
    "                                     `knn(train.data, train.label, test.data, K=3)` \n",
    "which takes the training data and their labels (continuous values), the test set, and the size of the neighborhood (`K`). It should return the regressed values for the test data points. When choosing the neighbors, you can use the Euclidean distance function to measure the distance between a pair of data points. \n",
    "\n",
    "__Hint__: You are allowed to use KNN classifier code from Activity 1 of Module 1.\n",
    "\n",
    "Q1-2) Plot the training and the testing errors versus `1/K` for `K=1,..,20` in one plot, using the Task1A_train.csv and Task1A_test.csv datasets provided for this assignment. Discuss your findings.\n",
    "\n",
    "Q1-3) Report the best value for K in terms of the testing error. Discuss the values of K corresponding to underfitting and overfitting based on your plot in Q1-2. "
   ]
  },
  {
   "cell_type": "markdown",
   "metadata": {},
   "source": [
    "#### Question 2 [K-fold Cross Validation] \n",
    "Q2-1) Implement a K-fold Cross Validation (CV) function for your KNN regressor:  \n",
    "       `cv(train.data, train.label, numFold=10)` \n",
    "which takes the training data and their labels (continuous values), the number of folds, and returns RMSE for different folds of the training data. \n",
    "\n",
    "__Hint__: you are allowed to use bootstrap code from Activity 2 of Module 1.\n",
    "\n",
    "Q2-2) Using the training data, run your K-fold CV where the `numFold` is set to 10. Change the value of `K=1,..,20` and for each K compute the average `10` RMSE values you have got.  Plot the average error numbers versus `1/K` for `K=1,..,20`. Further, add two dashed lines around the average error indicating the average +/- standard deviation of errors. Include the plot in your report. \n",
    "\n",
    "Q2-3) Report the values of K that results the minimum average RMSE and minimum standard deviation of RMSE based on your cross validation plot in Q2-2.  Discuss your findings."
   ]
  },
  {
   "cell_type": "markdown",
   "metadata": {},
   "source": [
    "## Question 1 [KNN Regressor] "
   ]
  },
  {
   "cell_type": "markdown",
   "metadata": {},
   "source": [
    "We load the R libraries required."
   ]
  },
  {
   "cell_type": "code",
   "execution_count": 1,
   "metadata": {},
   "outputs": [
    {
     "name": "stderr",
     "output_type": "stream",
     "text": [
      "Warning message:\n",
      "\"package 'ggplot2' was built under R version 3.4.4\"Warning message:\n",
      "\"package 'reshape2' was built under R version 3.4.4\""
     ]
    }
   ],
   "source": [
    "library(ggplot2) # For plotting\n",
    "library(reshape2) # For ...\n",
    "#..."
   ]
  },
  {
   "cell_type": "markdown",
   "metadata": {},
   "source": [
    "### Q1-1 Implement the KNN regressor"
   ]
  },
  {
   "cell_type": "markdown",
   "metadata": {},
   "source": [
    "We define a function to calculate the mean value of the K nearest neighbours based on a distance matrix. And a function to calculate the root mean square error (RMSE)."
   ]
  },
  {
   "cell_type": "code",
   "execution_count": null,
   "metadata": {
    "collapsed": true
   },
   "outputs": [],
   "source": []
  },
  {
   "cell_type": "code",
   "execution_count": 2,
   "metadata": {
    "collapsed": true
   },
   "outputs": [],
   "source": [
    "knn <- function(train.data, train.label, test.data, K=3){\n",
    "    \n",
    "    # Pre-allocate vector and matrices if needed (optional)\n",
    "    # eg. for the best performance, find the distance between any pair of test and train set...\n",
    "    # and sort the index of train.data based on their distances to each test.data sample \n",
    "    \n",
    "    # create variables\n",
    "    train.len <- 0\n",
    "    test.len <- 0\n",
    "    all.data <- c()\n",
    "    \n",
    "    # check if we have 1 dimensional data\n",
    "    if(is.null(nrow(train.data)) | is.null(ncol(train.data))){\n",
    "        #print('Case A')\n",
    "        # if so we need to do length() instead of nrow()\n",
    "        \n",
    "            ## count number of train samples\n",
    "            train.len <- length(train.data)\n",
    "\n",
    "            ## count number of test samples\n",
    "            test.len <- length(test.data)\n",
    "        \n",
    "        # also need to do c() instead of rbind()\n",
    "        \n",
    "            # combine data\n",
    "            all.data <- c(test.data, train.data)\n",
    "        \n",
    "    }# endif(<1dim data>)\n",
    "    else {\n",
    "        \n",
    "        #print('Case B')\n",
    "        ## count number of train samples\n",
    "        train.len <- nrow(train.data)\n",
    "\n",
    "        ## count number of test samples\n",
    "        test.len <- nrow(test.data)\n",
    "        \n",
    "        # combine data\n",
    "        all.data <- rbind(test.data, train.data)\n",
    "        \n",
    "    }#endelse (<1dim data>)\n",
    "    \n",
    "\n",
    "    \n",
    "    mean.value <- rep(0,test.len)\n",
    "    \n",
    "    ## calculate distances between samples\n",
    "    dist <- as.matrix(dist(all.data, method= 'euclidean'))[1:test.len, (test.len+1):(test.len+train.len)]\n",
    "    \n",
    "    ## for each test sample...\n",
    "    for (i in 1:test.len){\n",
    "        \n",
    "        \n",
    "        ### ...find its K nearest neighbours from training sampels...\n",
    "        nn <- as.data.frame(sort(dist[i,], index.return = TRUE))[1:K,2]\n",
    "        \n",
    "        ###... and calculate the predicted labels according to the majority vote\n",
    "        mean.value[i]<- (mean(train.label[nn]))\n",
    "    }\n",
    "    \n",
    "    # Return the mean value as output\n",
    "    return (mean.value)\n",
    "    \n",
    "}\n",
    "\n",
    "\n",
    "rmse <- function(real.value, estimated.value) {\n",
    "    \n",
    "  return(sqrt(mean((real.value - estimated.value)^2)))\n",
    "}"
   ]
  },
  {
   "cell_type": "markdown",
   "metadata": {},
   "source": [
    "### Q1-2 Plot training and testing errors v.s. 1/K"
   ]
  },
  {
   "cell_type": "markdown",
   "metadata": {},
   "source": [
    "We load the data, then separate the predictors (train.data and test.data) from the target values (train.value and test.value) for input to the knn regressor function."
   ]
  },
  {
   "cell_type": "code",
   "execution_count": 3,
   "metadata": {
    "collapsed": true
   },
   "outputs": [],
   "source": [
    "# Load the data\n",
    "train.data <- read.csv(\"../Task1A_train.csv\")"
   ]
  },
  {
   "cell_type": "code",
   "execution_count": 4,
   "metadata": {},
   "outputs": [
    {
     "data": {
      "text/html": [
       "<ol class=list-inline>\n",
       "\t<li>42</li>\n",
       "\t<li>2</li>\n",
       "</ol>\n"
      ],
      "text/latex": [
       "\\begin{enumerate*}\n",
       "\\item 42\n",
       "\\item 2\n",
       "\\end{enumerate*}\n"
      ],
      "text/markdown": [
       "1. 42\n",
       "2. 2\n",
       "\n",
       "\n"
      ],
      "text/plain": [
       "[1] 42  2"
      ]
     },
     "metadata": {},
     "output_type": "display_data"
    }
   ],
   "source": [
    "dim(train.data)"
   ]
  },
  {
   "cell_type": "code",
   "execution_count": 5,
   "metadata": {},
   "outputs": [
    {
     "data": {
      "text/html": [
       "<table>\n",
       "<thead><tr><th scope=col>x1</th><th scope=col>y</th></tr></thead>\n",
       "<tbody>\n",
       "\t<tr><td>1960.0</td><td>0.71  </td></tr>\n",
       "\t<tr><td>1960.5</td><td>0.85  </td></tr>\n",
       "\t<tr><td>1961.0</td><td>0.61  </td></tr>\n",
       "</tbody>\n",
       "</table>\n"
      ],
      "text/latex": [
       "\\begin{tabular}{r|ll}\n",
       " x1 & y\\\\\n",
       "\\hline\n",
       "\t 1960.0 & 0.71  \\\\\n",
       "\t 1960.5 & 0.85  \\\\\n",
       "\t 1961.0 & 0.61  \\\\\n",
       "\\end{tabular}\n"
      ],
      "text/markdown": [
       "\n",
       "x1 | y | \n",
       "|---|---|---|\n",
       "| 1960.0 | 0.71   | \n",
       "| 1960.5 | 0.85   | \n",
       "| 1961.0 | 0.61   | \n",
       "\n",
       "\n"
      ],
      "text/plain": [
       "  x1     y   \n",
       "1 1960.0 0.71\n",
       "2 1960.5 0.85\n",
       "3 1961.0 0.61"
      ]
     },
     "metadata": {},
     "output_type": "display_data"
    }
   ],
   "source": [
    "head(train.data,3)"
   ]
  },
  {
   "cell_type": "code",
   "execution_count": 6,
   "metadata": {},
   "outputs": [
    {
     "data": {
      "text/plain": [
       "       x1             y         \n",
       " Min.   :1960   Min.   : 0.610  \n",
       " 1st Qu.:1965   1st Qu.: 1.245  \n",
       " Median :1970   Median : 3.195  \n",
       " Mean   :1970   Mean   : 5.023  \n",
       " 3rd Qu.:1975   3rd Qu.: 7.537  \n",
       " Max.   :1980   Max.   :16.200  "
      ]
     },
     "metadata": {},
     "output_type": "display_data"
    }
   ],
   "source": [
    "summary(train.data)"
   ]
  },
  {
   "cell_type": "code",
   "execution_count": 7,
   "metadata": {},
   "outputs": [
    {
     "data": {
      "image/png": "[encoded data removed]",
      "text/plain": [
       "Plot with title \"Histogram of train.data$y\""
      ]
     },
     "metadata": {},
     "output_type": "display_data"
    }
   ],
   "source": [
    "options(repr.plot.width=3.5, repr.plot.height=3.0)\n",
    "hist(train.data$y, col = 'lightblue')"
   ]
  },
  {
   "cell_type": "code",
   "execution_count": 8,
   "metadata": {},
   "outputs": [
    {
     "data": {
      "image/png": "[encoded data removed]",
      "text/plain": [
       "Plot with title \"Histogram of train.data$x1\""
      ]
     },
     "metadata": {},
     "output_type": "display_data"
    }
   ],
   "source": [
    "options(repr.plot.width=3.5, repr.plot.height=3.0)\n",
    "hist(train.data$x1, col = 'lightblue')"
   ]
  },
  {
   "cell_type": "code",
   "execution_count": 9,
   "metadata": {
    "collapsed": true
   },
   "outputs": [],
   "source": [
    "test.data <- read.csv(\"../Task1A_test.csv\")"
   ]
  },
  {
   "cell_type": "code",
   "execution_count": 10,
   "metadata": {},
   "outputs": [
    {
     "data": {
      "text/html": [
       "<ol class=list-inline>\n",
       "\t<li>42</li>\n",
       "\t<li>2</li>\n",
       "</ol>\n"
      ],
      "text/latex": [
       "\\begin{enumerate*}\n",
       "\\item 42\n",
       "\\item 2\n",
       "\\end{enumerate*}\n"
      ],
      "text/markdown": [
       "1. 42\n",
       "2. 2\n",
       "\n",
       "\n"
      ],
      "text/plain": [
       "[1] 42  2"
      ]
     },
     "metadata": {},
     "output_type": "display_data"
    }
   ],
   "source": [
    "dim(test.data)"
   ]
  },
  {
   "cell_type": "code",
   "execution_count": 11,
   "metadata": {},
   "outputs": [
    {
     "data": {
      "text/html": [
       "<table>\n",
       "<thead><tr><th scope=col>x1</th><th scope=col>y</th></tr></thead>\n",
       "<tbody>\n",
       "\t<tr><td>1960.25</td><td>0.63   </td></tr>\n",
       "\t<tr><td>1960.75</td><td>0.44   </td></tr>\n",
       "\t<tr><td>1961.25</td><td>0.69   </td></tr>\n",
       "</tbody>\n",
       "</table>\n"
      ],
      "text/latex": [
       "\\begin{tabular}{r|ll}\n",
       " x1 & y\\\\\n",
       "\\hline\n",
       "\t 1960.25 & 0.63   \\\\\n",
       "\t 1960.75 & 0.44   \\\\\n",
       "\t 1961.25 & 0.69   \\\\\n",
       "\\end{tabular}\n"
      ],
      "text/markdown": [
       "\n",
       "x1 | y | \n",
       "|---|---|---|\n",
       "| 1960.25 | 0.63    | \n",
       "| 1960.75 | 0.44    | \n",
       "| 1961.25 | 0.69    | \n",
       "\n",
       "\n"
      ],
      "text/plain": [
       "  x1      y   \n",
       "1 1960.25 0.63\n",
       "2 1960.75 0.44\n",
       "3 1961.25 0.69"
      ]
     },
     "metadata": {},
     "output_type": "display_data"
    }
   ],
   "source": [
    "head(test.data,3)"
   ]
  },
  {
   "cell_type": "code",
   "execution_count": 12,
   "metadata": {},
   "outputs": [
    {
     "data": {
      "text/plain": [
       "       x1             y         \n",
       " Min.   :1960   Min.   : 0.440  \n",
       " 1st Qu.:1965   1st Qu.: 1.262  \n",
       " Median :1970   Median : 3.510  \n",
       " Mean   :1970   Mean   : 4.577  \n",
       " 3rd Qu.:1976   3rd Qu.: 6.728  \n",
       " Max.   :1981   Max.   :14.670  "
      ]
     },
     "metadata": {},
     "output_type": "display_data"
    }
   ],
   "source": [
    "summary(test.data)"
   ]
  },
  {
   "cell_type": "code",
   "execution_count": 13,
   "metadata": {},
   "outputs": [
    {
     "data": {
      "image/png": "[encoded data removed]",
      "text/plain": [
       "Plot with title \"Histogram of test.data$y\""
      ]
     },
     "metadata": {},
     "output_type": "display_data"
    }
   ],
   "source": [
    "options(repr.plot.width=3.5, repr.plot.height=3.0)\n",
    "hist(test.data$y, col = 'lightblue')"
   ]
  },
  {
   "cell_type": "code",
   "execution_count": 14,
   "metadata": {},
   "outputs": [
    {
     "data": {
      "image/png": "[encoded data removed]",
      "text/plain": [
       "Plot with title \"Histogram of test.data$x1\""
      ]
     },
     "metadata": {},
     "output_type": "display_data"
    }
   ],
   "source": [
    "options(repr.plot.width=3.5, repr.plot.height=3.0)\n",
    "hist(test.data$x1, col = 'lightblue')"
   ]
  },
  {
   "cell_type": "markdown",
   "metadata": {},
   "source": [
    "__ Observations__\n",
    "\n",
    "- Both train & test sets have same distributions for each variables.\n",
    "- Probably good to scale both of them for knn but dont actually need since only one input variable"
   ]
  },
  {
   "cell_type": "code",
   "execution_count": 15,
   "metadata": {},
   "outputs": [
    {
     "data": {
      "text/html": [
       "<table>\n",
       "<thead><tr><th scope=col>x1</th><th scope=col>y</th></tr></thead>\n",
       "<tbody>\n",
       "\t<tr><td>1960.0</td><td>0.71  </td></tr>\n",
       "\t<tr><td>1960.5</td><td>0.85  </td></tr>\n",
       "\t<tr><td>1961.0</td><td>0.61  </td></tr>\n",
       "</tbody>\n",
       "</table>\n"
      ],
      "text/latex": [
       "\\begin{tabular}{r|ll}\n",
       " x1 & y\\\\\n",
       "\\hline\n",
       "\t 1960.0 & 0.71  \\\\\n",
       "\t 1960.5 & 0.85  \\\\\n",
       "\t 1961.0 & 0.61  \\\\\n",
       "\\end{tabular}\n"
      ],
      "text/markdown": [
       "\n",
       "x1 | y | \n",
       "|---|---|---|\n",
       "| 1960.0 | 0.71   | \n",
       "| 1960.5 | 0.85   | \n",
       "| 1961.0 | 0.61   | \n",
       "\n",
       "\n"
      ],
      "text/plain": [
       "  x1     y   \n",
       "1 1960.0 0.71\n",
       "2 1960.5 0.85\n",
       "3 1961.0 0.61"
      ]
     },
     "metadata": {},
     "output_type": "display_data"
    }
   ],
   "source": [
    "head(train.data,3)"
   ]
  },
  {
   "cell_type": "code",
   "execution_count": null,
   "metadata": {
    "collapsed": true
   },
   "outputs": [],
   "source": []
  },
  {
   "cell_type": "markdown",
   "metadata": {},
   "source": [
    "So column 1 (x1) is our data and column 2 (y) is our label"
   ]
  },
  {
   "cell_type": "code",
   "execution_count": 16,
   "metadata": {
    "collapsed": true
   },
   "outputs": [],
   "source": [
    "# Split dependent and independent attributes\n",
    "train.label <- train.data[,2] # label only\n",
    "train.data <- train.data[,-2] # remove label"
   ]
  },
  {
   "cell_type": "code",
   "execution_count": 17,
   "metadata": {},
   "outputs": [
    {
     "data": {
      "text/html": [
       "<ol class=list-inline>\n",
       "\t<li>0.71</li>\n",
       "\t<li>0.85</li>\n",
       "\t<li>0.61</li>\n",
       "</ol>\n"
      ],
      "text/latex": [
       "\\begin{enumerate*}\n",
       "\\item 0.71\n",
       "\\item 0.85\n",
       "\\item 0.61\n",
       "\\end{enumerate*}\n"
      ],
      "text/markdown": [
       "1. 0.71\n",
       "2. 0.85\n",
       "3. 0.61\n",
       "\n",
       "\n"
      ],
      "text/plain": [
       "[1] 0.71 0.85 0.61"
      ]
     },
     "metadata": {},
     "output_type": "display_data"
    }
   ],
   "source": [
    "head(train.label,3)"
   ]
  },
  {
   "cell_type": "code",
   "execution_count": 18,
   "metadata": {},
   "outputs": [
    {
     "data": {
      "text/html": [
       "<ol class=list-inline>\n",
       "\t<li>1960</li>\n",
       "\t<li>1960.5</li>\n",
       "\t<li>1961</li>\n",
       "</ol>\n"
      ],
      "text/latex": [
       "\\begin{enumerate*}\n",
       "\\item 1960\n",
       "\\item 1960.5\n",
       "\\item 1961\n",
       "\\end{enumerate*}\n"
      ],
      "text/markdown": [
       "1. 1960\n",
       "2. 1960.5\n",
       "3. 1961\n",
       "\n",
       "\n"
      ],
      "text/plain": [
       "[1] 1960.0 1960.5 1961.0"
      ]
     },
     "metadata": {},
     "output_type": "display_data"
    }
   ],
   "source": [
    "head(train.data,3)"
   ]
  },
  {
   "cell_type": "code",
   "execution_count": 19,
   "metadata": {
    "collapsed": true
   },
   "outputs": [],
   "source": [
    "test.label <- test.data[,2] # label only\n",
    "test.data <- test.data[,-2] # remove label"
   ]
  },
  {
   "cell_type": "code",
   "execution_count": 20,
   "metadata": {
    "collapsed": true
   },
   "outputs": [],
   "source": [
    "## count number of train samples\n",
    "train.len <- length(train.data)\n",
    "\n",
    "## count number of test samples\n",
    "test.len <- length(test.data)\n",
    "\n",
    "# set random seed\n",
    "set.seed(1234)"
   ]
  },
  {
   "cell_type": "code",
   "execution_count": 21,
   "metadata": {},
   "outputs": [
    {
     "data": {
      "text/html": [
       "42"
      ],
      "text/latex": [
       "42"
      ],
      "text/markdown": [
       "42"
      ],
      "text/plain": [
       "[1] 42"
      ]
     },
     "metadata": {},
     "output_type": "display_data"
    },
    {
     "data": {
      "text/html": [
       "42"
      ],
      "text/latex": [
       "42"
      ],
      "text/markdown": [
       "42"
      ],
      "text/plain": [
       "[1] 42"
      ]
     },
     "metadata": {},
     "output_type": "display_data"
    }
   ],
   "source": [
    "train.len\n",
    "test.len"
   ]
  },
  {
   "cell_type": "code",
   "execution_count": null,
   "metadata": {
    "collapsed": true
   },
   "outputs": [],
   "source": []
  },
  {
   "cell_type": "markdown",
   "metadata": {},
   "source": [
    "We calculate the train and test RMSE's for K in 1:20."
   ]
  },
  {
   "cell_type": "code",
   "execution_count": 22,
   "metadata": {
    "collapsed": true
   },
   "outputs": [],
   "source": [
    "# Initiate a dataframe to recors RMSE\n",
    "rmse.df <- data.frame('K'=1:20, 'TrainRMSE'=0, 'TestRMSE'=0)"
   ]
  },
  {
   "cell_type": "code",
   "execution_count": 23,
   "metadata": {},
   "outputs": [
    {
     "data": {
      "text/html": [
       "<table>\n",
       "<thead><tr><th scope=col>K</th><th scope=col>TrainRMSE</th><th scope=col>TestRMSE</th></tr></thead>\n",
       "<tbody>\n",
       "\t<tr><td>1</td><td>0</td><td>0</td></tr>\n",
       "\t<tr><td>2</td><td>0</td><td>0</td></tr>\n",
       "\t<tr><td>3</td><td>0</td><td>0</td></tr>\n",
       "</tbody>\n",
       "</table>\n"
      ],
      "text/latex": [
       "\\begin{tabular}{r|lll}\n",
       " K & TrainRMSE & TestRMSE\\\\\n",
       "\\hline\n",
       "\t 1 & 0 & 0\\\\\n",
       "\t 2 & 0 & 0\\\\\n",
       "\t 3 & 0 & 0\\\\\n",
       "\\end{tabular}\n"
      ],
      "text/markdown": [
       "\n",
       "K | TrainRMSE | TestRMSE | \n",
       "|---|---|---|\n",
       "| 1 | 0 | 0 | \n",
       "| 2 | 0 | 0 | \n",
       "| 3 | 0 | 0 | \n",
       "\n",
       "\n"
      ],
      "text/plain": [
       "  K TrainRMSE TestRMSE\n",
       "1 1 0         0       \n",
       "2 2 0         0       \n",
       "3 3 0         0       "
      ]
     },
     "metadata": {},
     "output_type": "display_data"
    }
   ],
   "source": [
    "head(rmse.df,3)"
   ]
  },
  {
   "cell_type": "code",
   "execution_count": null,
   "metadata": {
    "collapsed": true
   },
   "outputs": [],
   "source": []
  },
  {
   "cell_type": "code",
   "execution_count": 24,
   "metadata": {
    "collapsed": true
   },
   "outputs": [],
   "source": [
    "# calculating rmse... \n",
    "for (k in 1:20) {\n",
    "    \n",
    "    # training rmse\n",
    "    # knn <- function(train.data, train.label, test.data, K=3)\n",
    "    rmse.df[k, 'TrainRMSE'] = rmse(train.label,knn(train.data,train.label,train.data,K=k))\n",
    "    \n",
    "    \n",
    "    # testing rmse\n",
    "    rmse.df[k, 'TestRMSE'] = rmse(test.label,knn(train.data,train.label,test.data,K=k))\n",
    "    \n",
    "    # NB first argument in each rmse() call is different, first is 'train.data', second is 'test.data'\n",
    "    # NB third argument in each knn() call is different, first is 'train.data', second is 'test.data'\n",
    "        \n",
    "}"
   ]
  },
  {
   "cell_type": "code",
   "execution_count": 25,
   "metadata": {},
   "outputs": [
    {
     "data": {
      "text/html": [
       "<table>\n",
       "<thead><tr><th scope=col>K</th><th scope=col>TrainRMSE</th><th scope=col>TestRMSE</th></tr></thead>\n",
       "<tbody>\n",
       "\t<tr><td>1        </td><td>0.0000000</td><td>1.299894 </td></tr>\n",
       "\t<tr><td>2        </td><td>0.3497031</td><td>1.458311 </td></tr>\n",
       "\t<tr><td>3        </td><td>0.3103885</td><td>1.301972 </td></tr>\n",
       "</tbody>\n",
       "</table>\n"
      ],
      "text/latex": [
       "\\begin{tabular}{r|lll}\n",
       " K & TrainRMSE & TestRMSE\\\\\n",
       "\\hline\n",
       "\t 1         & 0.0000000 & 1.299894 \\\\\n",
       "\t 2         & 0.3497031 & 1.458311 \\\\\n",
       "\t 3         & 0.3103885 & 1.301972 \\\\\n",
       "\\end{tabular}\n"
      ],
      "text/markdown": [
       "\n",
       "K | TrainRMSE | TestRMSE | \n",
       "|---|---|---|\n",
       "| 1         | 0.0000000 | 1.299894  | \n",
       "| 2         | 0.3497031 | 1.458311  | \n",
       "| 3         | 0.3103885 | 1.301972  | \n",
       "\n",
       "\n"
      ],
      "text/plain": [
       "  K TrainRMSE TestRMSE\n",
       "1 1 0.0000000 1.299894\n",
       "2 2 0.3497031 1.458311\n",
       "3 3 0.3103885 1.301972"
      ]
     },
     "metadata": {},
     "output_type": "display_data"
    }
   ],
   "source": [
    "head(rmse.df,3)"
   ]
  },
  {
   "cell_type": "code",
   "execution_count": 26,
   "metadata": {},
   "outputs": [
    {
     "data": {
      "text/html": [
       "<table>\n",
       "<thead><tr><th></th><th scope=col>K</th><th scope=col>TrainRMSE</th><th scope=col>TestRMSE</th></tr></thead>\n",
       "<tbody>\n",
       "\t<tr><th scope=row>18</th><td>18      </td><td>1.945864</td><td>1.358559</td></tr>\n",
       "\t<tr><th scope=row>19</th><td>19      </td><td>2.058544</td><td>1.384632</td></tr>\n",
       "\t<tr><th scope=row>20</th><td>20      </td><td>2.147728</td><td>1.508961</td></tr>\n",
       "</tbody>\n",
       "</table>\n"
      ],
      "text/latex": [
       "\\begin{tabular}{r|lll}\n",
       "  & K & TrainRMSE & TestRMSE\\\\\n",
       "\\hline\n",
       "\t18 & 18       & 1.945864 & 1.358559\\\\\n",
       "\t19 & 19       & 2.058544 & 1.384632\\\\\n",
       "\t20 & 20       & 2.147728 & 1.508961\\\\\n",
       "\\end{tabular}\n"
      ],
      "text/markdown": [
       "\n",
       "| <!--/--> | K | TrainRMSE | TestRMSE | \n",
       "|---|---|---|\n",
       "| 18 | 18       | 1.945864 | 1.358559 | \n",
       "| 19 | 19       | 2.058544 | 1.384632 | \n",
       "| 20 | 20       | 2.147728 | 1.508961 | \n",
       "\n",
       "\n"
      ],
      "text/plain": [
       "   K  TrainRMSE TestRMSE\n",
       "18 18 1.945864  1.358559\n",
       "19 19 2.058544  1.384632\n",
       "20 20 2.147728  1.508961"
      ]
     },
     "metadata": {},
     "output_type": "display_data"
    }
   ],
   "source": [
    "tail(rmse.df,3)"
   ]
  },
  {
   "cell_type": "code",
   "execution_count": null,
   "metadata": {
    "collapsed": true
   },
   "outputs": [],
   "source": []
  },
  {
   "cell_type": "markdown",
   "metadata": {},
   "source": [
    "We plot the training and testing errors."
   ]
  },
  {
   "cell_type": "code",
   "execution_count": 27,
   "metadata": {
    "collapsed": true
   },
   "outputs": [],
   "source": [
    "# Reshape if needed\n",
    "rmse.df.melted <- melt(rmse.df, id='K') # reshape for visualization\n",
    "names(rmse.df.melted) <- c('K', 'type', 'RMSE')"
   ]
  },
  {
   "cell_type": "code",
   "execution_count": 28,
   "metadata": {},
   "outputs": [
    {
     "data": {
      "text/html": [
       "<table>\n",
       "<thead><tr><th scope=col>K</th><th scope=col>type</th><th scope=col>RMSE</th></tr></thead>\n",
       "<tbody>\n",
       "\t<tr><td>1        </td><td>TrainRMSE</td><td>0.0000000</td></tr>\n",
       "\t<tr><td>2        </td><td>TrainRMSE</td><td>0.3497031</td></tr>\n",
       "\t<tr><td>3        </td><td>TrainRMSE</td><td>0.3103885</td></tr>\n",
       "</tbody>\n",
       "</table>\n"
      ],
      "text/latex": [
       "\\begin{tabular}{r|lll}\n",
       " K & type & RMSE\\\\\n",
       "\\hline\n",
       "\t 1         & TrainRMSE & 0.0000000\\\\\n",
       "\t 2         & TrainRMSE & 0.3497031\\\\\n",
       "\t 3         & TrainRMSE & 0.3103885\\\\\n",
       "\\end{tabular}\n"
      ],
      "text/markdown": [
       "\n",
       "K | type | RMSE | \n",
       "|---|---|---|\n",
       "| 1         | TrainRMSE | 0.0000000 | \n",
       "| 2         | TrainRMSE | 0.3497031 | \n",
       "| 3         | TrainRMSE | 0.3103885 | \n",
       "\n",
       "\n"
      ],
      "text/plain": [
       "  K type      RMSE     \n",
       "1 1 TrainRMSE 0.0000000\n",
       "2 2 TrainRMSE 0.3497031\n",
       "3 3 TrainRMSE 0.3103885"
      ]
     },
     "metadata": {},
     "output_type": "display_data"
    }
   ],
   "source": [
    "head(rmse.df.melted,3)"
   ]
  },
  {
   "cell_type": "code",
   "execution_count": null,
   "metadata": {
    "collapsed": true
   },
   "outputs": [],
   "source": []
  },
  {
   "cell_type": "code",
   "execution_count": 29,
   "metadata": {},
   "outputs": [
    {
     "data": {},
     "metadata": {},
     "output_type": "display_data"
    },
    {
     "data": {
      "image/png": "[encoded data removed]",
      "text/plain": [
       "plot without title"
      ]
     },
     "metadata": {},
     "output_type": "display_data"
    }
   ],
   "source": [
    "# Plot\n",
    "options(repr.plot.width=5, repr.plot.height=3.5) \n",
    "ggplot(data=rmse.df.melted, aes(x=1/K, y=RMSE, color=type)) + geom_line() +\n",
    "       scale_color_discrete(guide=guide_legend(title=NULL)) +\n",
    "       theme_minimal() +\n",
    "       scale_x_continuous(breaks=seq(0, 1, 0.1)) +\n",
    "       ggtitle(\"Train and Test RMSE's for Various 1/K\")"
   ]
  },
  {
   "cell_type": "code",
   "execution_count": 30,
   "metadata": {},
   "outputs": [
    {
     "data": {},
     "metadata": {},
     "output_type": "display_data"
    },
    {
     "data": {
      "image/png": "[encoded data removed]",
      "text/plain": [
       "plot without title"
      ]
     },
     "metadata": {},
     "output_type": "display_data"
    }
   ],
   "source": [
    "options(repr.plot.width=5, repr.plot.height=3.5) \n",
    "ggplot(data=rmse.df.melted, aes(x=K, y=RMSE, color=type)) + geom_line() +\n",
    "       scale_color_discrete(guide=guide_legend(title=NULL)) +\n",
    "       theme_minimal() +\n",
    "       #scale_x_continuous(breaks=seq(0, 1, 0.1)) +\n",
    "       ggtitle(\"Train and Test RMSE's for Various K\") +\n",
    "       scale_x_reverse()"
   ]
  },
  {
   "cell_type": "code",
   "execution_count": null,
   "metadata": {
    "collapsed": true
   },
   "outputs": [],
   "source": []
  },
  {
   "cell_type": "markdown",
   "metadata": {},
   "source": [
    "### Q1-3 Report the best K"
   ]
  },
  {
   "cell_type": "markdown",
   "metadata": {
    "collapsed": true
   },
   "source": [
    "__ 1st Graph __ \n",
    "\n",
    "We see a clear U-shape for the test set in the 1/K complexity vs Error graph, with the minimum around 1/K = 0.1 \n",
    "\n",
    "For values approx 1/K < 0.1, the test error increases, suggesting underfitting (ie complexity is too low)\n",
    "\n",
    "For values approx 1/K > 0.1 the test error increases, suggesting overfitting (ie complexity is too high)\n",
    "\n",
    "The train error approximately exponentially decreases towards 0 as complexity (1/K) increases.\n",
    "\n",
    "__ 2nd Graph__\n",
    "\n",
    "We still see the U-shape for the test set in the second graph, which still plots complexity vs error by plotting K on the x axis but then reversing the limits so K is descending rather than ascending. Hence we still capture the pattern of increasing complexity as K decreases, but on a different scale.\n",
    "\n",
    "Visually the minimum test error appears to be around K = 10, which corresponds with the 1/K = 0.1 value observed in the first graph.\n",
    "\n",
    "For values approx K > 10 the test error increases, suggesting underfitting (ie complexity is too low)\n",
    "\n",
    "For values approx K < 10 the test error increases, suggesting overfitting (ie complexity is too high)\n",
    "\n",
    "The training error graph here is more linear and less exponential but still heads to 0 as complexity increases (K decreases).\n",
    "\n",
    "__ Best K Value__\n",
    "\n",
    "So far we have two approximations based on the minimum test error in both graphs:\n",
    "\n",
    "- 1/K approximately 0.1\n",
    "- K approximately 10\n",
    "\n",
    "The exact K value is:"
   ]
  },
  {
   "cell_type": "code",
   "execution_count": 31,
   "metadata": {},
   "outputs": [
    {
     "data": {
      "text/html": [
       "11"
      ],
      "text/latex": [
       "11"
      ],
      "text/markdown": [
       "11"
      ],
      "text/plain": [
       "[1] 11"
      ]
     },
     "metadata": {},
     "output_type": "display_data"
    }
   ],
   "source": [
    "# find the value for K which minimises the Test RMSE\n",
    "which.min(rmse.df$TestRMSE)"
   ]
  },
  {
   "cell_type": "markdown",
   "metadata": {},
   "source": [
    "So the best K value is 11."
   ]
  },
  {
   "cell_type": "code",
   "execution_count": null,
   "metadata": {
    "collapsed": true
   },
   "outputs": [],
   "source": []
  },
  {
   "cell_type": "markdown",
   "metadata": {},
   "source": [
    "## Question 2 [K-fold Cross Validation]"
   ]
  },
  {
   "cell_type": "markdown",
   "metadata": {},
   "source": [
    "### Q2-1 Implement a K-fold cross validation"
   ]
  },
  {
   "cell_type": "markdown",
   "metadata": {},
   "source": [
    "We define a function to segment a dataset into a given number of folds for K-fold cross validation to determine the most suitable value for the number of nearest neighbours K considering all the folds."
   ]
  },
  {
   "cell_type": "code",
   "execution_count": 32,
   "metadata": {
    "collapsed": true
   },
   "outputs": [],
   "source": [
    "set.seed(1234)"
   ]
  },
  {
   "cell_type": "code",
   "execution_count": 33,
   "metadata": {},
   "outputs": [
    {
     "data": {
      "text/html": [
       "<table>\n",
       "<tbody>\n",
       "\t<tr><td> 2</td><td>6 </td><td>5 </td><td>8 </td></tr>\n",
       "\t<tr><td> 9</td><td>4 </td><td>1 </td><td>7 </td></tr>\n",
       "\t<tr><td>10</td><td>3 </td><td>2 </td><td>6 </td></tr>\n",
       "</tbody>\n",
       "</table>\n"
      ],
      "text/latex": [
       "\\begin{tabular}{llll}\n",
       "\t  2 & 6  & 5  & 8 \\\\\n",
       "\t  9 & 4  & 1  & 7 \\\\\n",
       "\t 10 & 3  & 2  & 6 \\\\\n",
       "\\end{tabular}\n"
      ],
      "text/markdown": [
       "\n",
       "|  2 | 6  | 5  | 8  | \n",
       "|  9 | 4  | 1  | 7  | \n",
       "| 10 | 3  | 2  | 6  | \n",
       "\n",
       "\n"
      ],
      "text/plain": [
       "     [,1] [,2] [,3] [,4]\n",
       "[1,]  2   6    5    8   \n",
       "[2,]  9   4    1    7   \n",
       "[3,] 10   3    2    6   "
      ]
     },
     "metadata": {},
     "output_type": "display_data"
    }
   ],
   "source": [
    "# define a function that generates sample indixes based on bootstrap technique\n",
    "cv.samples <- function (sample.size, num.fold){\n",
    "    options(warn = -1)\n",
    "    index.shuffle <- sample(x=sample.size, size=sample.size, replace = FALSE)\n",
    "    \n",
    "       dev.size <- floor(sample.size / num.fold)\n",
    "    \n",
    "    indx <- matrix(index.shuffle,nrow=num.fold, byrow = TRUE)\n",
    "   # indx <- matrix(index.shuffle,ncol=dev.size, byrow = FALSE)\n",
    "    \n",
    "    return(indx)\n",
    "    \n",
    "}\n",
    "# just to see if it works!\n",
    "cv.samples(10, 3)"
   ]
  },
  {
   "cell_type": "code",
   "execution_count": null,
   "metadata": {
    "collapsed": true
   },
   "outputs": [],
   "source": []
  },
  {
   "cell_type": "code",
   "execution_count": null,
   "metadata": {
    "collapsed": true
   },
   "outputs": [],
   "source": []
  },
  {
   "cell_type": "code",
   "execution_count": 34,
   "metadata": {
    "collapsed": true
   },
   "outputs": [],
   "source": [
    "cv <- function (train.data, train.label, num.fold=10, K=3){\n",
    "    # Initiate a dataframe to record RMSE\n",
    "    \n",
    "    L <- num.fold\n",
    "    \n",
    "    rmse.df <- data.frame('K'=1:K, 'L'=1:L, 'RMSE'=rep(0, L * K))\n",
    "    \n",
    "    train.len <- length(train.data)\n",
    "    \n",
    "    dev.size = floor(train.len / L) # number of samples reserved for validation\n",
    "    # notice that since the sample size may not be a multiple of 10!\n",
    "    \n",
    "    cv.samples.indx <- cv.samples(train.len, num.fold)\n",
    "    \n",
    "    for (l in 1:num.fold) {\n",
    "        dev.indices = cv.samples.indx[l,] # indices for this fold only\n",
    "        #train.indices =  # all indices except the ones used above for the fold\n",
    "        \n",
    "        \n",
    "        # for each value of k...\n",
    "        for (k in 1:K) {\n",
    "            \n",
    "            #### calculate iteration index i\n",
    "            i <- (k-1)*L+l\n",
    "\n",
    "            #### save the value of k and l\n",
    "            rmse.df[i,'K'] <- k\n",
    "            rmse.df[i,'L'] <- l\n",
    "\n",
    "            # rmse (real, estimate)\n",
    "            # knn <- function(train.data, train.label, test.data, K=3)\n",
    "            rmse.df[i,'RMSE' ] = rmse(train.label[dev.indices],\n",
    "                                      knn(train.data[-dev.indices],\n",
    "                                          train.label[-dev.indices],\n",
    "                                          train.data[dev.indices],\n",
    "                                          K=k))\n",
    "        }\n",
    "    \n",
    "    }\n",
    "    \n",
    "    return(rmse.df)\n",
    "}"
   ]
  },
  {
   "cell_type": "code",
   "execution_count": 35,
   "metadata": {
    "collapsed": true
   },
   "outputs": [],
   "source": [
    "K <- 20 # maximum number of nearest neighbours\n",
    "L <- 10 # number of folds in cross validation"
   ]
  },
  {
   "cell_type": "code",
   "execution_count": 36,
   "metadata": {},
   "outputs": [
    {
     "data": {
      "text/html": [
       "<ol class=list-inline>\n",
       "\t<li>1960</li>\n",
       "\t<li>1960.5</li>\n",
       "\t<li>1961</li>\n",
       "\t<li>1961.5</li>\n",
       "\t<li>1962</li>\n",
       "\t<li>1962.5</li>\n",
       "\t<li>1963</li>\n",
       "\t<li>1963.5</li>\n",
       "\t<li>1964</li>\n",
       "\t<li>1964.5</li>\n",
       "\t<li>1965</li>\n",
       "\t<li>1965.5</li>\n",
       "\t<li>1966</li>\n",
       "\t<li>1966.5</li>\n",
       "\t<li>1967</li>\n",
       "\t<li>1967.5</li>\n",
       "\t<li>1968</li>\n",
       "\t<li>1968.5</li>\n",
       "\t<li>1969</li>\n",
       "\t<li>1969.5</li>\n",
       "\t<li>1970</li>\n",
       "\t<li>1970.5</li>\n",
       "\t<li>1971</li>\n",
       "\t<li>1971.5</li>\n",
       "\t<li>1972</li>\n",
       "\t<li>1972.5</li>\n",
       "\t<li>1973</li>\n",
       "\t<li>1973.5</li>\n",
       "\t<li>1974</li>\n",
       "\t<li>1974.5</li>\n",
       "\t<li>1975</li>\n",
       "\t<li>1975.5</li>\n",
       "\t<li>1976</li>\n",
       "\t<li>1976.5</li>\n",
       "\t<li>1977</li>\n",
       "\t<li>1977.5</li>\n",
       "\t<li>1978</li>\n",
       "\t<li>1978.5</li>\n",
       "\t<li>1979</li>\n",
       "\t<li>1979.5</li>\n",
       "\t<li>1980</li>\n",
       "\t<li>1980.5</li>\n",
       "\t<li>1960.25</li>\n",
       "\t<li>1960.75</li>\n",
       "\t<li>1961.25</li>\n",
       "\t<li>1961.75</li>\n",
       "\t<li>1962.25</li>\n",
       "\t<li>1962.75</li>\n",
       "\t<li>1963.25</li>\n",
       "\t<li>1963.75</li>\n",
       "\t<li>1964.25</li>\n",
       "\t<li>1964.75</li>\n",
       "\t<li>1965.25</li>\n",
       "\t<li>1965.75</li>\n",
       "\t<li>1966.25</li>\n",
       "\t<li>1966.75</li>\n",
       "\t<li>1967.25</li>\n",
       "\t<li>1967.75</li>\n",
       "\t<li>1968.25</li>\n",
       "\t<li>1968.75</li>\n",
       "\t<li>1969.25</li>\n",
       "\t<li>1969.75</li>\n",
       "\t<li>1970.25</li>\n",
       "\t<li>1970.75</li>\n",
       "\t<li>1971.25</li>\n",
       "\t<li>1971.75</li>\n",
       "\t<li>1972.25</li>\n",
       "\t<li>1972.75</li>\n",
       "\t<li>1973.25</li>\n",
       "\t<li>1973.75</li>\n",
       "\t<li>1974.25</li>\n",
       "\t<li>1974.75</li>\n",
       "\t<li>1975.25</li>\n",
       "\t<li>1975.75</li>\n",
       "\t<li>1976.25</li>\n",
       "\t<li>1976.75</li>\n",
       "\t<li>1977.25</li>\n",
       "\t<li>1977.75</li>\n",
       "\t<li>1978.25</li>\n",
       "\t<li>1978.75</li>\n",
       "\t<li>1979.25</li>\n",
       "\t<li>1979.75</li>\n",
       "\t<li>1980.25</li>\n",
       "\t<li>1980.75</li>\n",
       "</ol>\n"
      ],
      "text/latex": [
       "\\begin{enumerate*}\n",
       "\\item 1960\n",
       "\\item 1960.5\n",
       "\\item 1961\n",
       "\\item 1961.5\n",
       "\\item 1962\n",
       "\\item 1962.5\n",
       "\\item 1963\n",
       "\\item 1963.5\n",
       "\\item 1964\n",
       "\\item 1964.5\n",
       "\\item 1965\n",
       "\\item 1965.5\n",
       "\\item 1966\n",
       "\\item 1966.5\n",
       "\\item 1967\n",
       "\\item 1967.5\n",
       "\\item 1968\n",
       "\\item 1968.5\n",
       "\\item 1969\n",
       "\\item 1969.5\n",
       "\\item 1970\n",
       "\\item 1970.5\n",
       "\\item 1971\n",
       "\\item 1971.5\n",
       "\\item 1972\n",
       "\\item 1972.5\n",
       "\\item 1973\n",
       "\\item 1973.5\n",
       "\\item 1974\n",
       "\\item 1974.5\n",
       "\\item 1975\n",
       "\\item 1975.5\n",
       "\\item 1976\n",
       "\\item 1976.5\n",
       "\\item 1977\n",
       "\\item 1977.5\n",
       "\\item 1978\n",
       "\\item 1978.5\n",
       "\\item 1979\n",
       "\\item 1979.5\n",
       "\\item 1980\n",
       "\\item 1980.5\n",
       "\\item 1960.25\n",
       "\\item 1960.75\n",
       "\\item 1961.25\n",
       "\\item 1961.75\n",
       "\\item 1962.25\n",
       "\\item 1962.75\n",
       "\\item 1963.25\n",
       "\\item 1963.75\n",
       "\\item 1964.25\n",
       "\\item 1964.75\n",
       "\\item 1965.25\n",
       "\\item 1965.75\n",
       "\\item 1966.25\n",
       "\\item 1966.75\n",
       "\\item 1967.25\n",
       "\\item 1967.75\n",
       "\\item 1968.25\n",
       "\\item 1968.75\n",
       "\\item 1969.25\n",
       "\\item 1969.75\n",
       "\\item 1970.25\n",
       "\\item 1970.75\n",
       "\\item 1971.25\n",
       "\\item 1971.75\n",
       "\\item 1972.25\n",
       "\\item 1972.75\n",
       "\\item 1973.25\n",
       "\\item 1973.75\n",
       "\\item 1974.25\n",
       "\\item 1974.75\n",
       "\\item 1975.25\n",
       "\\item 1975.75\n",
       "\\item 1976.25\n",
       "\\item 1976.75\n",
       "\\item 1977.25\n",
       "\\item 1977.75\n",
       "\\item 1978.25\n",
       "\\item 1978.75\n",
       "\\item 1979.25\n",
       "\\item 1979.75\n",
       "\\item 1980.25\n",
       "\\item 1980.75\n",
       "\\end{enumerate*}\n"
      ],
      "text/markdown": [
       "1. 1960\n",
       "2. 1960.5\n",
       "3. 1961\n",
       "4. 1961.5\n",
       "5. 1962\n",
       "6. 1962.5\n",
       "7. 1963\n",
       "8. 1963.5\n",
       "9. 1964\n",
       "10. 1964.5\n",
       "11. 1965\n",
       "12. 1965.5\n",
       "13. 1966\n",
       "14. 1966.5\n",
       "15. 1967\n",
       "16. 1967.5\n",
       "17. 1968\n",
       "18. 1968.5\n",
       "19. 1969\n",
       "20. 1969.5\n",
       "21. 1970\n",
       "22. 1970.5\n",
       "23. 1971\n",
       "24. 1971.5\n",
       "25. 1972\n",
       "26. 1972.5\n",
       "27. 1973\n",
       "28. 1973.5\n",
       "29. 1974\n",
       "30. 1974.5\n",
       "31. 1975\n",
       "32. 1975.5\n",
       "33. 1976\n",
       "34. 1976.5\n",
       "35. 1977\n",
       "36. 1977.5\n",
       "37. 1978\n",
       "38. 1978.5\n",
       "39. 1979\n",
       "40. 1979.5\n",
       "41. 1980\n",
       "42. 1980.5\n",
       "43. 1960.25\n",
       "44. 1960.75\n",
       "45. 1961.25\n",
       "46. 1961.75\n",
       "47. 1962.25\n",
       "48. 1962.75\n",
       "49. 1963.25\n",
       "50. 1963.75\n",
       "51. 1964.25\n",
       "52. 1964.75\n",
       "53. 1965.25\n",
       "54. 1965.75\n",
       "55. 1966.25\n",
       "56. 1966.75\n",
       "57. 1967.25\n",
       "58. 1967.75\n",
       "59. 1968.25\n",
       "60. 1968.75\n",
       "61. 1969.25\n",
       "62. 1969.75\n",
       "63. 1970.25\n",
       "64. 1970.75\n",
       "65. 1971.25\n",
       "66. 1971.75\n",
       "67. 1972.25\n",
       "68. 1972.75\n",
       "69. 1973.25\n",
       "70. 1973.75\n",
       "71. 1974.25\n",
       "72. 1974.75\n",
       "73. 1975.25\n",
       "74. 1975.75\n",
       "75. 1976.25\n",
       "76. 1976.75\n",
       "77. 1977.25\n",
       "78. 1977.75\n",
       "79. 1978.25\n",
       "80. 1978.75\n",
       "81. 1979.25\n",
       "82. 1979.75\n",
       "83. 1980.25\n",
       "84. 1980.75\n",
       "\n",
       "\n"
      ],
      "text/plain": [
       " [1] 1960.00 1960.50 1961.00 1961.50 1962.00 1962.50 1963.00 1963.50 1964.00\n",
       "[10] 1964.50 1965.00 1965.50 1966.00 1966.50 1967.00 1967.50 1968.00 1968.50\n",
       "[19] 1969.00 1969.50 1970.00 1970.50 1971.00 1971.50 1972.00 1972.50 1973.00\n",
       "[28] 1973.50 1974.00 1974.50 1975.00 1975.50 1976.00 1976.50 1977.00 1977.50\n",
       "[37] 1978.00 1978.50 1979.00 1979.50 1980.00 1980.50 1960.25 1960.75 1961.25\n",
       "[46] 1961.75 1962.25 1962.75 1963.25 1963.75 1964.25 1964.75 1965.25 1965.75\n",
       "[55] 1966.25 1966.75 1967.25 1967.75 1968.25 1968.75 1969.25 1969.75 1970.25\n",
       "[64] 1970.75 1971.25 1971.75 1972.25 1972.75 1973.25 1973.75 1974.25 1974.75\n",
       "[73] 1975.25 1975.75 1976.25 1976.75 1977.25 1977.75 1978.25 1978.75 1979.25\n",
       "[82] 1979.75 1980.25 1980.75"
      ]
     },
     "metadata": {},
     "output_type": "display_data"
    }
   ],
   "source": [
    "c(train.data, test.data)"
   ]
  },
  {
   "cell_type": "code",
   "execution_count": 37,
   "metadata": {},
   "outputs": [
    {
     "data": {
      "text/plain": [
       "NULL"
      ]
     },
     "metadata": {},
     "output_type": "display_data"
    }
   ],
   "source": [
    "ncol(c(train.data, test.data))"
   ]
  },
  {
   "cell_type": "code",
   "execution_count": null,
   "metadata": {
    "collapsed": true
   },
   "outputs": [],
   "source": []
  },
  {
   "cell_type": "code",
   "execution_count": 38,
   "metadata": {
    "collapsed": true
   },
   "outputs": [],
   "source": [
    "# cv <- function (train.data, train.label, num.fold=10, K=3)\n",
    "rmse.df <- cv(c(train.data, test.data), c(train.label, test.label), L,K)\n",
    "# note that we combine train.data and test.data so that both are used for cross validation. Same with the labels/target variables"
   ]
  },
  {
   "cell_type": "code",
   "execution_count": 39,
   "metadata": {},
   "outputs": [
    {
     "data": {
      "text/html": [
       "<table>\n",
       "<thead><tr><th scope=col>K</th><th scope=col>L</th><th scope=col>RMSE</th></tr></thead>\n",
       "<tbody>\n",
       "\t<tr><td>1        </td><td>1        </td><td>1.6912159</td></tr>\n",
       "\t<tr><td>1        </td><td>2        </td><td>1.5424692</td></tr>\n",
       "\t<tr><td>1        </td><td>3        </td><td>0.7696464</td></tr>\n",
       "</tbody>\n",
       "</table>\n"
      ],
      "text/latex": [
       "\\begin{tabular}{r|lll}\n",
       " K & L & RMSE\\\\\n",
       "\\hline\n",
       "\t 1         & 1         & 1.6912159\\\\\n",
       "\t 1         & 2         & 1.5424692\\\\\n",
       "\t 1         & 3         & 0.7696464\\\\\n",
       "\\end{tabular}\n"
      ],
      "text/markdown": [
       "\n",
       "K | L | RMSE | \n",
       "|---|---|---|\n",
       "| 1         | 1         | 1.6912159 | \n",
       "| 1         | 2         | 1.5424692 | \n",
       "| 1         | 3         | 0.7696464 | \n",
       "\n",
       "\n"
      ],
      "text/plain": [
       "  K L RMSE     \n",
       "1 1 1 1.6912159\n",
       "2 1 2 1.5424692\n",
       "3 1 3 0.7696464"
      ]
     },
     "metadata": {},
     "output_type": "display_data"
    }
   ],
   "source": [
    "head(rmse.df,3)"
   ]
  },
  {
   "cell_type": "code",
   "execution_count": 40,
   "metadata": {},
   "outputs": [
    {
     "data": {
      "text/html": [
       "<table>\n",
       "<thead><tr><th></th><th scope=col>K</th><th scope=col>L</th><th scope=col>RMSE</th></tr></thead>\n",
       "<tbody>\n",
       "\t<tr><th scope=row>198</th><td>20       </td><td> 8       </td><td>1.4146285</td></tr>\n",
       "\t<tr><th scope=row>199</th><td>20       </td><td> 9       </td><td>1.5370870</td></tr>\n",
       "\t<tr><th scope=row>200</th><td>20       </td><td>10       </td><td>0.6096432</td></tr>\n",
       "</tbody>\n",
       "</table>\n"
      ],
      "text/latex": [
       "\\begin{tabular}{r|lll}\n",
       "  & K & L & RMSE\\\\\n",
       "\\hline\n",
       "\t198 & 20        &  8        & 1.4146285\\\\\n",
       "\t199 & 20        &  9        & 1.5370870\\\\\n",
       "\t200 & 20        & 10        & 0.6096432\\\\\n",
       "\\end{tabular}\n"
      ],
      "text/markdown": [
       "\n",
       "| <!--/--> | K | L | RMSE | \n",
       "|---|---|---|\n",
       "| 198 | 20        |  8        | 1.4146285 | \n",
       "| 199 | 20        |  9        | 1.5370870 | \n",
       "| 200 | 20        | 10        | 0.6096432 | \n",
       "\n",
       "\n"
      ],
      "text/plain": [
       "    K  L  RMSE     \n",
       "198 20  8 1.4146285\n",
       "199 20  9 1.5370870\n",
       "200 20 10 0.6096432"
      ]
     },
     "metadata": {},
     "output_type": "display_data"
    }
   ],
   "source": [
    "tail(rmse.df,3)"
   ]
  },
  {
   "cell_type": "code",
   "execution_count": 41,
   "metadata": {
    "collapsed": true
   },
   "outputs": [],
   "source": [
    "# create a pivot table to average all the rmse for all the folds (L values)\n",
    "K.rmse.means <- dcast(rmse.df, K ~ 'meanRMSE' , value.var=\"RMSE\", mean)"
   ]
  },
  {
   "cell_type": "code",
   "execution_count": 42,
   "metadata": {},
   "outputs": [
    {
     "data": {
      "text/html": [
       "<table>\n",
       "<thead><tr><th scope=col>K</th><th scope=col>meanRMSE</th></tr></thead>\n",
       "<tbody>\n",
       "\t<tr><td>1      </td><td>1.41794</td></tr>\n",
       "</tbody>\n",
       "</table>\n"
      ],
      "text/latex": [
       "\\begin{tabular}{r|ll}\n",
       " K & meanRMSE\\\\\n",
       "\\hline\n",
       "\t 1       & 1.41794\\\\\n",
       "\\end{tabular}\n"
      ],
      "text/markdown": [
       "\n",
       "K | meanRMSE | \n",
       "|---|\n",
       "| 1       | 1.41794 | \n",
       "\n",
       "\n"
      ],
      "text/plain": [
       "  K meanRMSE\n",
       "1 1 1.41794 "
      ]
     },
     "metadata": {},
     "output_type": "display_data"
    }
   ],
   "source": [
    "head(K.rmse.means,1)"
   ]
  },
  {
   "cell_type": "code",
   "execution_count": 43,
   "metadata": {},
   "outputs": [
    {
     "data": {
      "text/html": [
       "1.4179402"
      ],
      "text/latex": [
       "1.4179402"
      ],
      "text/markdown": [
       "1.4179402"
      ],
      "text/plain": [
       "[1] 1.41794"
      ]
     },
     "metadata": {},
     "output_type": "display_data"
    }
   ],
   "source": [
    "# check/cofirm by manually finding the mean for K = 1\n",
    "round(mean(rmse.df[rmse.df$K == 1,]$RMSE),7)"
   ]
  },
  {
   "cell_type": "markdown",
   "metadata": {},
   "source": [
    "They are identical.\n",
    "\n",
    "Now repeat for standard deviation:"
   ]
  },
  {
   "cell_type": "code",
   "execution_count": 44,
   "metadata": {
    "collapsed": true
   },
   "outputs": [],
   "source": [
    "K.rmse.sds <- dcast(rmse.df, K ~ 'sdRMSE' , value.var=\"RMSE\", sd)"
   ]
  },
  {
   "cell_type": "code",
   "execution_count": 45,
   "metadata": {},
   "outputs": [
    {
     "data": {
      "text/html": [
       "<table>\n",
       "<thead><tr><th scope=col>K</th><th scope=col>sdRMSE</th></tr></thead>\n",
       "<tbody>\n",
       "\t<tr><td>1        </td><td>0.5251701</td></tr>\n",
       "</tbody>\n",
       "</table>\n"
      ],
      "text/latex": [
       "\\begin{tabular}{r|ll}\n",
       " K & sdRMSE\\\\\n",
       "\\hline\n",
       "\t 1         & 0.5251701\\\\\n",
       "\\end{tabular}\n"
      ],
      "text/markdown": [
       "\n",
       "K | sdRMSE | \n",
       "|---|\n",
       "| 1         | 0.5251701 | \n",
       "\n",
       "\n"
      ],
      "text/plain": [
       "  K sdRMSE   \n",
       "1 1 0.5251701"
      ]
     },
     "metadata": {},
     "output_type": "display_data"
    }
   ],
   "source": [
    "head(K.rmse.sds,1)"
   ]
  },
  {
   "cell_type": "code",
   "execution_count": 46,
   "metadata": {},
   "outputs": [
    {
     "data": {
      "text/html": [
       "0.5251701"
      ],
      "text/latex": [
       "0.5251701"
      ],
      "text/markdown": [
       "0.5251701"
      ],
      "text/plain": [
       "[1] 0.5251701"
      ]
     },
     "metadata": {},
     "output_type": "display_data"
    }
   ],
   "source": [
    "# check/cofirm by manually finding the sd for K = 1\n",
    "round(sd(rmse.df[rmse.df$K == 1,]$RMSE),7)"
   ]
  },
  {
   "cell_type": "code",
   "execution_count": 47,
   "metadata": {
    "collapsed": true
   },
   "outputs": [],
   "source": [
    "rmse.plot.info <- cbind(K.rmse.means,K.rmse.sds$sdRMSE)\n",
    "colnames(rmse.plot.info)[3] <- 'sdRMSE'"
   ]
  },
  {
   "cell_type": "code",
   "execution_count": 48,
   "metadata": {},
   "outputs": [
    {
     "data": {
      "text/html": [
       "<table>\n",
       "<thead><tr><th scope=col>K</th><th scope=col>meanRMSE</th><th scope=col>sdRMSE</th></tr></thead>\n",
       "<tbody>\n",
       "\t<tr><td>1        </td><td>1.417940 </td><td>0.5251701</td></tr>\n",
       "\t<tr><td>2        </td><td>1.303310 </td><td>0.5371156</td></tr>\n",
       "\t<tr><td>3        </td><td>1.234485 </td><td>0.4690900</td></tr>\n",
       "</tbody>\n",
       "</table>\n"
      ],
      "text/latex": [
       "\\begin{tabular}{r|lll}\n",
       " K & meanRMSE & sdRMSE\\\\\n",
       "\\hline\n",
       "\t 1         & 1.417940  & 0.5251701\\\\\n",
       "\t 2         & 1.303310  & 0.5371156\\\\\n",
       "\t 3         & 1.234485  & 0.4690900\\\\\n",
       "\\end{tabular}\n"
      ],
      "text/markdown": [
       "\n",
       "K | meanRMSE | sdRMSE | \n",
       "|---|---|---|\n",
       "| 1         | 1.417940  | 0.5251701 | \n",
       "| 2         | 1.303310  | 0.5371156 | \n",
       "| 3         | 1.234485  | 0.4690900 | \n",
       "\n",
       "\n"
      ],
      "text/plain": [
       "  K meanRMSE sdRMSE   \n",
       "1 1 1.417940 0.5251701\n",
       "2 2 1.303310 0.5371156\n",
       "3 3 1.234485 0.4690900"
      ]
     },
     "metadata": {},
     "output_type": "display_data"
    }
   ],
   "source": [
    "head(rmse.plot.info,3)"
   ]
  },
  {
   "cell_type": "code",
   "execution_count": null,
   "metadata": {
    "collapsed": true
   },
   "outputs": [],
   "source": []
  },
  {
   "cell_type": "markdown",
   "metadata": {},
   "source": [
    "### Q2-2 Plot RMSE v.s. 1/K"
   ]
  },
  {
   "cell_type": "code",
   "execution_count": null,
   "metadata": {
    "collapsed": true
   },
   "outputs": [],
   "source": []
  },
  {
   "cell_type": "code",
   "execution_count": null,
   "metadata": {
    "collapsed": true
   },
   "outputs": [],
   "source": []
  },
  {
   "cell_type": "code",
   "execution_count": 49,
   "metadata": {},
   "outputs": [
    {
     "data": {},
     "metadata": {},
     "output_type": "display_data"
    },
    {
     "data": {
      "image/png": "[encoded data removed]",
      "text/plain": [
       "plot without title"
      ]
     },
     "metadata": {},
     "output_type": "display_data"
    }
   ],
   "source": [
    "# Plot the RMSE vs 1/K\n",
    "\n",
    "options(repr.plot.width=5, repr.plot.height=3.5) \n",
    "ggplot(data=rmse.plot.info, aes(x=1/K, y=meanRMSE)) + geom_line(colour = 'steelblue') +\n",
    "       geom_line(data=rmse.plot.info, aes(x=1/K, y=meanRMSE+sdRMSE), linetype=\"dashed\", colour = 'red') +\n",
    "       geom_line(data=rmse.plot.info, aes(x=1/K, y=meanRMSE-sdRMSE), linetype=\"dashed\", colour = 'red') +\n",
    "     scale_x_continuous(breaks=seq(0, 1, 0.1)) +\n",
    "       ggtitle(\"Mean RMSE +- sd v.s. 1/K\")"
   ]
  },
  {
   "cell_type": "code",
   "execution_count": 50,
   "metadata": {},
   "outputs": [
    {
     "data": {},
     "metadata": {},
     "output_type": "display_data"
    },
    {
     "data": {
      "image/png": "[encoded data removed]",
      "text/plain": [
       "plot without title"
      ]
     },
     "metadata": {},
     "output_type": "display_data"
    }
   ],
   "source": [
    "# Plot the RMSE vs 1/K\n",
    "\n",
    "options(repr.plot.width=5, repr.plot.height=3.5) \n",
    "ggplot(data=rmse.plot.info, aes(x=K, y=meanRMSE)) + geom_line(colour = 'steelblue') +\n",
    "       geom_line(data=rmse.plot.info, aes(x=K, y=meanRMSE+sdRMSE), linetype=\"dashed\", colour = 'red') +\n",
    "       geom_line(data=rmse.plot.info, aes(x=K, y=meanRMSE-sdRMSE), linetype=\"dashed\", colour = 'red') +\n",
    "       ggtitle(\"Mean RMSE +- sd v.s. K\") +\n",
    "    scale_x_reverse()"
   ]
  },
  {
   "cell_type": "markdown",
   "metadata": {},
   "source": [
    "### Q2-3 Report the best K"
   ]
  },
  {
   "cell_type": "markdown",
   "metadata": {},
   "source": [
    "The blue line in the 1st and 2nd graphs in Q2 represents the test error (not the training error) and is very similar to the test error line in the 1st and 2nd graphs of Q1:\n",
    "\n",
    "__ 1st Graph RMSE (mean) __ \n",
    "\n",
    "We see a clear U-shape for the test set in the 1/K complexity vs Error graph, with the minimum around 1/K = 0.1 \n",
    "\n",
    "For values approx 1/K < 0.1, the test error increases, suggesting underfitting (ie complexity is too low)\n",
    "\n",
    "For values approx 1/K > 0.1 the test error increases, suggesting overfitting (ie complexity is too high)\n",
    "\n",
    "__ 2nd Graph RMSE (mean)__\n",
    "\n",
    "We still see the U-shape for the test set in the second graph, which still plots complexity vs error by plotting K on the x axis but then reversing the limits so K is descending rather than ascending. Hence we still capture the pattern of increasing complexity as K decreases, but on a different scale.\n",
    "\n",
    "Visually the minimum test error appears to be around K = 10, which is basically the same as in Q1.\n",
    "\n",
    "For values approx K > 10 the test error increases, suggesting underfitting (ie complexity is too low)\n",
    "\n",
    "For values approx K < 10 the test error increases, suggesting overfitting (ie complexity is too high)\n",
    "\n",
    "__ 1st Graph RMSE (st.error)__\n",
    "\n",
    "The standard error of the RMSE appears to be wider for values far away from the minimum (approx K = 10 or 1/K = 0.1) whereas it is closer/smaller for values closer to K = 10. This suggests that the minimum value for the standard error of RMSE will be close to the value for the minimal RMSE mean, namely approx K = 10.\n",
    "\n",
    "__ Best K Value (mean, st.error)__"
   ]
  },
  {
   "cell_type": "code",
   "execution_count": 51,
   "metadata": {},
   "outputs": [
    {
     "data": {
      "text/html": [
       "<table>\n",
       "<thead><tr><th scope=col>K</th><th scope=col>meanRMSE</th><th scope=col>sdRMSE</th></tr></thead>\n",
       "<tbody>\n",
       "\t<tr><td>1        </td><td>1.417940 </td><td>0.5251701</td></tr>\n",
       "\t<tr><td>2        </td><td>1.303310 </td><td>0.5371156</td></tr>\n",
       "\t<tr><td>3        </td><td>1.234485 </td><td>0.4690900</td></tr>\n",
       "</tbody>\n",
       "</table>\n"
      ],
      "text/latex": [
       "\\begin{tabular}{r|lll}\n",
       " K & meanRMSE & sdRMSE\\\\\n",
       "\\hline\n",
       "\t 1         & 1.417940  & 0.5251701\\\\\n",
       "\t 2         & 1.303310  & 0.5371156\\\\\n",
       "\t 3         & 1.234485  & 0.4690900\\\\\n",
       "\\end{tabular}\n"
      ],
      "text/markdown": [
       "\n",
       "K | meanRMSE | sdRMSE | \n",
       "|---|---|---|\n",
       "| 1         | 1.417940  | 0.5251701 | \n",
       "| 2         | 1.303310  | 0.5371156 | \n",
       "| 3         | 1.234485  | 0.4690900 | \n",
       "\n",
       "\n"
      ],
      "text/plain": [
       "  K meanRMSE sdRMSE   \n",
       "1 1 1.417940 0.5251701\n",
       "2 2 1.303310 0.5371156\n",
       "3 3 1.234485 0.4690900"
      ]
     },
     "metadata": {},
     "output_type": "display_data"
    }
   ],
   "source": [
    "head(rmse.plot.info,3)"
   ]
  },
  {
   "cell_type": "code",
   "execution_count": 52,
   "metadata": {},
   "outputs": [
    {
     "data": {
      "text/html": [
       "9"
      ],
      "text/latex": [
       "9"
      ],
      "text/markdown": [
       "9"
      ],
      "text/plain": [
       "[1] 9"
      ]
     },
     "metadata": {},
     "output_type": "display_data"
    }
   ],
   "source": [
    "which.min(rmse.plot.info$meanRMSE)"
   ]
  },
  {
   "cell_type": "code",
   "execution_count": 53,
   "metadata": {},
   "outputs": [
    {
     "data": {
      "text/html": [
       "10"
      ],
      "text/latex": [
       "10"
      ],
      "text/markdown": [
       "10"
      ],
      "text/plain": [
       "[1] 10"
      ]
     },
     "metadata": {},
     "output_type": "display_data"
    }
   ],
   "source": [
    "which.min(rmse.plot.info$sdRMSE)"
   ]
  },
  {
   "cell_type": "markdown",
   "metadata": {},
   "source": [
    "Hence the optimal K value for the minimum mean of the RMSE is K = 9, whereas the optimal K vaue for the minimum standard error of the RMSE is K = 10. We note that these are very similar, as observed visually, and we take K = 9 as the final value. This is very similar but slightly lower than the value of K = 11 obtained in Q1, suggesting that cross validation has found a slightly higher optimal model complexity."
   ]
  },
  {
   "cell_type": "markdown",
   "metadata": {},
   "source": [
    "### Part B. Prediction Uncertainty with Bootstrapping\n",
    "This part is the adaptation of Activity 2 from KNN classification to KNN regression. You use the bootstrapping technique to quantify the uncertainty of predictions for the KNN regressor that you implemented in Part A. \n",
    "\n",
    "#### Question 3 [Bootstrapping]\n",
    "Q3-1) Modify the code in Activity 2 to handle bootstrapping for KNN regression. \n",
    "\n",
    "Q3-2) Load `Task1B_train.csv` and `Task1B_test.csv` sets. Apply your bootstrapping for KNN regression with `times = 100` (the number of subsets), `size = 25` (the size of each subset), and change `K=1,..,20` (the neighbourhood size). Now create a boxplot where the x-axis is `K`, and the y-axis is the average error (and the uncertainty around it) corresponding to each K.  \n",
    "\n",
    "Q3-3) Based on your plot in Q3-2, how does the test error and its uncertainty behave as `K` increases? \n",
    "\n",
    "Q3-4) Load `Task1B_train.csv` and `Task1B_test.csv` sets. Apply your bootstrapping for KNN regression with `K=5` (the neighbourhood size), `size = 25` (the size of each subset), and change `times = 10, 20, 30,.., 200` (the number of subsets). Now create a boxplot where the x-axis is `times`, and the y-axis is the average error (and the uncertainty around it) corresponding to each value of `times`.  \n",
    "\n",
    "Q3-5) Based on your plot in Q3-4, how does the test error and its uncertainty behave as the number of subsets in bootstrapping increases? "
   ]
  },
  {
   "cell_type": "markdown",
   "metadata": {},
   "source": [
    "## Question 3 [Bootstrapping] "
   ]
  },
  {
   "cell_type": "markdown",
   "metadata": {},
   "source": [
    "### Q3-1 Implement KNN regression with bootstrapping"
   ]
  },
  {
   "cell_type": "markdown",
   "metadata": {},
   "source": [
    "We define a function that randomly sample row indices with replacement from a given dataset."
   ]
  },
  {
   "cell_type": "code",
   "execution_count": 54,
   "metadata": {
    "collapsed": true,
    "scrolled": false
   },
   "outputs": [],
   "source": [
    "boot <- function (original.size=100, sample.size=original.size, times=100){\n",
    "    indx <- matrix(nrow=times, ncol=sample.size)\n",
    "    for (t in 1:times){\n",
    "        indx[t, ] <- sample(x=original.size, size=sample.size, replace = TRUE)\n",
    "    }\n",
    "    return(indx)\n",
    "}"
   ]
  },
  {
   "cell_type": "markdown",
   "metadata": {},
   "source": [
    "We load the data, then separate the predictors from the target values for input to the knn regressor function."
   ]
  },
  {
   "cell_type": "code",
   "execution_count": 55,
   "metadata": {},
   "outputs": [
    {
     "data": {
      "text/html": [
       "<ol class=list-inline>\n",
       "\t<li>930</li>\n",
       "\t<li>5</li>\n",
       "</ol>\n"
      ],
      "text/latex": [
       "\\begin{enumerate*}\n",
       "\\item 930\n",
       "\\item 5\n",
       "\\end{enumerate*}\n"
      ],
      "text/markdown": [
       "1. 930\n",
       "2. 5\n",
       "\n",
       "\n"
      ],
      "text/plain": [
       "[1] 930   5"
      ]
     },
     "metadata": {},
     "output_type": "display_data"
    }
   ],
   "source": [
    "# Load the datasets\n",
    "train.data <- read.csv(\"../Task1B_train.csv\")\n",
    "dim(train.data)"
   ]
  },
  {
   "cell_type": "code",
   "execution_count": 56,
   "metadata": {},
   "outputs": [
    {
     "data": {
      "text/html": [
       "<table>\n",
       "<thead><tr><th scope=col>x1</th><th scope=col>x2</th><th scope=col>x3</th><th scope=col>x4</th><th scope=col>y</th></tr></thead>\n",
       "<tbody>\n",
       "\t<tr><td>1991.496</td><td>1628.75 </td><td>1678.1  </td><td>1772.8  </td><td>2443.6  </td></tr>\n",
       "\t<tr><td>1991.504</td><td>1606.51 </td><td>1678.6  </td><td>1718.0  </td><td>2448.2  </td></tr>\n",
       "\t<tr><td>1991.512</td><td>1618.16 </td><td>1686.6  </td><td>1723.1  </td><td>2484.7  </td></tr>\n",
       "</tbody>\n",
       "</table>\n"
      ],
      "text/latex": [
       "\\begin{tabular}{r|lllll}\n",
       " x1 & x2 & x3 & x4 & y\\\\\n",
       "\\hline\n",
       "\t 1991.496 & 1628.75  & 1678.1   & 1772.8   & 2443.6  \\\\\n",
       "\t 1991.504 & 1606.51  & 1678.6   & 1718.0   & 2448.2  \\\\\n",
       "\t 1991.512 & 1618.16  & 1686.6   & 1723.1   & 2484.7  \\\\\n",
       "\\end{tabular}\n"
      ],
      "text/markdown": [
       "\n",
       "x1 | x2 | x3 | x4 | y | \n",
       "|---|---|---|\n",
       "| 1991.496 | 1628.75  | 1678.1   | 1772.8   | 2443.6   | \n",
       "| 1991.504 | 1606.51  | 1678.6   | 1718.0   | 2448.2   | \n",
       "| 1991.512 | 1618.16  | 1686.6   | 1723.1   | 2484.7   | \n",
       "\n",
       "\n"
      ],
      "text/plain": [
       "  x1       x2      x3     x4     y     \n",
       "1 1991.496 1628.75 1678.1 1772.8 2443.6\n",
       "2 1991.504 1606.51 1678.6 1718.0 2448.2\n",
       "3 1991.512 1618.16 1686.6 1723.1 2484.7"
      ]
     },
     "metadata": {},
     "output_type": "display_data"
    }
   ],
   "source": [
    "head(train.data,3)"
   ]
  },
  {
   "cell_type": "code",
   "execution_count": 57,
   "metadata": {},
   "outputs": [
    {
     "data": {
      "text/plain": [
       "       x1             x2             x3             x4             y       \n",
       " Min.   :1991   Min.   :1402   Min.   :1596   Min.   :1611   Min.   :2285  \n",
       " 1st Qu.:1993   1st Qu.:1744   1st Qu.:2162   1st Qu.:1874   1st Qu.:2841  \n",
       " Median :1995   Median :2139   Median :2795   Median :1989   Median :3247  \n",
       " Mean   :1995   Mean   :2529   Mean   :3374   Mean   :2227   Mean   :3564  \n",
       " 3rd Qu.:1997   3rd Qu.:2720   3rd Qu.:3809   3rd Qu.:2273   3rd Qu.:3982  \n",
       " Max.   :1999   Max.   :6186   Max.   :8401   Max.   :4369   Max.   :6179  "
      ]
     },
     "metadata": {},
     "output_type": "display_data"
    }
   ],
   "source": [
    "summary(train.data)"
   ]
  },
  {
   "cell_type": "code",
   "execution_count": 58,
   "metadata": {},
   "outputs": [
    {
     "data": {
      "text/html": [
       "<ol class=list-inline>\n",
       "\t<li>930</li>\n",
       "\t<li>5</li>\n",
       "</ol>\n"
      ],
      "text/latex": [
       "\\begin{enumerate*}\n",
       "\\item 930\n",
       "\\item 5\n",
       "\\end{enumerate*}\n"
      ],
      "text/markdown": [
       "1. 930\n",
       "2. 5\n",
       "\n",
       "\n"
      ],
      "text/plain": [
       "[1] 930   5"
      ]
     },
     "metadata": {},
     "output_type": "display_data"
    }
   ],
   "source": [
    "test.data <- read.csv(\"../Task1B_test.csv\")\n",
    "dim(test.data)"
   ]
  },
  {
   "cell_type": "code",
   "execution_count": 59,
   "metadata": {},
   "outputs": [
    {
     "data": {
      "text/html": [
       "<table>\n",
       "<thead><tr><th scope=col>x1</th><th scope=col>x2</th><th scope=col>x3</th><th scope=col>x4</th><th scope=col>y</th></tr></thead>\n",
       "<tbody>\n",
       "\t<tr><td>1991.500</td><td>1613.63 </td><td>1688.5  </td><td>1750.5  </td><td>2460.2  </td></tr>\n",
       "\t<tr><td>1991.508</td><td>1621.04 </td><td>1684.1  </td><td>1708.1  </td><td>2470.4  </td></tr>\n",
       "\t<tr><td>1991.515</td><td>1610.61 </td><td>1671.6  </td><td>1714.3  </td><td>2466.8  </td></tr>\n",
       "</tbody>\n",
       "</table>\n"
      ],
      "text/latex": [
       "\\begin{tabular}{r|lllll}\n",
       " x1 & x2 & x3 & x4 & y\\\\\n",
       "\\hline\n",
       "\t 1991.500 & 1613.63  & 1688.5   & 1750.5   & 2460.2  \\\\\n",
       "\t 1991.508 & 1621.04  & 1684.1   & 1708.1   & 2470.4  \\\\\n",
       "\t 1991.515 & 1610.61  & 1671.6   & 1714.3   & 2466.8  \\\\\n",
       "\\end{tabular}\n"
      ],
      "text/markdown": [
       "\n",
       "x1 | x2 | x3 | x4 | y | \n",
       "|---|---|---|\n",
       "| 1991.500 | 1613.63  | 1688.5   | 1750.5   | 2460.2   | \n",
       "| 1991.508 | 1621.04  | 1684.1   | 1708.1   | 2470.4   | \n",
       "| 1991.515 | 1610.61  | 1671.6   | 1714.3   | 2466.8   | \n",
       "\n",
       "\n"
      ],
      "text/plain": [
       "  x1       x2      x3     x4     y     \n",
       "1 1991.500 1613.63 1688.5 1750.5 2460.2\n",
       "2 1991.508 1621.04 1684.1 1708.1 2470.4\n",
       "3 1991.515 1610.61 1671.6 1714.3 2466.8"
      ]
     },
     "metadata": {},
     "output_type": "display_data"
    }
   ],
   "source": [
    "head(test.data,3)"
   ]
  },
  {
   "cell_type": "code",
   "execution_count": 60,
   "metadata": {},
   "outputs": [
    {
     "data": {
      "text/plain": [
       "       x1             x2             x3             x4             y       \n",
       " Min.   :1992   Min.   :1421   Min.   :1587   Min.   :1612   Min.   :2281  \n",
       " 1st Qu.:1993   1st Qu.:1745   1st Qu.:2167   1st Qu.:1876   1st Qu.:2846  \n",
       " Median :1995   Median :2142   Median :2799   Median :1996   Median :3246  \n",
       " Mean   :1995   Mean   :2532   Mean   :3379   Mean   :2229   Mean   :3567  \n",
       " 3rd Qu.:1997   3rd Qu.:2729   3rd Qu.:3813   3rd Qu.:2272   3rd Qu.:3994  \n",
       " Max.   :1999   Max.   :6184   Max.   :8412   Max.   :4388   Max.   :6174  "
      ]
     },
     "metadata": {},
     "output_type": "display_data"
    }
   ],
   "source": [
    "summary(test.data)"
   ]
  },
  {
   "cell_type": "markdown",
   "metadata": {},
   "source": [
    "__ Observations __\n",
    "\n",
    "Both datasets have approximately the same range for each variable, however the range of each variable is different compared the other variables. The distance calculations in knn work better if the metric is calculated on variables with a range between (0,1) because it is quicker and it doesn't add weight to some variable's units over others.\n",
    "\n",
    "Hence we Z-scale the train and test sets:"
   ]
  },
  {
   "cell_type": "code",
   "execution_count": 61,
   "metadata": {
    "collapsed": true
   },
   "outputs": [],
   "source": [
    "test.data <- scale(test.data)\n",
    "train.data <- scale(train.data)"
   ]
  },
  {
   "cell_type": "code",
   "execution_count": 62,
   "metadata": {},
   "outputs": [
    {
     "data": {
      "text/html": [
       "<table>\n",
       "<thead><tr><th scope=col>x1</th><th scope=col>x2</th><th scope=col>x3</th><th scope=col>x4</th><th scope=col>y</th></tr></thead>\n",
       "<tbody>\n",
       "\t<tr><td>-1.729259 </td><td>-0.8314871</td><td>-1.020943 </td><td>-0.7844105</td><td>-1.148323 </td></tr>\n",
       "\t<tr><td>-1.725536 </td><td>-0.8520287</td><td>-1.020642 </td><td>-0.8790979</td><td>-1.143610 </td></tr>\n",
       "\t<tr><td>-1.721813 </td><td>-0.8412684</td><td>-1.015825 </td><td>-0.8702858</td><td>-1.106215 </td></tr>\n",
       "</tbody>\n",
       "</table>\n"
      ],
      "text/latex": [
       "\\begin{tabular}{lllll}\n",
       " x1 & x2 & x3 & x4 & y\\\\\n",
       "\\hline\n",
       "\t -1.729259  & -0.8314871 & -1.020943  & -0.7844105 & -1.148323 \\\\\n",
       "\t -1.725536  & -0.8520287 & -1.020642  & -0.8790979 & -1.143610 \\\\\n",
       "\t -1.721813  & -0.8412684 & -1.015825  & -0.8702858 & -1.106215 \\\\\n",
       "\\end{tabular}\n"
      ],
      "text/markdown": [
       "\n",
       "x1 | x2 | x3 | x4 | y | \n",
       "|---|---|---|\n",
       "| -1.729259  | -0.8314871 | -1.020943  | -0.7844105 | -1.148323  | \n",
       "| -1.725536  | -0.8520287 | -1.020642  | -0.8790979 | -1.143610  | \n",
       "| -1.721813  | -0.8412684 | -1.015825  | -0.8702858 | -1.106215  | \n",
       "\n",
       "\n"
      ],
      "text/plain": [
       "     x1        x2         x3        x4         y        \n",
       "[1,] -1.729259 -0.8314871 -1.020943 -0.7844105 -1.148323\n",
       "[2,] -1.725536 -0.8520287 -1.020642 -0.8790979 -1.143610\n",
       "[3,] -1.721813 -0.8412684 -1.015825 -0.8702858 -1.106215"
      ]
     },
     "metadata": {},
     "output_type": "display_data"
    }
   ],
   "source": [
    "head(train.data,3)"
   ]
  },
  {
   "cell_type": "markdown",
   "metadata": {},
   "source": [
    "The target variable is the 5th column"
   ]
  },
  {
   "cell_type": "code",
   "execution_count": 63,
   "metadata": {
    "collapsed": true
   },
   "outputs": [],
   "source": [
    "# Split dependent and independent attributes\n",
    "train.label <- train.data[,5] # target var/label only\n",
    "train.data <- train.data[,-5] # remove label"
   ]
  },
  {
   "cell_type": "code",
   "execution_count": 64,
   "metadata": {},
   "outputs": [
    {
     "data": {
      "text/html": [
       "<ol class=list-inline>\n",
       "\t<li>-1.148323</li>\n",
       "\t<li>-1.1436102</li>\n",
       "\t<li>-1.1062148</li>\n",
       "</ol>\n"
      ],
      "text/latex": [
       "\\begin{enumerate*}\n",
       "\\item -1.148323\n",
       "\\item -1.1436102\n",
       "\\item -1.1062148\n",
       "\\end{enumerate*}\n"
      ],
      "text/markdown": [
       "1. -1.148323\n",
       "2. -1.1436102\n",
       "3. -1.1062148\n",
       "\n",
       "\n"
      ],
      "text/plain": [
       "[1] -1.148323 -1.143610 -1.106215"
      ]
     },
     "metadata": {},
     "output_type": "display_data"
    }
   ],
   "source": [
    "round(head(train.label,3),7)"
   ]
  },
  {
   "cell_type": "code",
   "execution_count": 65,
   "metadata": {
    "collapsed": true
   },
   "outputs": [],
   "source": [
    "test.label <- test.data[,5]  # target var/label only\n",
    "test.data <- test.data[,-5] # remove label"
   ]
  },
  {
   "cell_type": "code",
   "execution_count": 66,
   "metadata": {},
   "outputs": [
    {
     "data": {
      "text/html": [
       "930"
      ],
      "text/latex": [
       "930"
      ],
      "text/markdown": [
       "930"
      ],
      "text/plain": [
       "[1] 930"
      ]
     },
     "metadata": {},
     "output_type": "display_data"
    },
    {
     "data": {
      "text/html": [
       "930"
      ],
      "text/latex": [
       "930"
      ],
      "text/markdown": [
       "930"
      ],
      "text/plain": [
       "[1] 930"
      ]
     },
     "metadata": {},
     "output_type": "display_data"
    }
   ],
   "source": [
    "train.len <- nrow(train.data)\n",
    "test.len <- nrow(test.data)\n",
    "\n",
    "train.len\n",
    "test.len"
   ]
  },
  {
   "cell_type": "code",
   "execution_count": 67,
   "metadata": {
    "collapsed": true
   },
   "outputs": [],
   "source": [
    "# set random seed\n",
    "set.seed(1234)"
   ]
  },
  {
   "cell_type": "markdown",
   "metadata": {},
   "source": [
    "Now we perform the bootstrapping"
   ]
  },
  {
   "cell_type": "code",
   "execution_count": 68,
   "metadata": {
    "collapsed": true
   },
   "outputs": [],
   "source": [
    "K <- 20             # Maximum K for KNN\n",
    "L <- 100            # Number of bootstrapped samples\n",
    "N <- 25             # Size of bootstrapped samples"
   ]
  },
  {
   "cell_type": "code",
   "execution_count": 69,
   "metadata": {
    "collapsed": true
   },
   "outputs": [],
   "source": [
    "# generate bootstrap indices:\n",
    "boot.indx <- boot(nrow(train.data), N, L)\n",
    "\n",
    "# a dataframe to track the number of missclassified samples in each case\n",
    "rmse.df <- data.frame('K'=1:K, 'L'=1:L, 'RMSE'=rep(0, L * K))"
   ]
  },
  {
   "cell_type": "code",
   "execution_count": 70,
   "metadata": {
    "collapsed": true
   },
   "outputs": [],
   "source": [
    "for (k in 1: K){\n",
    "    \n",
    "    ### for every dataset sizes:\n",
    "    for (l in 1:L){\n",
    "        \n",
    "        #### calculate iteration index i\n",
    "        i <- (k-1)*L+l\n",
    "        \n",
    "        #### save sample indices that were selected by bootstrap\n",
    "        indx <- boot.indx[l,]\n",
    "        \n",
    "        #### save the value of k and l\n",
    "        rmse.df[i,'K'] <- k\n",
    "        rmse.df[i,'L'] <- l\n",
    "        \n",
    "        rmse.df[i,'RMSE' ] <- rmse(test.label[indx],\n",
    "                                      knn(train.data[indx,],\n",
    "                                          train.label[indx],\n",
    "                                          test.data[indx,],\n",
    "                                          K=k))\n",
    "    } \n",
    "}"
   ]
  },
  {
   "cell_type": "code",
   "execution_count": 71,
   "metadata": {},
   "outputs": [
    {
     "data": {
      "text/html": [
       "<table>\n",
       "<thead><tr><th scope=col>K</th><th scope=col>L</th><th scope=col>RMSE</th></tr></thead>\n",
       "<tbody>\n",
       "\t<tr><td>1         </td><td>1         </td><td>0.02935134</td></tr>\n",
       "\t<tr><td>1         </td><td>2         </td><td>0.02305615</td></tr>\n",
       "\t<tr><td>1         </td><td>3         </td><td>0.02820240</td></tr>\n",
       "</tbody>\n",
       "</table>\n"
      ],
      "text/latex": [
       "\\begin{tabular}{r|lll}\n",
       " K & L & RMSE\\\\\n",
       "\\hline\n",
       "\t 1          & 1          & 0.02935134\\\\\n",
       "\t 1          & 2          & 0.02305615\\\\\n",
       "\t 1          & 3          & 0.02820240\\\\\n",
       "\\end{tabular}\n"
      ],
      "text/markdown": [
       "\n",
       "K | L | RMSE | \n",
       "|---|---|---|\n",
       "| 1          | 1          | 0.02935134 | \n",
       "| 1          | 2          | 0.02305615 | \n",
       "| 1          | 3          | 0.02820240 | \n",
       "\n",
       "\n"
      ],
      "text/plain": [
       "  K L RMSE      \n",
       "1 1 1 0.02935134\n",
       "2 1 2 0.02305615\n",
       "3 1 3 0.02820240"
      ]
     },
     "metadata": {},
     "output_type": "display_data"
    }
   ],
   "source": [
    "head(rmse.df,3)"
   ]
  },
  {
   "cell_type": "code",
   "execution_count": 72,
   "metadata": {},
   "outputs": [
    {
     "data": {
      "text/html": [
       "<table>\n",
       "<thead><tr><th></th><th scope=col>K</th><th scope=col>L</th><th scope=col>RMSE</th></tr></thead>\n",
       "<tbody>\n",
       "\t<tr><th scope=row>1998</th><td>20       </td><td> 98      </td><td>0.7754596</td></tr>\n",
       "\t<tr><th scope=row>1999</th><td>20       </td><td> 99      </td><td>0.5923568</td></tr>\n",
       "\t<tr><th scope=row>2000</th><td>20       </td><td>100      </td><td>0.6838759</td></tr>\n",
       "</tbody>\n",
       "</table>\n"
      ],
      "text/latex": [
       "\\begin{tabular}{r|lll}\n",
       "  & K & L & RMSE\\\\\n",
       "\\hline\n",
       "\t1998 & 20        &  98       & 0.7754596\\\\\n",
       "\t1999 & 20        &  99       & 0.5923568\\\\\n",
       "\t2000 & 20        & 100       & 0.6838759\\\\\n",
       "\\end{tabular}\n"
      ],
      "text/markdown": [
       "\n",
       "| <!--/--> | K | L | RMSE | \n",
       "|---|---|---|\n",
       "| 1998 | 20        |  98       | 0.7754596 | \n",
       "| 1999 | 20        |  99       | 0.5923568 | \n",
       "| 2000 | 20        | 100       | 0.6838759 | \n",
       "\n",
       "\n"
      ],
      "text/plain": [
       "     K  L   RMSE     \n",
       "1998 20  98 0.7754596\n",
       "1999 20  99 0.5923568\n",
       "2000 20 100 0.6838759"
      ]
     },
     "metadata": {},
     "output_type": "display_data"
    }
   ],
   "source": [
    "tail(rmse.df,3)"
   ]
  },
  {
   "cell_type": "code",
   "execution_count": null,
   "metadata": {
    "collapsed": true
   },
   "outputs": [],
   "source": []
  },
  {
   "cell_type": "code",
   "execution_count": null,
   "metadata": {
    "collapsed": true
   },
   "outputs": [],
   "source": []
  },
  {
   "cell_type": "markdown",
   "metadata": {},
   "source": [
    "### Q3-2 Plot bootstrapping KNN regression for different number of nearest neighbours"
   ]
  },
  {
   "cell_type": "code",
   "execution_count": 73,
   "metadata": {},
   "outputs": [
    {
     "data": {},
     "metadata": {},
     "output_type": "display_data"
    },
    {
     "data": {
      "image/png": "[encoded data removed]",
      "text/plain": [
       "plot without title"
      ]
     },
     "metadata": {},
     "output_type": "display_data"
    }
   ],
   "source": [
    "# Apply bootstrapping for KNN regression with 100 bootstrapped datasets, \n",
    "# each having 25 samples, and maximum number of neighbours 20\n",
    "options(repr.plot.width=5, repr.plot.height=3.5)\n",
    "ggplot(data=rmse.df, aes(x=factor(K), RMSE)) + \n",
    "    geom_boxplot(outlier.shape = NA, fill = 'lightblue') + \n",
    "    scale_color_discrete(guide = guide_legend(title = NULL)) +\n",
    "    ggtitle('RMSE by K (100 Bootstrap Samples for each K=1 to 20 with Size=25)') +\n",
    "    theme(plot.title = element_text(size = 10))"
   ]
  },
  {
   "cell_type": "code",
   "execution_count": null,
   "metadata": {
    "collapsed": true
   },
   "outputs": [],
   "source": []
  },
  {
   "cell_type": "markdown",
   "metadata": {},
   "source": [
    "### Q3-3 Results interpretation"
   ]
  },
  {
   "cell_type": "markdown",
   "metadata": {},
   "source": [
    "There is a clear linear trend/positive correlation between increasing K and increasing the median RMSE. This suggests that for this dataset, higher model complexity (low K values) are more accurate ie have lower errors.\n",
    "\n",
    "Also, the uncertainty/spread in the error, denoted by the interquartile range and/or boxplot whiskers, clearly increases as K increases. We note that this is the same general pattern found in Q2, namely that as K approaches the value with minimum error, the uncertainty around the error also decreases."
   ]
  },
  {
   "cell_type": "markdown",
   "metadata": {},
   "source": [
    "### Q3-4 Plot bootstrapping KNN regression for different number of bootstrapped datasets"
   ]
  },
  {
   "cell_type": "code",
   "execution_count": 74,
   "metadata": {
    "collapsed": true
   },
   "outputs": [],
   "source": [
    "K <- 5                # k nearest neighbours\n",
    "N <- 25                # Size of bootstrapped samples\n",
    "max.sample.size = 200  # Maximum size of sampling\n",
    "max.times <- 200 # max num times to sample by\n",
    "times.sequence <- seq(from=10, to=max.times, by=10)\n",
    "\n",
    "# A dataframe to track the RMSE of each case\n",
    "rmse.df <- data.frame('Times'= times.sequence, L = 1:max.times, 'RMSE'=0)\n",
    "#rmse.df <- data.frame('K'=1:K, 'L'=1:L, 'RMSE'=rep(0, L * K))"
   ]
  },
  {
   "cell_type": "code",
   "execution_count": 75,
   "metadata": {
    "collapsed": true
   },
   "outputs": [],
   "source": [
    "rmse.df <- merge(times.sequence,1:max.times, all = TRUE)"
   ]
  },
  {
   "cell_type": "code",
   "execution_count": 76,
   "metadata": {
    "collapsed": true
   },
   "outputs": [],
   "source": [
    "names(rmse.df) <- c('Times','L')"
   ]
  },
  {
   "cell_type": "code",
   "execution_count": null,
   "metadata": {
    "collapsed": true
   },
   "outputs": [],
   "source": []
  },
  {
   "cell_type": "code",
   "execution_count": 77,
   "metadata": {},
   "outputs": [
    {
     "data": {
      "text/html": [
       "<ol class=list-inline>\n",
       "\t<li>4000</li>\n",
       "\t<li>2</li>\n",
       "</ol>\n"
      ],
      "text/latex": [
       "\\begin{enumerate*}\n",
       "\\item 4000\n",
       "\\item 2\n",
       "\\end{enumerate*}\n"
      ],
      "text/markdown": [
       "1. 4000\n",
       "2. 2\n",
       "\n",
       "\n"
      ],
      "text/plain": [
       "[1] 4000    2"
      ]
     },
     "metadata": {},
     "output_type": "display_data"
    }
   ],
   "source": [
    "dim(rmse.df)"
   ]
  },
  {
   "cell_type": "code",
   "execution_count": 78,
   "metadata": {},
   "outputs": [
    {
     "data": {
      "text/html": [
       "<table>\n",
       "<thead><tr><th scope=col>Times</th><th scope=col>L</th></tr></thead>\n",
       "<tbody>\n",
       "\t<tr><td>10</td><td>1 </td></tr>\n",
       "\t<tr><td>20</td><td>1 </td></tr>\n",
       "\t<tr><td>30</td><td>1 </td></tr>\n",
       "</tbody>\n",
       "</table>\n"
      ],
      "text/latex": [
       "\\begin{tabular}{r|ll}\n",
       " Times & L\\\\\n",
       "\\hline\n",
       "\t 10 & 1 \\\\\n",
       "\t 20 & 1 \\\\\n",
       "\t 30 & 1 \\\\\n",
       "\\end{tabular}\n"
      ],
      "text/markdown": [
       "\n",
       "Times | L | \n",
       "|---|---|---|\n",
       "| 10 | 1  | \n",
       "| 20 | 1  | \n",
       "| 30 | 1  | \n",
       "\n",
       "\n"
      ],
      "text/plain": [
       "  Times L\n",
       "1 10    1\n",
       "2 20    1\n",
       "3 30    1"
      ]
     },
     "metadata": {},
     "output_type": "display_data"
    }
   ],
   "source": [
    "head(rmse.df,3)"
   ]
  },
  {
   "cell_type": "code",
   "execution_count": 79,
   "metadata": {
    "collapsed": true
   },
   "outputs": [],
   "source": [
    "rmse.df <- rmse.df[(rmse.df$Times >= rmse.df$L),]"
   ]
  },
  {
   "cell_type": "code",
   "execution_count": 80,
   "metadata": {},
   "outputs": [
    {
     "data": {
      "text/html": [
       "<table>\n",
       "<thead><tr><th></th><th scope=col>Times</th><th scope=col>L</th></tr></thead>\n",
       "<tbody>\n",
       "\t<tr><th scope=row>1</th><td>10</td><td> 1</td></tr>\n",
       "\t<tr><th scope=row>21</th><td>10</td><td> 2</td></tr>\n",
       "\t<tr><th scope=row>41</th><td>10</td><td> 3</td></tr>\n",
       "\t<tr><th scope=row>61</th><td>10</td><td> 4</td></tr>\n",
       "\t<tr><th scope=row>81</th><td>10</td><td> 5</td></tr>\n",
       "\t<tr><th scope=row>101</th><td>10</td><td> 6</td></tr>\n",
       "\t<tr><th scope=row>121</th><td>10</td><td> 7</td></tr>\n",
       "\t<tr><th scope=row>141</th><td>10</td><td> 8</td></tr>\n",
       "\t<tr><th scope=row>161</th><td>10</td><td> 9</td></tr>\n",
       "\t<tr><th scope=row>181</th><td>10</td><td>10</td></tr>\n",
       "</tbody>\n",
       "</table>\n"
      ],
      "text/latex": [
       "\\begin{tabular}{r|ll}\n",
       "  & Times & L\\\\\n",
       "\\hline\n",
       "\t1 & 10 &  1\\\\\n",
       "\t21 & 10 &  2\\\\\n",
       "\t41 & 10 &  3\\\\\n",
       "\t61 & 10 &  4\\\\\n",
       "\t81 & 10 &  5\\\\\n",
       "\t101 & 10 &  6\\\\\n",
       "\t121 & 10 &  7\\\\\n",
       "\t141 & 10 &  8\\\\\n",
       "\t161 & 10 &  9\\\\\n",
       "\t181 & 10 & 10\\\\\n",
       "\\end{tabular}\n"
      ],
      "text/markdown": [
       "\n",
       "| <!--/--> | Times | L | \n",
       "|---|---|---|---|---|---|---|---|---|---|\n",
       "| 1 | 10 |  1 | \n",
       "| 21 | 10 |  2 | \n",
       "| 41 | 10 |  3 | \n",
       "| 61 | 10 |  4 | \n",
       "| 81 | 10 |  5 | \n",
       "| 101 | 10 |  6 | \n",
       "| 121 | 10 |  7 | \n",
       "| 141 | 10 |  8 | \n",
       "| 161 | 10 |  9 | \n",
       "| 181 | 10 | 10 | \n",
       "\n",
       "\n"
      ],
      "text/plain": [
       "    Times L \n",
       "1   10     1\n",
       "21  10     2\n",
       "41  10     3\n",
       "61  10     4\n",
       "81  10     5\n",
       "101 10     6\n",
       "121 10     7\n",
       "141 10     8\n",
       "161 10     9\n",
       "181 10    10"
      ]
     },
     "metadata": {},
     "output_type": "display_data"
    }
   ],
   "source": [
    "rmse.df[rmse.df$Times == 10,]"
   ]
  },
  {
   "cell_type": "code",
   "execution_count": 81,
   "metadata": {},
   "outputs": [
    {
     "data": {
      "text/html": [
       "<table>\n",
       "<thead><tr><th></th><th scope=col>Times</th><th scope=col>L</th></tr></thead>\n",
       "<tbody>\n",
       "\t<tr><th scope=row>302</th><td>20</td><td>16</td></tr>\n",
       "\t<tr><th scope=row>322</th><td>20</td><td>17</td></tr>\n",
       "\t<tr><th scope=row>342</th><td>20</td><td>18</td></tr>\n",
       "\t<tr><th scope=row>362</th><td>20</td><td>19</td></tr>\n",
       "\t<tr><th scope=row>382</th><td>20</td><td>20</td></tr>\n",
       "</tbody>\n",
       "</table>\n"
      ],
      "text/latex": [
       "\\begin{tabular}{r|ll}\n",
       "  & Times & L\\\\\n",
       "\\hline\n",
       "\t302 & 20 & 16\\\\\n",
       "\t322 & 20 & 17\\\\\n",
       "\t342 & 20 & 18\\\\\n",
       "\t362 & 20 & 19\\\\\n",
       "\t382 & 20 & 20\\\\\n",
       "\\end{tabular}\n"
      ],
      "text/markdown": [
       "\n",
       "| <!--/--> | Times | L | \n",
       "|---|---|---|---|---|\n",
       "| 302 | 20 | 16 | \n",
       "| 322 | 20 | 17 | \n",
       "| 342 | 20 | 18 | \n",
       "| 362 | 20 | 19 | \n",
       "| 382 | 20 | 20 | \n",
       "\n",
       "\n"
      ],
      "text/plain": [
       "    Times L \n",
       "302 20    16\n",
       "322 20    17\n",
       "342 20    18\n",
       "362 20    19\n",
       "382 20    20"
      ]
     },
     "metadata": {},
     "output_type": "display_data"
    }
   ],
   "source": [
    "tail(rmse.df[rmse.df$Times == 20,],5)"
   ]
  },
  {
   "cell_type": "code",
   "execution_count": 82,
   "metadata": {
    "collapsed": true
   },
   "outputs": [],
   "source": [
    "rmse.df['RMSE'] <- 0"
   ]
  },
  {
   "cell_type": "code",
   "execution_count": 83,
   "metadata": {},
   "outputs": [
    {
     "data": {
      "text/html": [
       "<table>\n",
       "<thead><tr><th scope=col>Times</th><th scope=col>L</th><th scope=col>RMSE</th></tr></thead>\n",
       "<tbody>\n",
       "\t<tr><td>10</td><td>1 </td><td>0 </td></tr>\n",
       "\t<tr><td>20</td><td>1 </td><td>0 </td></tr>\n",
       "\t<tr><td>30</td><td>1 </td><td>0 </td></tr>\n",
       "</tbody>\n",
       "</table>\n"
      ],
      "text/latex": [
       "\\begin{tabular}{r|lll}\n",
       " Times & L & RMSE\\\\\n",
       "\\hline\n",
       "\t 10 & 1  & 0 \\\\\n",
       "\t 20 & 1  & 0 \\\\\n",
       "\t 30 & 1  & 0 \\\\\n",
       "\\end{tabular}\n"
      ],
      "text/markdown": [
       "\n",
       "Times | L | RMSE | \n",
       "|---|---|---|\n",
       "| 10 | 1  | 0  | \n",
       "| 20 | 1  | 0  | \n",
       "| 30 | 1  | 0  | \n",
       "\n",
       "\n"
      ],
      "text/plain": [
       "  Times L RMSE\n",
       "1 10    1 0   \n",
       "2 20    1 0   \n",
       "3 30    1 0   "
      ]
     },
     "metadata": {},
     "output_type": "display_data"
    }
   ],
   "source": [
    "head(rmse.df,3)"
   ]
  },
  {
   "cell_type": "code",
   "execution_count": 84,
   "metadata": {},
   "outputs": [
    {
     "data": {
      "text/html": [
       "<ol class=list-inline>\n",
       "\t<li>2100</li>\n",
       "\t<li>3</li>\n",
       "</ol>\n"
      ],
      "text/latex": [
       "\\begin{enumerate*}\n",
       "\\item 2100\n",
       "\\item 3\n",
       "\\end{enumerate*}\n"
      ],
      "text/markdown": [
       "1. 2100\n",
       "2. 3\n",
       "\n",
       "\n"
      ],
      "text/plain": [
       "[1] 2100    3"
      ]
     },
     "metadata": {},
     "output_type": "display_data"
    }
   ],
   "source": [
    "dim(rmse.df)"
   ]
  },
  {
   "cell_type": "code",
   "execution_count": 85,
   "metadata": {
    "collapsed": true
   },
   "outputs": [],
   "source": [
    "rownames(rmse.df) <- NULL"
   ]
  },
  {
   "cell_type": "code",
   "execution_count": null,
   "metadata": {
    "collapsed": true
   },
   "outputs": [],
   "source": []
  },
  {
   "cell_type": "code",
   "execution_count": 86,
   "metadata": {},
   "outputs": [
    {
     "data": {
      "text/html": [
       "<table>\n",
       "<thead><tr><th></th><th scope=col>Times</th><th scope=col>L</th><th scope=col>RMSE</th></tr></thead>\n",
       "<tbody>\n",
       "\t<tr><th scope=row>2098</th><td>200</td><td>198</td><td>0  </td></tr>\n",
       "\t<tr><th scope=row>2099</th><td>200</td><td>199</td><td>0  </td></tr>\n",
       "\t<tr><th scope=row>2100</th><td>200</td><td>200</td><td>0  </td></tr>\n",
       "</tbody>\n",
       "</table>\n"
      ],
      "text/latex": [
       "\\begin{tabular}{r|lll}\n",
       "  & Times & L & RMSE\\\\\n",
       "\\hline\n",
       "\t2098 & 200 & 198 & 0  \\\\\n",
       "\t2099 & 200 & 199 & 0  \\\\\n",
       "\t2100 & 200 & 200 & 0  \\\\\n",
       "\\end{tabular}\n"
      ],
      "text/markdown": [
       "\n",
       "| <!--/--> | Times | L | RMSE | \n",
       "|---|---|---|\n",
       "| 2098 | 200 | 198 | 0   | \n",
       "| 2099 | 200 | 199 | 0   | \n",
       "| 2100 | 200 | 200 | 0   | \n",
       "\n",
       "\n"
      ],
      "text/plain": [
       "     Times L   RMSE\n",
       "2098 200   198 0   \n",
       "2099 200   199 0   \n",
       "2100 200   200 0   "
      ]
     },
     "metadata": {},
     "output_type": "display_data"
    }
   ],
   "source": [
    "tail(rmse.df,3)"
   ]
  },
  {
   "cell_type": "code",
   "execution_count": 87,
   "metadata": {
    "collapsed": true
   },
   "outputs": [],
   "source": [
    "i <- 0\n",
    "for (L in times.sequence){\n",
    "\n",
    "\n",
    "\n",
    "    #### save sample indices that were selected by bootstrap\n",
    "    boot.indx <- boot(nrow(train.data), N, L)\n",
    "    \n",
    "    for(l in 1:L){\n",
    "        \n",
    "        #### calculate iteration index i\n",
    "        i <- i+1\n",
    "        \n",
    "        indx <- boot.indx[l,]\n",
    "        \n",
    "        \n",
    "    rmse.df[i,'RMSE' ] <- rmse(test.label[indx],\n",
    "                                  knn(train.data[indx,],\n",
    "                                      train.label[indx],\n",
    "                                      test.data[indx,],\n",
    "                                      K=K))\n",
    "    }\n",
    "\n",
    "\n",
    "} \n"
   ]
  },
  {
   "cell_type": "code",
   "execution_count": 88,
   "metadata": {},
   "outputs": [
    {
     "data": {
      "text/html": [
       "<table>\n",
       "<thead><tr><th scope=col>Times</th><th scope=col>L</th><th scope=col>RMSE</th></tr></thead>\n",
       "<tbody>\n",
       "\t<tr><td>10       </td><td>1        </td><td>0.2537323</td></tr>\n",
       "\t<tr><td>20       </td><td>1        </td><td>0.2204474</td></tr>\n",
       "\t<tr><td>30       </td><td>1        </td><td>0.2248708</td></tr>\n",
       "</tbody>\n",
       "</table>\n"
      ],
      "text/latex": [
       "\\begin{tabular}{r|lll}\n",
       " Times & L & RMSE\\\\\n",
       "\\hline\n",
       "\t 10        & 1         & 0.2537323\\\\\n",
       "\t 20        & 1         & 0.2204474\\\\\n",
       "\t 30        & 1         & 0.2248708\\\\\n",
       "\\end{tabular}\n"
      ],
      "text/markdown": [
       "\n",
       "Times | L | RMSE | \n",
       "|---|---|---|\n",
       "| 10        | 1         | 0.2537323 | \n",
       "| 20        | 1         | 0.2204474 | \n",
       "| 30        | 1         | 0.2248708 | \n",
       "\n",
       "\n"
      ],
      "text/plain": [
       "  Times L RMSE     \n",
       "1 10    1 0.2537323\n",
       "2 20    1 0.2204474\n",
       "3 30    1 0.2248708"
      ]
     },
     "metadata": {},
     "output_type": "display_data"
    }
   ],
   "source": [
    "head(rmse.df,3)"
   ]
  },
  {
   "cell_type": "code",
   "execution_count": 89,
   "metadata": {},
   "outputs": [
    {
     "data": {
      "text/html": [
       "<table>\n",
       "<thead><tr><th></th><th scope=col>Times</th><th scope=col>L</th><th scope=col>RMSE</th></tr></thead>\n",
       "<tbody>\n",
       "\t<tr><th scope=row>2098</th><td>200      </td><td>198      </td><td>0.1691974</td></tr>\n",
       "\t<tr><th scope=row>2099</th><td>200      </td><td>199      </td><td>0.2058949</td></tr>\n",
       "\t<tr><th scope=row>2100</th><td>200      </td><td>200      </td><td>0.1807869</td></tr>\n",
       "</tbody>\n",
       "</table>\n"
      ],
      "text/latex": [
       "\\begin{tabular}{r|lll}\n",
       "  & Times & L & RMSE\\\\\n",
       "\\hline\n",
       "\t2098 & 200       & 198       & 0.1691974\\\\\n",
       "\t2099 & 200       & 199       & 0.2058949\\\\\n",
       "\t2100 & 200       & 200       & 0.1807869\\\\\n",
       "\\end{tabular}\n"
      ],
      "text/markdown": [
       "\n",
       "| <!--/--> | Times | L | RMSE | \n",
       "|---|---|---|\n",
       "| 2098 | 200       | 198       | 0.1691974 | \n",
       "| 2099 | 200       | 199       | 0.2058949 | \n",
       "| 2100 | 200       | 200       | 0.1807869 | \n",
       "\n",
       "\n"
      ],
      "text/plain": [
       "     Times L   RMSE     \n",
       "2098 200   198 0.1691974\n",
       "2099 200   199 0.2058949\n",
       "2100 200   200 0.1807869"
      ]
     },
     "metadata": {},
     "output_type": "display_data"
    }
   ],
   "source": [
    "tail(rmse.df,3)"
   ]
  },
  {
   "cell_type": "code",
   "execution_count": null,
   "metadata": {
    "collapsed": true
   },
   "outputs": [],
   "source": []
  },
  {
   "cell_type": "code",
   "execution_count": 90,
   "metadata": {},
   "outputs": [
    {
     "data": {},
     "metadata": {},
     "output_type": "display_data"
    },
    {
     "data": {
      "image/png": "[encoded data removed]",
      "text/plain": [
       "plot without title"
      ]
     },
     "metadata": {},
     "output_type": "display_data"
    }
   ],
   "source": [
    "options(repr.plot.width=5, repr.plot.height=3.5)\n",
    "ggplot(data=rmse.df, aes(factor(Times), RMSE)) + \n",
    "    geom_boxplot(outlier.shape = NA, fill = 'steelblue') + \n",
    "    scale_color_discrete(guide = guide_legend(title = NULL)) +\n",
    "    ggtitle('RMSE by Times (Times is the Number of Bootstrap Samples\\nof Size=25 with K = 10)')"
   ]
  },
  {
   "cell_type": "markdown",
   "metadata": {},
   "source": [
    "### Q3-5 Results interpretation"
   ]
  },
  {
   "cell_type": "markdown",
   "metadata": {},
   "source": [
    "We see that as the number of boostrapping samples/times increases, the median RMSE fluctuates less and approaches a near constant value. Also the distribution appears to be more approximately normal (ie symmetric), which is probably due to the Central Limit Theorem.\n",
    "\n",
    "It stabilises quite early, ie there is little change in the distribution from times = 50 to 200."
   ]
  },
  {
   "cell_type": "markdown",
   "metadata": {},
   "source": [
    "### Part C. Probabilistic Machine Learning\n",
    "In this part, you show your knowledge about the foundation of the probabilistic machine learning (i.e. probabilistic inference and modeling) by solving one simple but basic statistical inference problems. Solve the following problem based on the probability concepts you have learned in Module 1 with the same math conventions. Please show your work in your report. Also, there are two conceptual questions.\n",
    "\n",
    "#### Question 4 [Bayes Rule] \n",
    "Recall the simple example from Appendix A of Module 1. Suppose we have one red and one blue box. In the red box we have 2 apples and 6 oranges, whilst in the blue box we have 3 apples and 1 orange. Now suppose we randomly selected one of the boxes and picked a fruit. If the picked fruit is an apple, what is the probability that it was picked from the blue box?\n",
    "\n",
    "Note that the chance of picking the red box is 40% and the selection chance for any of the pieces from a box is equal for all the pieces in that box."
   ]
  },
  {
   "cell_type": "markdown",
   "metadata": {
    "collapsed": true
   },
   "source": [
    "## Question 4 [Bayes Rule] "
   ]
  },
  {
   "cell_type": "markdown",
   "metadata": {},
   "source": [
    "<center>Bayes Formula: <center>\n",
    "\n",
    ".\n",
    "\n",
    "$$ P(H|E) = \\frac{P(E|H) P(H)}{P(E)}$$\n",
    "\n",
    "Where $ P(E) = \\sum_h P(E|h)P(h)$ is the marginal likelihood or evidence\n",
    "\n",
    " $P(H)$ is the prior\n",
    " \n",
    " $ P(H|E)$ is the posterior\n",
    " \n",
    " $P(E|H)$ is the likelihood\n",
    "\n",
    "For hypothesis H (blue box) and evidence E (fruit is apple).\n",
    "\n",
    "So let the alternate hypothesis Hc ie the complement of H be (red box)\n",
    "\n",
    "And the complement of the evidence Ec (fruit is orange)."
   ]
  },
  {
   "cell_type": "code",
   "execution_count": 91,
   "metadata": {
    "collapsed": true
   },
   "outputs": [],
   "source": [
    "# set empty Prob dict/named list\n",
    "Prob <- c()\n",
    "\n",
    "\n",
    "# We are given Prob(Red) = 40%\n",
    "p_red <- 0.40\n",
    "# So Prob(Blue) = 1- Prob(Red) = 60%\n",
    "p_blue <- 1-p_red\n",
    "\n",
    "# Convert the H and E notation described above\n",
    "Prob['H'] <- p_blue\n",
    "Prob['Hc'] <- p_red"
   ]
  },
  {
   "cell_type": "markdown",
   "metadata": {},
   "source": [
    "Now we have to fill the likelihood (conditional probability) values"
   ]
  },
  {
   "cell_type": "code",
   "execution_count": 92,
   "metadata": {},
   "outputs": [
    {
     "data": {
      "text/html": [
       "<table>\n",
       "<thead><tr><th></th><th scope=col>E:Positive</th><th scope=col>E:Negative</th></tr></thead>\n",
       "<tbody>\n",
       "\t<tr><th scope=row>H:True</th><td>E|H  </td><td>Ec|H </td></tr>\n",
       "\t<tr><th scope=row>H:False</th><td>E|Hc </td><td>Ec|Hc</td></tr>\n",
       "</tbody>\n",
       "</table>\n"
      ],
      "text/latex": [
       "\\begin{tabular}{r|ll}\n",
       "  & E:Positive & E:Negative\\\\\n",
       "\\hline\n",
       "\tH:True & E\\textbar{}H   & Ec\\textbar{}H \\\\\n",
       "\tH:False & E\\textbar{}Hc  & Ec\\textbar{}Hc\\\\\n",
       "\\end{tabular}\n"
      ],
      "text/markdown": [
       "\n",
       "| <!--/--> | E:Positive | E:Negative | \n",
       "|---|---|\n",
       "| H:True | E|H   | Ec|H  | \n",
       "| H:False | E|Hc  | Ec|Hc | \n",
       "\n",
       "\n"
      ],
      "text/plain": [
       "        E:Positive E:Negative\n",
       "H:True  E|H        Ec|H      \n",
       "H:False E|Hc       Ec|Hc     "
      ]
     },
     "metadata": {},
     "output_type": "display_data"
    }
   ],
   "source": [
    "cond.prob.template <- matrix( c('E|H','E|Hc','Ec|H','Ec|Hc'), nrow = 2)\n",
    "dimnames(cond.prob.template) <- list(c('H:True', 'H:False'), c('E:Positive', 'E:Negative'))\n",
    "cond.prob.template"
   ]
  },
  {
   "cell_type": "markdown",
   "metadata": {},
   "source": [
    "For hypothesis H (blue box) and evidence E (fruit is apple), these become:"
   ]
  },
  {
   "cell_type": "code",
   "execution_count": 93,
   "metadata": {
    "collapsed": true
   },
   "outputs": [],
   "source": [
    "# Blue box has 3 apples, 1 oranges, 4 total\n",
    "    # Prob apple given blue box\n",
    "    Prob['E|H'] <- 3/4\n",
    "    # Prob orange givenv blue box\n",
    "    Prob['Ec|H'] <- 1/4\n",
    "\n",
    "# Red box has 2 apples, 6 orange, 8 total\n",
    "    # Prob apple given red box\n",
    "    Prob['E|Hc'] <- 2/8\n",
    "    # Prob orange givenv red box\n",
    "    Prob['Ec|Hc'] <- 6/8"
   ]
  },
  {
   "cell_type": "code",
   "execution_count": 94,
   "metadata": {},
   "outputs": [
    {
     "data": {
      "text/html": [
       "<table>\n",
       "<thead><tr><th></th><th scope=col>E:Positive</th><th scope=col>E:Negative</th></tr></thead>\n",
       "<tbody>\n",
       "\t<tr><th scope=row>H:True</th><td>0.75</td><td>0.25</td></tr>\n",
       "\t<tr><th scope=row>H:False</th><td>0.25</td><td>0.75</td></tr>\n",
       "</tbody>\n",
       "</table>\n"
      ],
      "text/latex": [
       "\\begin{tabular}{r|ll}\n",
       "  & E:Positive & E:Negative\\\\\n",
       "\\hline\n",
       "\tH:True & 0.75 & 0.25\\\\\n",
       "\tH:False & 0.25 & 0.75\\\\\n",
       "\\end{tabular}\n"
      ],
      "text/markdown": [
       "\n",
       "| <!--/--> | E:Positive | E:Negative | \n",
       "|---|---|\n",
       "| H:True | 0.75 | 0.25 | \n",
       "| H:False | 0.25 | 0.75 | \n",
       "\n",
       "\n"
      ],
      "text/plain": [
       "        E:Positive E:Negative\n",
       "H:True  0.75       0.25      \n",
       "H:False 0.25       0.75      "
      ]
     },
     "metadata": {},
     "output_type": "display_data"
    }
   ],
   "source": [
    "cond.prob.template <- matrix( c(Prob['E|H'],Prob['E|Hc'],Prob['Ec|H'],Prob['Ec|Hc']), nrow = 2)\n",
    "dimnames(cond.prob.template) <- list(c('H:True', 'H:False'), c('E:Positive', 'E:Negative'))\n",
    "cond.prob.template"
   ]
  },
  {
   "cell_type": "code",
   "execution_count": 95,
   "metadata": {
    "collapsed": true
   },
   "outputs": [],
   "source": [
    "# calculate Prob(E) ie the marginal likelihood \n",
    "    #via sum of the likelihood of the evidence given each hypothesis, weighted by the probability of each hypothesis\n",
    "Prob['E'] <- Prob['E|H']*Prob['H'] + Prob['E|Hc']*Prob['Hc']"
   ]
  },
  {
   "cell_type": "code",
   "execution_count": 96,
   "metadata": {
    "collapsed": true
   },
   "outputs": [],
   "source": [
    "# Now applies Bayes Theorem \n",
    "\n",
    "# Posterior\n",
    "Prob['H|E'] <- (Prob['E|H']*Prob['H'])/Prob['E']"
   ]
  },
  {
   "cell_type": "code",
   "execution_count": 97,
   "metadata": {},
   "outputs": [
    {
     "data": {
      "text/html": [
       "<strong>H|E:</strong> 81.8"
      ],
      "text/latex": [
       "\\textbf{H\\textbackslash{}textbar\\{\\}E:} 81.8"
      ],
      "text/markdown": [
       "**H|E:** 81.8"
      ],
      "text/plain": [
       " H|E \n",
       "81.8 "
      ]
     },
     "metadata": {},
     "output_type": "display_data"
    }
   ],
   "source": [
    "# Posterior Probability to 1 decimal place\n",
    "round(Prob['H|E']*100,1)"
   ]
  },
  {
   "cell_type": "markdown",
   "metadata": {},
   "source": [
    "ie there is an 81.8% chance that the hypothesis H(blue box) is true given evidence E(fruit is apple).\n",
    "\n",
    "Intuitively a high probability makes sense here because there is a greater chance of picking the blue box than the red box (60%) and the percentages of apples is much higher in the blue box (75%) than the red box (25%)."
   ]
  },
  {
   "cell_type": "code",
   "execution_count": null,
   "metadata": {
    "collapsed": true
   },
   "outputs": [],
   "source": []
  },
  {
   "cell_type": "code",
   "execution_count": null,
   "metadata": {
    "collapsed": true
   },
   "outputs": [],
   "source": []
  }
 ],
 "metadata": {
  "anaconda-cloud": {},
  "kernelspec": {
   "display_name": "R",
   "language": "R",
   "name": "ir"
  },
  "language_info": {
   "codemirror_mode": "r",
   "file_extension": ".r",
   "mimetype": "text/x-r-source",
   "name": "R",
   "pygments_lexer": "r",
   "version": "3.4.3"
  }
 },
 "nbformat": 4,
 "nbformat_minor": 1
}
